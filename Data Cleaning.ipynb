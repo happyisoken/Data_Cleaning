{
 "cells": [
  {
   "cell_type": "markdown",
   "id": "8a09accc-3d69-44df-b35c-6b2f12749624",
   "metadata": {},
   "source": [
    "# Pre-processing Data in Python #"
   ]
  },
  {
   "cell_type": "code",
   "execution_count": 1,
   "id": "eea836c2-3790-4677-99f4-084c00abe1ab",
   "metadata": {},
   "outputs": [],
   "source": [
    "# It is the process of converting or mapping data from the initial 'raw' form into another format, in order to prepare the data for further analysis.\n",
    "# It is often called data cleaning or data wrangling\n",
    "# In python, we perform operations along columns. Each row of the column represents a sample. A column is accessed by specifying the name of the column. Each of the columns is a pandas series.\n",
    "# The are many ways to manipulate dataframes in python E.g add a value to each entry of the column."
   ]
  },
  {
   "cell_type": "markdown",
   "id": "f23e1729-d570-4a50-94eb-29f3754229ca",
   "metadata": {},
   "source": [
    "## Dealing with missing values in Python ##"
   ]
  },
  {
   "cell_type": "code",
   "execution_count": 2,
   "id": "c05b4b23-d6fc-4489-b0ca-9744836e5c0b",
   "metadata": {},
   "outputs": [],
   "source": [
    "# This occurs when no data value is stored for a variable in an observation. It could be reresented as \"?\", \"N/A\", 0 or blank cell\n",
    "# How to deal with missing values"
   ]
  },
  {
   "cell_type": "code",
   "execution_count": 3,
   "id": "f0c92e1a-2a44-402b-be7d-a163a3f0ce22",
   "metadata": {},
   "outputs": [],
   "source": [
    "import numpy as np\n",
    "import pandas as pd"
   ]
  },
  {
   "cell_type": "markdown",
   "id": "1a97d963-f480-433b-a80a-b09e7e5d10bb",
   "metadata": {},
   "source": [
    "## Dealing with missing values ##"
   ]
  },
  {
   "cell_type": "code",
   "execution_count": null,
   "id": "9131a8fd-91e1-4a10-bc7c-9f0513014023",
   "metadata": {},
   "outputs": [],
   "source": []
  },
  {
   "cell_type": "markdown",
   "id": "eec7add4-d133-4533-9968-701e90464f03",
   "metadata": {},
   "source": [
    "## Handling Missing Data with Pandas ##"
   ]
  },
  {
   "cell_type": "code",
   "execution_count": 4,
   "id": "24568451-3771-4db5-81a0-42b94cb744b6",
   "metadata": {},
   "outputs": [],
   "source": [
    "import numpy as np\n",
    "import pandas as pd"
   ]
  },
  {
   "cell_type": "code",
   "execution_count": 5,
   "id": "7780c402-468f-4d35-8cc2-1b473ef82f1a",
   "metadata": {},
   "outputs": [
    {
     "data": {
      "text/plain": [
       "True"
      ]
     },
     "execution_count": 5,
     "metadata": {},
     "output_type": "execute_result"
    }
   ],
   "source": [
    "pd.isnull(np.nan) # where nan means Not A Number"
   ]
  },
  {
   "cell_type": "code",
   "execution_count": 6,
   "id": "e251a1e4-9ed9-443a-a6bc-3ba6b1ae7664",
   "metadata": {},
   "outputs": [
    {
     "data": {
      "text/plain": [
       "True"
      ]
     },
     "execution_count": 6,
     "metadata": {},
     "output_type": "execute_result"
    }
   ],
   "source": [
    "pd.isnull(None)"
   ]
  },
  {
   "cell_type": "code",
   "execution_count": 7,
   "id": "3e864e8c-aa76-4dd6-897e-b88b9a075e4a",
   "metadata": {},
   "outputs": [
    {
     "data": {
      "text/plain": [
       "True"
      ]
     },
     "execution_count": 7,
     "metadata": {},
     "output_type": "execute_result"
    }
   ],
   "source": [
    "pd.isna(np.nan)"
   ]
  },
  {
   "cell_type": "code",
   "execution_count": 8,
   "id": "e5473458-1f88-463a-ac8d-fb40f47d5af0",
   "metadata": {},
   "outputs": [
    {
     "data": {
      "text/plain": [
       "True"
      ]
     },
     "execution_count": 8,
     "metadata": {},
     "output_type": "execute_result"
    }
   ],
   "source": [
    "pd.isna(None)"
   ]
  },
  {
   "cell_type": "markdown",
   "id": "f815f0e5-f97f-4a18-9dbf-cadf4c0d09c6",
   "metadata": {},
   "source": [
    "The opposite ones also exist"
   ]
  },
  {
   "cell_type": "code",
   "execution_count": 9,
   "id": "b039b179-0677-41e3-874a-b002ef6d9de2",
   "metadata": {},
   "outputs": [
    {
     "data": {
      "text/plain": [
       "False"
      ]
     },
     "execution_count": 9,
     "metadata": {},
     "output_type": "execute_result"
    }
   ],
   "source": [
    "pd.notnull(np.nan)"
   ]
  },
  {
   "cell_type": "code",
   "execution_count": 10,
   "id": "3a60c419-3444-4592-8f5a-ed31cda353c6",
   "metadata": {},
   "outputs": [
    {
     "data": {
      "text/plain": [
       "False"
      ]
     },
     "execution_count": 10,
     "metadata": {},
     "output_type": "execute_result"
    }
   ],
   "source": [
    "pd.notnull(None)"
   ]
  },
  {
   "cell_type": "code",
   "execution_count": 11,
   "id": "787e78aa-0e91-4ca2-8988-5ccc8e6a16b4",
   "metadata": {},
   "outputs": [
    {
     "data": {
      "text/plain": [
       "True"
      ]
     },
     "execution_count": 11,
     "metadata": {},
     "output_type": "execute_result"
    }
   ],
   "source": [
    "pd.notnull(3)"
   ]
  },
  {
   "cell_type": "markdown",
   "id": "61944d00-b782-4e77-af63-9e8820881573",
   "metadata": {},
   "source": [
    "Thisfunction also works witth Series and Dataframes"
   ]
  },
  {
   "cell_type": "code",
   "execution_count": 12,
   "id": "951f9ab3-001f-4ab2-9b62-009ed0ac0558",
   "metadata": {},
   "outputs": [
    {
     "data": {
      "text/plain": [
       "0    False\n",
       "1     True\n",
       "2    False\n",
       "dtype: bool"
      ]
     },
     "execution_count": 12,
     "metadata": {},
     "output_type": "execute_result"
    }
   ],
   "source": [
    "pd.isnull(pd.Series([1, np.nan, 7]))"
   ]
  },
  {
   "cell_type": "code",
   "execution_count": 13,
   "id": "96e0e95e-6b42-479c-820b-9cfc6ec5d5a3",
   "metadata": {},
   "outputs": [
    {
     "data": {
      "text/plain": [
       "0     True\n",
       "1    False\n",
       "2     True\n",
       "dtype: bool"
      ]
     },
     "execution_count": 13,
     "metadata": {},
     "output_type": "execute_result"
    }
   ],
   "source": [
    "pd.notnull(pd.Series([1, np.nan, 7]))"
   ]
  },
  {
   "cell_type": "code",
   "execution_count": 14,
   "id": "27af5166-be7a-482d-b5c6-c1e430a92c97",
   "metadata": {},
   "outputs": [
    {
     "data": {
      "text/html": [
       "<div>\n",
       "<style scoped>\n",
       "    .dataframe tbody tr th:only-of-type {\n",
       "        vertical-align: middle;\n",
       "    }\n",
       "\n",
       "    .dataframe tbody tr th {\n",
       "        vertical-align: top;\n",
       "    }\n",
       "\n",
       "    .dataframe thead th {\n",
       "        text-align: right;\n",
       "    }\n",
       "</style>\n",
       "<table border=\"1\" class=\"dataframe\">\n",
       "  <thead>\n",
       "    <tr style=\"text-align: right;\">\n",
       "      <th></th>\n",
       "      <th>Column A</th>\n",
       "      <th>Column B</th>\n",
       "      <th>Column C</th>\n",
       "    </tr>\n",
       "  </thead>\n",
       "  <tbody>\n",
       "    <tr>\n",
       "      <th>0</th>\n",
       "      <td>False</td>\n",
       "      <td>True</td>\n",
       "      <td>True</td>\n",
       "    </tr>\n",
       "    <tr>\n",
       "      <th>1</th>\n",
       "      <td>True</td>\n",
       "      <td>False</td>\n",
       "      <td>False</td>\n",
       "    </tr>\n",
       "    <tr>\n",
       "      <th>2</th>\n",
       "      <td>False</td>\n",
       "      <td>False</td>\n",
       "      <td>True</td>\n",
       "    </tr>\n",
       "  </tbody>\n",
       "</table>\n",
       "</div>"
      ],
      "text/plain": [
       "   Column A  Column B  Column C\n",
       "0     False      True      True\n",
       "1      True     False     False\n",
       "2     False     False      True"
      ]
     },
     "execution_count": 14,
     "metadata": {},
     "output_type": "execute_result"
    }
   ],
   "source": [
    "pd.isnull(pd.DataFrame({\n",
    "    'Column A': [1, np.nan, 7],\n",
    "    'Column B': [np.nan, 2, 3],\n",
    "    'Column C': [np.nan, 2, np.nan]}))"
   ]
  },
  {
   "cell_type": "markdown",
   "id": "de39c736-dd40-4cac-a790-cb973bea0b00",
   "metadata": {},
   "source": [
    "## Pandas Operations with Missing Values ## "
   ]
  },
  {
   "cell_type": "markdown",
   "id": "baca11fc-8b15-4768-bbbd-d5a0c8035038",
   "metadata": {},
   "source": [
    "Pandas manages missing values more gracefully than numpy"
   ]
  },
  {
   "cell_type": "code",
   "execution_count": 15,
   "id": "8e8c2626-744f-46b5-bac2-5874c3a3b2e6",
   "metadata": {},
   "outputs": [
    {
     "data": {
      "text/plain": [
       "2"
      ]
     },
     "execution_count": 15,
     "metadata": {},
     "output_type": "execute_result"
    }
   ],
   "source": [
    "pd.Series([1, 2, np.nan]).count()"
   ]
  },
  {
   "cell_type": "code",
   "execution_count": 16,
   "id": "01a4447e-b23c-4c4e-9457-862df642a7dd",
   "metadata": {},
   "outputs": [
    {
     "data": {
      "text/plain": [
       "3.0"
      ]
     },
     "execution_count": 16,
     "metadata": {},
     "output_type": "execute_result"
    }
   ],
   "source": [
    "pd.Series([1, 2, np.nan]).sum()"
   ]
  },
  {
   "cell_type": "code",
   "execution_count": 17,
   "id": "5a1fdc9f-8c28-4860-8644-e9125c7122de",
   "metadata": {},
   "outputs": [
    {
     "data": {
      "text/plain": [
       "1.5"
      ]
     },
     "execution_count": 17,
     "metadata": {},
     "output_type": "execute_result"
    }
   ],
   "source": [
    "pd.Series([1, 2, np.nan]).mean()"
   ]
  },
  {
   "cell_type": "markdown",
   "id": "67fe8326-650f-42a3-9897-91d0450e350e",
   "metadata": {},
   "source": [
    "### Filtering missing values ###"
   ]
  },
  {
   "cell_type": "code",
   "execution_count": 18,
   "id": "71b77dc4-e71c-4d89-a424-eb262a966ede",
   "metadata": {},
   "outputs": [],
   "source": [
    "s = pd.Series([1, 2, 3, np.nan, np.nan, 4])"
   ]
  },
  {
   "cell_type": "code",
   "execution_count": 19,
   "id": "36be2145-440c-4971-bd8c-b3c87b500ff5",
   "metadata": {},
   "outputs": [
    {
     "data": {
      "text/plain": [
       "0     True\n",
       "1     True\n",
       "2     True\n",
       "3    False\n",
       "4    False\n",
       "5     True\n",
       "dtype: bool"
      ]
     },
     "execution_count": 19,
     "metadata": {},
     "output_type": "execute_result"
    }
   ],
   "source": [
    "pd.notnull(s)"
   ]
  },
  {
   "cell_type": "code",
   "execution_count": 20,
   "id": "683e5de6-be63-4a07-81f4-7b5fede31d84",
   "metadata": {},
   "outputs": [
    {
     "data": {
      "text/plain": [
       "0    False\n",
       "1    False\n",
       "2    False\n",
       "3     True\n",
       "4     True\n",
       "5    False\n",
       "dtype: bool"
      ]
     },
     "execution_count": 20,
     "metadata": {},
     "output_type": "execute_result"
    }
   ],
   "source": [
    "pd.isnull(s)"
   ]
  },
  {
   "cell_type": "code",
   "execution_count": 21,
   "id": "55b8ed33-b3e3-464d-9e18-1dcbca09c928",
   "metadata": {},
   "outputs": [
    {
     "data": {
      "text/plain": [
       "6"
      ]
     },
     "execution_count": 21,
     "metadata": {},
     "output_type": "execute_result"
    }
   ],
   "source": [
    "pd.notnull(s).count()"
   ]
  },
  {
   "cell_type": "code",
   "execution_count": 22,
   "id": "0d6922d6-7772-449e-889d-d57fd430a9c6",
   "metadata": {},
   "outputs": [
    {
     "data": {
      "text/plain": [
       "0    1.0\n",
       "1    2.0\n",
       "2    3.0\n",
       "5    4.0\n",
       "dtype: float64"
      ]
     },
     "execution_count": 22,
     "metadata": {},
     "output_type": "execute_result"
    }
   ],
   "source": [
    "s[pd.notnull(s)]"
   ]
  },
  {
   "cell_type": "code",
   "execution_count": 23,
   "id": "1b42a23f-ca85-48bd-a573-eb14ad8f5273",
   "metadata": {},
   "outputs": [
    {
     "data": {
      "text/plain": [
       "3   NaN\n",
       "4   NaN\n",
       "dtype: float64"
      ]
     },
     "execution_count": 23,
     "metadata": {},
     "output_type": "execute_result"
    }
   ],
   "source": [
    "s[pd.isnull(s)]"
   ]
  },
  {
   "cell_type": "code",
   "execution_count": 24,
   "id": "8d6092b9-7fb0-4c55-8cc6-e1b3e83764d2",
   "metadata": {},
   "outputs": [
    {
     "data": {
      "text/plain": [
       "4"
      ]
     },
     "execution_count": 24,
     "metadata": {},
     "output_type": "execute_result"
    }
   ],
   "source": [
    "pd.notnull(s).sum() # to get the summary of notnull values"
   ]
  },
  {
   "cell_type": "code",
   "execution_count": 25,
   "id": "468bb4b4-0572-400e-9717-4dffd370e2be",
   "metadata": {},
   "outputs": [
    {
     "data": {
      "text/plain": [
       "2"
      ]
     },
     "execution_count": 25,
     "metadata": {},
     "output_type": "execute_result"
    }
   ],
   "source": [
    "pd.isnull(s).sum() # to get the summary of null values"
   ]
  },
  {
   "cell_type": "markdown",
   "id": "34c586c8-9c33-47a7-aa22-d31ca2d7f121",
   "metadata": {},
   "source": [
    "Both notnull ans isnull are also methods of Series and DataFrame s, so we could use it that way"
   ]
  },
  {
   "cell_type": "code",
   "execution_count": 26,
   "id": "acc73b1e-9549-47f0-9554-b99972d62722",
   "metadata": {},
   "outputs": [
    {
     "data": {
      "text/plain": [
       "0    False\n",
       "1    False\n",
       "2    False\n",
       "3     True\n",
       "4     True\n",
       "5    False\n",
       "dtype: bool"
      ]
     },
     "execution_count": 26,
     "metadata": {},
     "output_type": "execute_result"
    }
   ],
   "source": [
    "s.isnull()"
   ]
  },
  {
   "cell_type": "code",
   "execution_count": 27,
   "id": "c1a6373d-d5b4-4035-bfb9-995f6a8ee956",
   "metadata": {},
   "outputs": [
    {
     "data": {
      "text/plain": [
       "0     True\n",
       "1     True\n",
       "2     True\n",
       "3    False\n",
       "4    False\n",
       "5     True\n",
       "dtype: bool"
      ]
     },
     "execution_count": 27,
     "metadata": {},
     "output_type": "execute_result"
    }
   ],
   "source": [
    "s.notnull()"
   ]
  },
  {
   "cell_type": "code",
   "execution_count": 28,
   "id": "ad5eee45-8995-4a66-8f68-9bab0c55465b",
   "metadata": {},
   "outputs": [
    {
     "data": {
      "text/plain": [
       "0    1.0\n",
       "1    2.0\n",
       "2    3.0\n",
       "5    4.0\n",
       "dtype: float64"
      ]
     },
     "execution_count": 28,
     "metadata": {},
     "output_type": "execute_result"
    }
   ],
   "source": [
    "s[s.notnull()]"
   ]
  },
  {
   "cell_type": "markdown",
   "id": "cb66bc2e-38fd-415d-9d9f-e8904470c6e1",
   "metadata": {},
   "source": [
    "### Dropping null values ###"
   ]
  },
  {
   "cell_type": "code",
   "execution_count": 29,
   "id": "45006712-d996-4d09-b67c-737791c391cd",
   "metadata": {},
   "outputs": [
    {
     "data": {
      "text/plain": [
       "0    1.0\n",
       "1    2.0\n",
       "2    3.0\n",
       "3    NaN\n",
       "4    NaN\n",
       "5    4.0\n",
       "dtype: float64"
      ]
     },
     "execution_count": 29,
     "metadata": {},
     "output_type": "execute_result"
    }
   ],
   "source": [
    "s"
   ]
  },
  {
   "cell_type": "code",
   "execution_count": 30,
   "id": "f9760a98-3616-4e30-a1b5-1d23a623bb44",
   "metadata": {},
   "outputs": [
    {
     "data": {
      "text/plain": [
       "0    1.0\n",
       "1    2.0\n",
       "2    3.0\n",
       "5    4.0\n",
       "dtype: float64"
      ]
     },
     "execution_count": 30,
     "metadata": {},
     "output_type": "execute_result"
    }
   ],
   "source": [
    "s.dropna()"
   ]
  },
  {
   "cell_type": "markdown",
   "id": "af24ff52-8cb2-46e2-af79-2d10f873f3c0",
   "metadata": {},
   "source": [
    "### Dropping null values on DataFrames ###"
   ]
  },
  {
   "cell_type": "code",
   "execution_count": 31,
   "id": "022fb87a-94e0-4407-a8fa-57c4387b66b0",
   "metadata": {},
   "outputs": [],
   "source": [
    "df = pd.DataFrame({\n",
    "    'Column A': [1, np.nan, 30, np.nan],\n",
    "    'Column B': [2, 8, 31, np.nan],\n",
    "    'Column C': [np.nan, 9, 32, 100],\n",
    "    'Column D': [5, 8, 34, 110],\n",
    "})"
   ]
  },
  {
   "cell_type": "code",
   "execution_count": 32,
   "id": "971c4efd-4dd8-4eb0-a7bf-a09964805659",
   "metadata": {},
   "outputs": [
    {
     "data": {
      "text/html": [
       "<div>\n",
       "<style scoped>\n",
       "    .dataframe tbody tr th:only-of-type {\n",
       "        vertical-align: middle;\n",
       "    }\n",
       "\n",
       "    .dataframe tbody tr th {\n",
       "        vertical-align: top;\n",
       "    }\n",
       "\n",
       "    .dataframe thead th {\n",
       "        text-align: right;\n",
       "    }\n",
       "</style>\n",
       "<table border=\"1\" class=\"dataframe\">\n",
       "  <thead>\n",
       "    <tr style=\"text-align: right;\">\n",
       "      <th></th>\n",
       "      <th>Column A</th>\n",
       "      <th>Column B</th>\n",
       "      <th>Column C</th>\n",
       "      <th>Column D</th>\n",
       "    </tr>\n",
       "  </thead>\n",
       "  <tbody>\n",
       "    <tr>\n",
       "      <th>0</th>\n",
       "      <td>1.0</td>\n",
       "      <td>2.0</td>\n",
       "      <td>NaN</td>\n",
       "      <td>5</td>\n",
       "    </tr>\n",
       "    <tr>\n",
       "      <th>1</th>\n",
       "      <td>NaN</td>\n",
       "      <td>8.0</td>\n",
       "      <td>9.0</td>\n",
       "      <td>8</td>\n",
       "    </tr>\n",
       "    <tr>\n",
       "      <th>2</th>\n",
       "      <td>30.0</td>\n",
       "      <td>31.0</td>\n",
       "      <td>32.0</td>\n",
       "      <td>34</td>\n",
       "    </tr>\n",
       "    <tr>\n",
       "      <th>3</th>\n",
       "      <td>NaN</td>\n",
       "      <td>NaN</td>\n",
       "      <td>100.0</td>\n",
       "      <td>110</td>\n",
       "    </tr>\n",
       "  </tbody>\n",
       "</table>\n",
       "</div>"
      ],
      "text/plain": [
       "   Column A  Column B  Column C  Column D\n",
       "0       1.0       2.0       NaN         5\n",
       "1       NaN       8.0       9.0         8\n",
       "2      30.0      31.0      32.0        34\n",
       "3       NaN       NaN     100.0       110"
      ]
     },
     "execution_count": 32,
     "metadata": {},
     "output_type": "execute_result"
    }
   ],
   "source": [
    "df"
   ]
  },
  {
   "cell_type": "code",
   "execution_count": 33,
   "id": "13bf88da-db52-4b69-9747-41a8ae3048bc",
   "metadata": {},
   "outputs": [
    {
     "data": {
      "text/plain": [
       "(4, 4)"
      ]
     },
     "execution_count": 33,
     "metadata": {},
     "output_type": "execute_result"
    }
   ],
   "source": [
    "df.shape"
   ]
  },
  {
   "cell_type": "code",
   "execution_count": 34,
   "id": "cd2dd89d-e2e9-45de-84fa-272ae4b7bbc2",
   "metadata": {},
   "outputs": [
    {
     "name": "stdout",
     "output_type": "stream",
     "text": [
      "<class 'pandas.core.frame.DataFrame'>\n",
      "RangeIndex: 4 entries, 0 to 3\n",
      "Data columns (total 4 columns):\n",
      " #   Column    Non-Null Count  Dtype  \n",
      "---  ------    --------------  -----  \n",
      " 0   Column A  2 non-null      float64\n",
      " 1   Column B  3 non-null      float64\n",
      " 2   Column C  3 non-null      float64\n",
      " 3   Column D  4 non-null      int64  \n",
      "dtypes: float64(3), int64(1)\n",
      "memory usage: 256.0 bytes\n"
     ]
    }
   ],
   "source": [
    "df.info()"
   ]
  },
  {
   "cell_type": "code",
   "execution_count": 35,
   "id": "f61fe839-55f1-4819-8097-5d00059d5134",
   "metadata": {},
   "outputs": [
    {
     "data": {
      "text/html": [
       "<div>\n",
       "<style scoped>\n",
       "    .dataframe tbody tr th:only-of-type {\n",
       "        vertical-align: middle;\n",
       "    }\n",
       "\n",
       "    .dataframe tbody tr th {\n",
       "        vertical-align: top;\n",
       "    }\n",
       "\n",
       "    .dataframe thead th {\n",
       "        text-align: right;\n",
       "    }\n",
       "</style>\n",
       "<table border=\"1\" class=\"dataframe\">\n",
       "  <thead>\n",
       "    <tr style=\"text-align: right;\">\n",
       "      <th></th>\n",
       "      <th>Column A</th>\n",
       "      <th>Column B</th>\n",
       "      <th>Column C</th>\n",
       "      <th>Column D</th>\n",
       "    </tr>\n",
       "  </thead>\n",
       "  <tbody>\n",
       "    <tr>\n",
       "      <th>0</th>\n",
       "      <td>False</td>\n",
       "      <td>False</td>\n",
       "      <td>True</td>\n",
       "      <td>False</td>\n",
       "    </tr>\n",
       "    <tr>\n",
       "      <th>1</th>\n",
       "      <td>True</td>\n",
       "      <td>False</td>\n",
       "      <td>False</td>\n",
       "      <td>False</td>\n",
       "    </tr>\n",
       "    <tr>\n",
       "      <th>2</th>\n",
       "      <td>False</td>\n",
       "      <td>False</td>\n",
       "      <td>False</td>\n",
       "      <td>False</td>\n",
       "    </tr>\n",
       "    <tr>\n",
       "      <th>3</th>\n",
       "      <td>True</td>\n",
       "      <td>True</td>\n",
       "      <td>False</td>\n",
       "      <td>False</td>\n",
       "    </tr>\n",
       "  </tbody>\n",
       "</table>\n",
       "</div>"
      ],
      "text/plain": [
       "   Column A  Column B  Column C  Column D\n",
       "0     False     False      True     False\n",
       "1      True     False     False     False\n",
       "2     False     False     False     False\n",
       "3      True      True     False     False"
      ]
     },
     "execution_count": 35,
     "metadata": {},
     "output_type": "execute_result"
    }
   ],
   "source": [
    "df.isnull()"
   ]
  },
  {
   "cell_type": "code",
   "execution_count": 36,
   "id": "8cf9a88f-d54f-41f8-9df2-9d8e8415ebb2",
   "metadata": {},
   "outputs": [
    {
     "data": {
      "text/plain": [
       "Column A    2\n",
       "Column B    1\n",
       "Column C    1\n",
       "Column D    0\n",
       "dtype: int64"
      ]
     },
     "execution_count": 36,
     "metadata": {},
     "output_type": "execute_result"
    }
   ],
   "source": [
    "df.isnull().sum() # a quick reference of how many null values in the DF"
   ]
  },
  {
   "cell_type": "markdown",
   "id": "a72dc8f6-f143-40e8-9128-41ef900c86cb",
   "metadata": {},
   "source": [
    "The default dropna behavior will drop all the rows in which any null value is present"
   ]
  },
  {
   "cell_type": "code",
   "execution_count": 37,
   "id": "c4db98d8-8d7c-4c4b-a6b7-1fd250a8caac",
   "metadata": {},
   "outputs": [
    {
     "data": {
      "text/html": [
       "<div>\n",
       "<style scoped>\n",
       "    .dataframe tbody tr th:only-of-type {\n",
       "        vertical-align: middle;\n",
       "    }\n",
       "\n",
       "    .dataframe tbody tr th {\n",
       "        vertical-align: top;\n",
       "    }\n",
       "\n",
       "    .dataframe thead th {\n",
       "        text-align: right;\n",
       "    }\n",
       "</style>\n",
       "<table border=\"1\" class=\"dataframe\">\n",
       "  <thead>\n",
       "    <tr style=\"text-align: right;\">\n",
       "      <th></th>\n",
       "      <th>Column A</th>\n",
       "      <th>Column B</th>\n",
       "      <th>Column C</th>\n",
       "      <th>Column D</th>\n",
       "    </tr>\n",
       "  </thead>\n",
       "  <tbody>\n",
       "    <tr>\n",
       "      <th>2</th>\n",
       "      <td>30.0</td>\n",
       "      <td>31.0</td>\n",
       "      <td>32.0</td>\n",
       "      <td>34</td>\n",
       "    </tr>\n",
       "  </tbody>\n",
       "</table>\n",
       "</div>"
      ],
      "text/plain": [
       "   Column A  Column B  Column C  Column D\n",
       "2      30.0      31.0      32.0        34"
      ]
     },
     "execution_count": 37,
     "metadata": {},
     "output_type": "execute_result"
    }
   ],
   "source": [
    "df.dropna() # drops any row that has at least one null value"
   ]
  },
  {
   "cell_type": "markdown",
   "id": "9322b18a-3c90-4a9e-88d4-290357b406bb",
   "metadata": {},
   "source": [
    "In this case we're dropping rows. Rows containing null values are dropped from the DF. You can also use the axis parameter to drop columns containing null values"
   ]
  },
  {
   "cell_type": "code",
   "execution_count": 38,
   "id": "9d016e0b-9c1e-4530-9bb4-6f958841d981",
   "metadata": {},
   "outputs": [
    {
     "data": {
      "text/html": [
       "<div>\n",
       "<style scoped>\n",
       "    .dataframe tbody tr th:only-of-type {\n",
       "        vertical-align: middle;\n",
       "    }\n",
       "\n",
       "    .dataframe tbody tr th {\n",
       "        vertical-align: top;\n",
       "    }\n",
       "\n",
       "    .dataframe thead th {\n",
       "        text-align: right;\n",
       "    }\n",
       "</style>\n",
       "<table border=\"1\" class=\"dataframe\">\n",
       "  <thead>\n",
       "    <tr style=\"text-align: right;\">\n",
       "      <th></th>\n",
       "      <th>Column D</th>\n",
       "    </tr>\n",
       "  </thead>\n",
       "  <tbody>\n",
       "    <tr>\n",
       "      <th>0</th>\n",
       "      <td>5</td>\n",
       "    </tr>\n",
       "    <tr>\n",
       "      <th>1</th>\n",
       "      <td>8</td>\n",
       "    </tr>\n",
       "    <tr>\n",
       "      <th>2</th>\n",
       "      <td>34</td>\n",
       "    </tr>\n",
       "    <tr>\n",
       "      <th>3</th>\n",
       "      <td>110</td>\n",
       "    </tr>\n",
       "  </tbody>\n",
       "</table>\n",
       "</div>"
      ],
      "text/plain": [
       "   Column D\n",
       "0         5\n",
       "1         8\n",
       "2        34\n",
       "3       110"
      ]
     },
     "execution_count": 38,
     "metadata": {},
     "output_type": "execute_result"
    }
   ],
   "source": [
    "df.dropna(axis = 1) # axis = columns also works. This keeps the column that has no null value."
   ]
  },
  {
   "cell_type": "markdown",
   "id": "b7d76b9f-e2f3-41a1-ae73-0977602d3b40",
   "metadata": {},
   "source": [
    "Below, any row or column that contains at least one nul value will be dropped. You can control the behavior with the 'how' parameter which can be either 'any'or 'all'"
   ]
  },
  {
   "cell_type": "code",
   "execution_count": 39,
   "id": "0e23e1b2-4804-4ae4-a7e7-66e0f7c9c48d",
   "metadata": {},
   "outputs": [],
   "source": [
    "df2 = pd.DataFrame({\n",
    "    'Column A': [1, np.nan, 30],\n",
    "    'Column B': [2, np.nan, 31],\n",
    "    'Column C': [np.nan, np.nan, 100],\n",
    "})"
   ]
  },
  {
   "cell_type": "code",
   "execution_count": 40,
   "id": "e2ccfa7a-b4c2-4563-b67f-dd694f496a4c",
   "metadata": {},
   "outputs": [
    {
     "data": {
      "text/html": [
       "<div>\n",
       "<style scoped>\n",
       "    .dataframe tbody tr th:only-of-type {\n",
       "        vertical-align: middle;\n",
       "    }\n",
       "\n",
       "    .dataframe tbody tr th {\n",
       "        vertical-align: top;\n",
       "    }\n",
       "\n",
       "    .dataframe thead th {\n",
       "        text-align: right;\n",
       "    }\n",
       "</style>\n",
       "<table border=\"1\" class=\"dataframe\">\n",
       "  <thead>\n",
       "    <tr style=\"text-align: right;\">\n",
       "      <th></th>\n",
       "      <th>Column A</th>\n",
       "      <th>Column B</th>\n",
       "      <th>Column C</th>\n",
       "    </tr>\n",
       "  </thead>\n",
       "  <tbody>\n",
       "    <tr>\n",
       "      <th>0</th>\n",
       "      <td>1.0</td>\n",
       "      <td>2.0</td>\n",
       "      <td>NaN</td>\n",
       "    </tr>\n",
       "    <tr>\n",
       "      <th>1</th>\n",
       "      <td>NaN</td>\n",
       "      <td>NaN</td>\n",
       "      <td>NaN</td>\n",
       "    </tr>\n",
       "    <tr>\n",
       "      <th>2</th>\n",
       "      <td>30.0</td>\n",
       "      <td>31.0</td>\n",
       "      <td>100.0</td>\n",
       "    </tr>\n",
       "  </tbody>\n",
       "</table>\n",
       "</div>"
      ],
      "text/plain": [
       "   Column A  Column B  Column C\n",
       "0       1.0       2.0       NaN\n",
       "1       NaN       NaN       NaN\n",
       "2      30.0      31.0     100.0"
      ]
     },
     "execution_count": 40,
     "metadata": {},
     "output_type": "execute_result"
    }
   ],
   "source": [
    "df2"
   ]
  },
  {
   "cell_type": "code",
   "execution_count": 41,
   "id": "04334c1a-b3c5-4ee8-a4ea-89a52b81b64e",
   "metadata": {},
   "outputs": [
    {
     "data": {
      "text/html": [
       "<div>\n",
       "<style scoped>\n",
       "    .dataframe tbody tr th:only-of-type {\n",
       "        vertical-align: middle;\n",
       "    }\n",
       "\n",
       "    .dataframe tbody tr th {\n",
       "        vertical-align: top;\n",
       "    }\n",
       "\n",
       "    .dataframe thead th {\n",
       "        text-align: right;\n",
       "    }\n",
       "</style>\n",
       "<table border=\"1\" class=\"dataframe\">\n",
       "  <thead>\n",
       "    <tr style=\"text-align: right;\">\n",
       "      <th></th>\n",
       "      <th>Column A</th>\n",
       "      <th>Column B</th>\n",
       "      <th>Column C</th>\n",
       "      <th>Column D</th>\n",
       "    </tr>\n",
       "  </thead>\n",
       "  <tbody>\n",
       "    <tr>\n",
       "      <th>0</th>\n",
       "      <td>1.0</td>\n",
       "      <td>2.0</td>\n",
       "      <td>NaN</td>\n",
       "      <td>5</td>\n",
       "    </tr>\n",
       "    <tr>\n",
       "      <th>1</th>\n",
       "      <td>NaN</td>\n",
       "      <td>8.0</td>\n",
       "      <td>9.0</td>\n",
       "      <td>8</td>\n",
       "    </tr>\n",
       "    <tr>\n",
       "      <th>2</th>\n",
       "      <td>30.0</td>\n",
       "      <td>31.0</td>\n",
       "      <td>32.0</td>\n",
       "      <td>34</td>\n",
       "    </tr>\n",
       "    <tr>\n",
       "      <th>3</th>\n",
       "      <td>NaN</td>\n",
       "      <td>NaN</td>\n",
       "      <td>100.0</td>\n",
       "      <td>110</td>\n",
       "    </tr>\n",
       "  </tbody>\n",
       "</table>\n",
       "</div>"
      ],
      "text/plain": [
       "   Column A  Column B  Column C  Column D\n",
       "0       1.0       2.0       NaN         5\n",
       "1       NaN       8.0       9.0         8\n",
       "2      30.0      31.0      32.0        34\n",
       "3       NaN       NaN     100.0       110"
      ]
     },
     "execution_count": 41,
     "metadata": {},
     "output_type": "execute_result"
    }
   ],
   "source": [
    "df.dropna(how = 'all') # drops all the rows with all the values null"
   ]
  },
  {
   "cell_type": "code",
   "execution_count": 42,
   "id": "24f0511a-ebac-4de8-a1ee-db19734a1b34",
   "metadata": {},
   "outputs": [
    {
     "data": {
      "text/html": [
       "<div>\n",
       "<style scoped>\n",
       "    .dataframe tbody tr th:only-of-type {\n",
       "        vertical-align: middle;\n",
       "    }\n",
       "\n",
       "    .dataframe tbody tr th {\n",
       "        vertical-align: top;\n",
       "    }\n",
       "\n",
       "    .dataframe thead th {\n",
       "        text-align: right;\n",
       "    }\n",
       "</style>\n",
       "<table border=\"1\" class=\"dataframe\">\n",
       "  <thead>\n",
       "    <tr style=\"text-align: right;\">\n",
       "      <th></th>\n",
       "      <th>Column A</th>\n",
       "      <th>Column B</th>\n",
       "      <th>Column C</th>\n",
       "      <th>Column D</th>\n",
       "    </tr>\n",
       "  </thead>\n",
       "  <tbody>\n",
       "    <tr>\n",
       "      <th>2</th>\n",
       "      <td>30.0</td>\n",
       "      <td>31.0</td>\n",
       "      <td>32.0</td>\n",
       "      <td>34</td>\n",
       "    </tr>\n",
       "  </tbody>\n",
       "</table>\n",
       "</div>"
      ],
      "text/plain": [
       "   Column A  Column B  Column C  Column D\n",
       "2      30.0      31.0      32.0        34"
      ]
     },
     "execution_count": 42,
     "metadata": {},
     "output_type": "execute_result"
    }
   ],
   "source": [
    "df.dropna(how = 'any') # drops all the rows that has any of the values null"
   ]
  },
  {
   "cell_type": "markdown",
   "id": "043502d5-4d97-40d1-acc1-6ada882857c4",
   "metadata": {},
   "source": [
    "We use the thresh parameterto indicate a threshold (a minimum number) of non-null values for the row/column to be kept"
   ]
  },
  {
   "cell_type": "code",
   "execution_count": 43,
   "id": "6b079d45-1472-4171-871e-f1728d275948",
   "metadata": {},
   "outputs": [
    {
     "data": {
      "text/html": [
       "<div>\n",
       "<style scoped>\n",
       "    .dataframe tbody tr th:only-of-type {\n",
       "        vertical-align: middle;\n",
       "    }\n",
       "\n",
       "    .dataframe tbody tr th {\n",
       "        vertical-align: top;\n",
       "    }\n",
       "\n",
       "    .dataframe thead th {\n",
       "        text-align: right;\n",
       "    }\n",
       "</style>\n",
       "<table border=\"1\" class=\"dataframe\">\n",
       "  <thead>\n",
       "    <tr style=\"text-align: right;\">\n",
       "      <th></th>\n",
       "      <th>Column A</th>\n",
       "      <th>Column B</th>\n",
       "      <th>Column C</th>\n",
       "      <th>Column D</th>\n",
       "    </tr>\n",
       "  </thead>\n",
       "  <tbody>\n",
       "    <tr>\n",
       "      <th>0</th>\n",
       "      <td>1.0</td>\n",
       "      <td>2.0</td>\n",
       "      <td>NaN</td>\n",
       "      <td>5</td>\n",
       "    </tr>\n",
       "    <tr>\n",
       "      <th>1</th>\n",
       "      <td>NaN</td>\n",
       "      <td>8.0</td>\n",
       "      <td>9.0</td>\n",
       "      <td>8</td>\n",
       "    </tr>\n",
       "    <tr>\n",
       "      <th>2</th>\n",
       "      <td>30.0</td>\n",
       "      <td>31.0</td>\n",
       "      <td>32.0</td>\n",
       "      <td>34</td>\n",
       "    </tr>\n",
       "    <tr>\n",
       "      <th>3</th>\n",
       "      <td>NaN</td>\n",
       "      <td>NaN</td>\n",
       "      <td>100.0</td>\n",
       "      <td>110</td>\n",
       "    </tr>\n",
       "  </tbody>\n",
       "</table>\n",
       "</div>"
      ],
      "text/plain": [
       "   Column A  Column B  Column C  Column D\n",
       "0       1.0       2.0       NaN         5\n",
       "1       NaN       8.0       9.0         8\n",
       "2      30.0      31.0      32.0        34\n",
       "3       NaN       NaN     100.0       110"
      ]
     },
     "execution_count": 43,
     "metadata": {},
     "output_type": "execute_result"
    }
   ],
   "source": [
    "df"
   ]
  },
  {
   "cell_type": "code",
   "execution_count": 44,
   "id": "b2c419b0-8288-49d6-9a58-ad273e069080",
   "metadata": {},
   "outputs": [
    {
     "data": {
      "text/html": [
       "<div>\n",
       "<style scoped>\n",
       "    .dataframe tbody tr th:only-of-type {\n",
       "        vertical-align: middle;\n",
       "    }\n",
       "\n",
       "    .dataframe tbody tr th {\n",
       "        vertical-align: top;\n",
       "    }\n",
       "\n",
       "    .dataframe thead th {\n",
       "        text-align: right;\n",
       "    }\n",
       "</style>\n",
       "<table border=\"1\" class=\"dataframe\">\n",
       "  <thead>\n",
       "    <tr style=\"text-align: right;\">\n",
       "      <th></th>\n",
       "      <th>Column A</th>\n",
       "      <th>Column B</th>\n",
       "      <th>Column C</th>\n",
       "      <th>Column D</th>\n",
       "    </tr>\n",
       "  </thead>\n",
       "  <tbody>\n",
       "    <tr>\n",
       "      <th>0</th>\n",
       "      <td>1.0</td>\n",
       "      <td>2.0</td>\n",
       "      <td>NaN</td>\n",
       "      <td>5</td>\n",
       "    </tr>\n",
       "    <tr>\n",
       "      <th>1</th>\n",
       "      <td>NaN</td>\n",
       "      <td>8.0</td>\n",
       "      <td>9.0</td>\n",
       "      <td>8</td>\n",
       "    </tr>\n",
       "    <tr>\n",
       "      <th>2</th>\n",
       "      <td>30.0</td>\n",
       "      <td>31.0</td>\n",
       "      <td>32.0</td>\n",
       "      <td>34</td>\n",
       "    </tr>\n",
       "  </tbody>\n",
       "</table>\n",
       "</div>"
      ],
      "text/plain": [
       "   Column A  Column B  Column C  Column D\n",
       "0       1.0       2.0       NaN         5\n",
       "1       NaN       8.0       9.0         8\n",
       "2      30.0      31.0      32.0        34"
      ]
     },
     "execution_count": 44,
     "metadata": {},
     "output_type": "execute_result"
    }
   ],
   "source": [
    "df.dropna(thresh = 3) # keeps the amount of valid values. In this case, keeps rows with 3 valid values"
   ]
  },
  {
   "cell_type": "code",
   "execution_count": 45,
   "id": "0002c41c-38d8-408c-987d-1d267f0a3a50",
   "metadata": {},
   "outputs": [
    {
     "data": {
      "text/html": [
       "<div>\n",
       "<style scoped>\n",
       "    .dataframe tbody tr th:only-of-type {\n",
       "        vertical-align: middle;\n",
       "    }\n",
       "\n",
       "    .dataframe tbody tr th {\n",
       "        vertical-align: top;\n",
       "    }\n",
       "\n",
       "    .dataframe thead th {\n",
       "        text-align: right;\n",
       "    }\n",
       "</style>\n",
       "<table border=\"1\" class=\"dataframe\">\n",
       "  <thead>\n",
       "    <tr style=\"text-align: right;\">\n",
       "      <th></th>\n",
       "      <th>Column B</th>\n",
       "      <th>Column C</th>\n",
       "      <th>Column D</th>\n",
       "    </tr>\n",
       "  </thead>\n",
       "  <tbody>\n",
       "    <tr>\n",
       "      <th>0</th>\n",
       "      <td>2.0</td>\n",
       "      <td>NaN</td>\n",
       "      <td>5</td>\n",
       "    </tr>\n",
       "    <tr>\n",
       "      <th>1</th>\n",
       "      <td>8.0</td>\n",
       "      <td>9.0</td>\n",
       "      <td>8</td>\n",
       "    </tr>\n",
       "    <tr>\n",
       "      <th>2</th>\n",
       "      <td>31.0</td>\n",
       "      <td>32.0</td>\n",
       "      <td>34</td>\n",
       "    </tr>\n",
       "    <tr>\n",
       "      <th>3</th>\n",
       "      <td>NaN</td>\n",
       "      <td>100.0</td>\n",
       "      <td>110</td>\n",
       "    </tr>\n",
       "  </tbody>\n",
       "</table>\n",
       "</div>"
      ],
      "text/plain": [
       "   Column B  Column C  Column D\n",
       "0       2.0       NaN         5\n",
       "1       8.0       9.0         8\n",
       "2      31.0      32.0        34\n",
       "3       NaN     100.0       110"
      ]
     },
     "execution_count": 45,
     "metadata": {},
     "output_type": "execute_result"
    }
   ],
   "source": [
    "df.dropna(thresh = 3, axis = 'columns') # In this case, keeps columns with 3 valid values"
   ]
  },
  {
   "cell_type": "markdown",
   "id": "31db74bb-f07f-46b1-99d3-f607f66ec860",
   "metadata": {},
   "source": [
    "# Filling null values #"
   ]
  },
  {
   "cell_type": "code",
   "execution_count": 46,
   "id": "03d3b399-9d99-4ddc-b758-7dabceb0a7b8",
   "metadata": {},
   "outputs": [
    {
     "data": {
      "text/plain": [
       "0    1.0\n",
       "1    2.0\n",
       "2    3.0\n",
       "3    NaN\n",
       "4    NaN\n",
       "5    4.0\n",
       "dtype: float64"
      ]
     },
     "execution_count": 46,
     "metadata": {},
     "output_type": "execute_result"
    }
   ],
   "source": [
    "s"
   ]
  },
  {
   "cell_type": "markdown",
   "id": "99b79562-48c6-41c7-bf1c-6085d9726a0e",
   "metadata": {},
   "source": [
    "Filling nulls with a arbitrary value. This means to fill the NAs with a particular value or any statistical value."
   ]
  },
  {
   "cell_type": "code",
   "execution_count": 47,
   "id": "63214d3d-5852-4eea-975a-c1bb3d6fb88d",
   "metadata": {},
   "outputs": [
    {
     "data": {
      "text/plain": [
       "0    1.0\n",
       "1    2.0\n",
       "2    3.0\n",
       "3    0.0\n",
       "4    0.0\n",
       "5    4.0\n",
       "dtype: float64"
      ]
     },
     "execution_count": 47,
     "metadata": {},
     "output_type": "execute_result"
    }
   ],
   "source": [
    "s.fillna(0)"
   ]
  },
  {
   "cell_type": "code",
   "execution_count": 48,
   "id": "ff82c05d-3964-4d29-bc8a-8e9e8e9ef036",
   "metadata": {},
   "outputs": [
    {
     "data": {
      "text/plain": [
       "0    1.0\n",
       "1    2.0\n",
       "2    3.0\n",
       "3    2.5\n",
       "4    2.5\n",
       "5    4.0\n",
       "dtype: float64"
      ]
     },
     "execution_count": 48,
     "metadata": {},
     "output_type": "execute_result"
    }
   ],
   "source": [
    "s.fillna(s.mean()) # you can use any statistical method you want "
   ]
  },
  {
   "cell_type": "code",
   "execution_count": 49,
   "id": "e5033a9e-1214-4f1a-8814-ff2e04204c33",
   "metadata": {},
   "outputs": [
    {
     "data": {
      "text/plain": [
       "0    1.0\n",
       "1    2.0\n",
       "2    3.0\n",
       "3    NaN\n",
       "4    NaN\n",
       "5    4.0\n",
       "dtype: float64"
      ]
     },
     "execution_count": 49,
     "metadata": {},
     "output_type": "execute_result"
    }
   ],
   "source": [
    "s"
   ]
  },
  {
   "cell_type": "markdown",
   "id": "11364cd2-78ae-471b-aa0f-f386a10e4ba6",
   "metadata": {},
   "source": [
    "**Filling nulls with contiguous (close) values**"
   ]
  },
  {
   "cell_type": "markdown",
   "id": "48f2f344-8c0e-4ee8-aafe-fb5e8f36917c",
   "metadata": {},
   "source": [
    "The method argument is used to fill null values with other values close to that null one"
   ]
  },
  {
   "cell_type": "code",
   "execution_count": 50,
   "id": "4e510dd7-f783-47f2-9568-58c550e7e2d0",
   "metadata": {},
   "outputs": [
    {
     "data": {
      "text/plain": [
       "0    1.0\n",
       "1    2.0\n",
       "2    3.0\n",
       "3    3.0\n",
       "4    3.0\n",
       "5    4.0\n",
       "dtype: float64"
      ]
     },
     "execution_count": 50,
     "metadata": {},
     "output_type": "execute_result"
    }
   ],
   "source": [
    "s.fillna(method = 'ffill') # forward fill method is used to fill null values close to it top down"
   ]
  },
  {
   "cell_type": "code",
   "execution_count": 51,
   "id": "3ef6f235-58fd-4b6a-b670-f21c77a8771d",
   "metadata": {},
   "outputs": [
    {
     "data": {
      "text/plain": [
       "0    1.0\n",
       "1    2.0\n",
       "2    3.0\n",
       "3    4.0\n",
       "4    4.0\n",
       "5    4.0\n",
       "dtype: float64"
      ]
     },
     "execution_count": 51,
     "metadata": {},
     "output_type": "execute_result"
    }
   ],
   "source": [
    "s.fillna(method = 'bfill') # backward fill method is used to fill null values close to it bottom up"
   ]
  },
  {
   "cell_type": "markdown",
   "id": "5014c404-f520-417c-9616-70ef0f446e3e",
   "metadata": {},
   "source": [
    "This can still leave null values at the other extreme of the Series\\DataFrame"
   ]
  },
  {
   "cell_type": "code",
   "execution_count": 52,
   "id": "7c92b5f3-9b92-4deb-b84f-2e02a76af3c5",
   "metadata": {},
   "outputs": [
    {
     "data": {
      "text/plain": [
       "0    NaN\n",
       "1    3.0\n",
       "2    3.0\n",
       "3    9.0\n",
       "dtype: float64"
      ]
     },
     "execution_count": 52,
     "metadata": {},
     "output_type": "execute_result"
    }
   ],
   "source": [
    "pd.Series([np.nan, 3, np.nan, 9]).fillna(method = 'ffill')"
   ]
  },
  {
   "cell_type": "code",
   "execution_count": 53,
   "id": "81dfb1d3-76bd-46e7-bdc5-3ac4cfcd424d",
   "metadata": {},
   "outputs": [
    {
     "data": {
      "text/plain": [
       "0    1.0\n",
       "1    3.0\n",
       "2    3.0\n",
       "3    NaN\n",
       "4    NaN\n",
       "dtype: float64"
      ]
     },
     "execution_count": 53,
     "metadata": {},
     "output_type": "execute_result"
    }
   ],
   "source": [
    "pd.Series([1, np.nan, 3, np.nan, np.nan]).fillna(method = 'bfill')"
   ]
  },
  {
   "cell_type": "markdown",
   "id": "c08677a1-4ce1-4106-b206-59e575efa501",
   "metadata": {},
   "source": [
    "**Filling null values on DataFrames**"
   ]
  },
  {
   "cell_type": "markdown",
   "id": "3f1cd3cf-af37-4db4-9527-cd45e3417231",
   "metadata": {},
   "source": [
    "The fillna method also works similarly on DataFrames. The only difference is that you can specify the axis (rows & columns to use to fill the values."
   ]
  },
  {
   "cell_type": "code",
   "execution_count": 54,
   "id": "73628015-b7c8-40b9-990e-d4bd1b6067cd",
   "metadata": {},
   "outputs": [
    {
     "data": {
      "text/html": [
       "<div>\n",
       "<style scoped>\n",
       "    .dataframe tbody tr th:only-of-type {\n",
       "        vertical-align: middle;\n",
       "    }\n",
       "\n",
       "    .dataframe tbody tr th {\n",
       "        vertical-align: top;\n",
       "    }\n",
       "\n",
       "    .dataframe thead th {\n",
       "        text-align: right;\n",
       "    }\n",
       "</style>\n",
       "<table border=\"1\" class=\"dataframe\">\n",
       "  <thead>\n",
       "    <tr style=\"text-align: right;\">\n",
       "      <th></th>\n",
       "      <th>Column A</th>\n",
       "      <th>Column B</th>\n",
       "      <th>Column C</th>\n",
       "      <th>Column D</th>\n",
       "    </tr>\n",
       "  </thead>\n",
       "  <tbody>\n",
       "    <tr>\n",
       "      <th>0</th>\n",
       "      <td>1.0</td>\n",
       "      <td>2.0</td>\n",
       "      <td>NaN</td>\n",
       "      <td>5</td>\n",
       "    </tr>\n",
       "    <tr>\n",
       "      <th>1</th>\n",
       "      <td>NaN</td>\n",
       "      <td>8.0</td>\n",
       "      <td>9.0</td>\n",
       "      <td>8</td>\n",
       "    </tr>\n",
       "    <tr>\n",
       "      <th>2</th>\n",
       "      <td>30.0</td>\n",
       "      <td>31.0</td>\n",
       "      <td>32.0</td>\n",
       "      <td>34</td>\n",
       "    </tr>\n",
       "    <tr>\n",
       "      <th>3</th>\n",
       "      <td>NaN</td>\n",
       "      <td>NaN</td>\n",
       "      <td>100.0</td>\n",
       "      <td>110</td>\n",
       "    </tr>\n",
       "  </tbody>\n",
       "</table>\n",
       "</div>"
      ],
      "text/plain": [
       "   Column A  Column B  Column C  Column D\n",
       "0       1.0       2.0       NaN         5\n",
       "1       NaN       8.0       9.0         8\n",
       "2      30.0      31.0      32.0        34\n",
       "3       NaN       NaN     100.0       110"
      ]
     },
     "execution_count": 54,
     "metadata": {},
     "output_type": "execute_result"
    }
   ],
   "source": [
    "df"
   ]
  },
  {
   "cell_type": "code",
   "execution_count": 55,
   "id": "641d9524-27f2-41f2-b364-ff3f663a618d",
   "metadata": {},
   "outputs": [
    {
     "data": {
      "text/html": [
       "<div>\n",
       "<style scoped>\n",
       "    .dataframe tbody tr th:only-of-type {\n",
       "        vertical-align: middle;\n",
       "    }\n",
       "\n",
       "    .dataframe tbody tr th {\n",
       "        vertical-align: top;\n",
       "    }\n",
       "\n",
       "    .dataframe thead th {\n",
       "        text-align: right;\n",
       "    }\n",
       "</style>\n",
       "<table border=\"1\" class=\"dataframe\">\n",
       "  <thead>\n",
       "    <tr style=\"text-align: right;\">\n",
       "      <th></th>\n",
       "      <th>Column A</th>\n",
       "      <th>Column B</th>\n",
       "      <th>Column C</th>\n",
       "      <th>Column D</th>\n",
       "    </tr>\n",
       "  </thead>\n",
       "  <tbody>\n",
       "    <tr>\n",
       "      <th>0</th>\n",
       "      <td>1.0</td>\n",
       "      <td>2.0</td>\n",
       "      <td>47.0</td>\n",
       "      <td>5</td>\n",
       "    </tr>\n",
       "    <tr>\n",
       "      <th>1</th>\n",
       "      <td>0.0</td>\n",
       "      <td>8.0</td>\n",
       "      <td>9.0</td>\n",
       "      <td>8</td>\n",
       "    </tr>\n",
       "    <tr>\n",
       "      <th>2</th>\n",
       "      <td>30.0</td>\n",
       "      <td>31.0</td>\n",
       "      <td>32.0</td>\n",
       "      <td>34</td>\n",
       "    </tr>\n",
       "    <tr>\n",
       "      <th>3</th>\n",
       "      <td>0.0</td>\n",
       "      <td>99.0</td>\n",
       "      <td>100.0</td>\n",
       "      <td>110</td>\n",
       "    </tr>\n",
       "  </tbody>\n",
       "</table>\n",
       "</div>"
      ],
      "text/plain": [
       "   Column A  Column B  Column C  Column D\n",
       "0       1.0       2.0      47.0         5\n",
       "1       0.0       8.0       9.0         8\n",
       "2      30.0      31.0      32.0        34\n",
       "3       0.0      99.0     100.0       110"
      ]
     },
     "execution_count": 55,
     "metadata": {},
     "output_type": "execute_result"
    }
   ],
   "source": [
    "df.fillna({'Column A': 0, 'Column B': 99, 'Column C': df['Column C'].mean()}) "
   ]
  },
  {
   "cell_type": "code",
   "execution_count": 56,
   "id": "8c665f2f-3bd8-4a4f-aec2-075e797ad7f1",
   "metadata": {},
   "outputs": [
    {
     "data": {
      "text/html": [
       "<div>\n",
       "<style scoped>\n",
       "    .dataframe tbody tr th:only-of-type {\n",
       "        vertical-align: middle;\n",
       "    }\n",
       "\n",
       "    .dataframe tbody tr th {\n",
       "        vertical-align: top;\n",
       "    }\n",
       "\n",
       "    .dataframe thead th {\n",
       "        text-align: right;\n",
       "    }\n",
       "</style>\n",
       "<table border=\"1\" class=\"dataframe\">\n",
       "  <thead>\n",
       "    <tr style=\"text-align: right;\">\n",
       "      <th></th>\n",
       "      <th>Column A</th>\n",
       "      <th>Column B</th>\n",
       "      <th>Column C</th>\n",
       "      <th>Column D</th>\n",
       "    </tr>\n",
       "  </thead>\n",
       "  <tbody>\n",
       "    <tr>\n",
       "      <th>0</th>\n",
       "      <td>1.0</td>\n",
       "      <td>2.0</td>\n",
       "      <td>NaN</td>\n",
       "      <td>5</td>\n",
       "    </tr>\n",
       "    <tr>\n",
       "      <th>1</th>\n",
       "      <td>1.0</td>\n",
       "      <td>8.0</td>\n",
       "      <td>9.0</td>\n",
       "      <td>8</td>\n",
       "    </tr>\n",
       "    <tr>\n",
       "      <th>2</th>\n",
       "      <td>30.0</td>\n",
       "      <td>31.0</td>\n",
       "      <td>32.0</td>\n",
       "      <td>34</td>\n",
       "    </tr>\n",
       "    <tr>\n",
       "      <th>3</th>\n",
       "      <td>30.0</td>\n",
       "      <td>31.0</td>\n",
       "      <td>100.0</td>\n",
       "      <td>110</td>\n",
       "    </tr>\n",
       "  </tbody>\n",
       "</table>\n",
       "</div>"
      ],
      "text/plain": [
       "   Column A  Column B  Column C  Column D\n",
       "0       1.0       2.0       NaN         5\n",
       "1       1.0       8.0       9.0         8\n",
       "2      30.0      31.0      32.0        34\n",
       "3      30.0      31.0     100.0       110"
      ]
     },
     "execution_count": 56,
     "metadata": {},
     "output_type": "execute_result"
    }
   ],
   "source": [
    "df.fillna(method = 'ffill', axis = 0) # this fills the columns top down"
   ]
  },
  {
   "cell_type": "code",
   "execution_count": 57,
   "id": "1fdd08c4-a5b9-4143-aeb8-e4a95d1b8bc8",
   "metadata": {},
   "outputs": [
    {
     "data": {
      "text/html": [
       "<div>\n",
       "<style scoped>\n",
       "    .dataframe tbody tr th:only-of-type {\n",
       "        vertical-align: middle;\n",
       "    }\n",
       "\n",
       "    .dataframe tbody tr th {\n",
       "        vertical-align: top;\n",
       "    }\n",
       "\n",
       "    .dataframe thead th {\n",
       "        text-align: right;\n",
       "    }\n",
       "</style>\n",
       "<table border=\"1\" class=\"dataframe\">\n",
       "  <thead>\n",
       "    <tr style=\"text-align: right;\">\n",
       "      <th></th>\n",
       "      <th>Column A</th>\n",
       "      <th>Column B</th>\n",
       "      <th>Column C</th>\n",
       "      <th>Column D</th>\n",
       "    </tr>\n",
       "  </thead>\n",
       "  <tbody>\n",
       "    <tr>\n",
       "      <th>0</th>\n",
       "      <td>1.0</td>\n",
       "      <td>2.0</td>\n",
       "      <td>2.0</td>\n",
       "      <td>5.0</td>\n",
       "    </tr>\n",
       "    <tr>\n",
       "      <th>1</th>\n",
       "      <td>NaN</td>\n",
       "      <td>8.0</td>\n",
       "      <td>9.0</td>\n",
       "      <td>8.0</td>\n",
       "    </tr>\n",
       "    <tr>\n",
       "      <th>2</th>\n",
       "      <td>30.0</td>\n",
       "      <td>31.0</td>\n",
       "      <td>32.0</td>\n",
       "      <td>34.0</td>\n",
       "    </tr>\n",
       "    <tr>\n",
       "      <th>3</th>\n",
       "      <td>NaN</td>\n",
       "      <td>NaN</td>\n",
       "      <td>100.0</td>\n",
       "      <td>110.0</td>\n",
       "    </tr>\n",
       "  </tbody>\n",
       "</table>\n",
       "</div>"
      ],
      "text/plain": [
       "   Column A  Column B  Column C  Column D\n",
       "0       1.0       2.0       2.0       5.0\n",
       "1       NaN       8.0       9.0       8.0\n",
       "2      30.0      31.0      32.0      34.0\n",
       "3       NaN       NaN     100.0     110.0"
      ]
     },
     "execution_count": 57,
     "metadata": {},
     "output_type": "execute_result"
    }
   ],
   "source": [
    "df.fillna(method = 'ffill', axis = 1) # this fills the rows from left to right (horizontally)"
   ]
  },
  {
   "cell_type": "markdown",
   "id": "c16694cf-3d21-4e21-ae29-251abd5b7177",
   "metadata": {},
   "source": [
    "### Hands on! ###"
   ]
  },
  {
   "cell_type": "code",
   "execution_count": 58,
   "id": "e19c67cf-520b-464e-8510-a1062a23a77e",
   "metadata": {},
   "outputs": [
    {
     "data": {
      "text/html": [
       "<div>\n",
       "<style scoped>\n",
       "    .dataframe tbody tr th:only-of-type {\n",
       "        vertical-align: middle;\n",
       "    }\n",
       "\n",
       "    .dataframe tbody tr th {\n",
       "        vertical-align: top;\n",
       "    }\n",
       "\n",
       "    .dataframe thead th {\n",
       "        text-align: right;\n",
       "    }\n",
       "</style>\n",
       "<table border=\"1\" class=\"dataframe\">\n",
       "  <thead>\n",
       "    <tr style=\"text-align: right;\">\n",
       "      <th></th>\n",
       "      <th>Sex</th>\n",
       "      <th>Age</th>\n",
       "    </tr>\n",
       "  </thead>\n",
       "  <tbody>\n",
       "    <tr>\n",
       "      <th>0</th>\n",
       "      <td>M</td>\n",
       "      <td>29</td>\n",
       "    </tr>\n",
       "    <tr>\n",
       "      <th>1</th>\n",
       "      <td>F</td>\n",
       "      <td>30</td>\n",
       "    </tr>\n",
       "    <tr>\n",
       "      <th>2</th>\n",
       "      <td>F</td>\n",
       "      <td>24</td>\n",
       "    </tr>\n",
       "    <tr>\n",
       "      <th>3</th>\n",
       "      <td>D</td>\n",
       "      <td>290</td>\n",
       "    </tr>\n",
       "    <tr>\n",
       "      <th>4</th>\n",
       "      <td>?</td>\n",
       "      <td>25</td>\n",
       "    </tr>\n",
       "  </tbody>\n",
       "</table>\n",
       "</div>"
      ],
      "text/plain": [
       "  Sex  Age\n",
       "0   M   29\n",
       "1   F   30\n",
       "2   F   24\n",
       "3   D  290\n",
       "4   ?   25"
      ]
     },
     "execution_count": 58,
     "metadata": {},
     "output_type": "execute_result"
    }
   ],
   "source": [
    "df = pd.DataFrame({\n",
    "    'Sex': ['M', 'F','F', 'D', '?'],\n",
    "    'Age': [29, 30, 24, 290, 25],\n",
    "})\n",
    "df"
   ]
  },
  {
   "cell_type": "markdown",
   "id": "0abbd7dc-7682-4a81-8947-fb06702947ea",
   "metadata": {},
   "source": [
    "Finding Unique Values"
   ]
  },
  {
   "cell_type": "code",
   "execution_count": 59,
   "id": "253982bb-8403-4cc8-9188-65641035e32b",
   "metadata": {},
   "outputs": [
    {
     "data": {
      "text/plain": [
       "array(['M', 'F', 'D', '?'], dtype=object)"
      ]
     },
     "execution_count": 59,
     "metadata": {},
     "output_type": "execute_result"
    }
   ],
   "source": [
    "df['Sex'].unique()"
   ]
  },
  {
   "cell_type": "code",
   "execution_count": 60,
   "id": "2ef5bf3a-dbde-4805-9990-a11b7ee09171",
   "metadata": {},
   "outputs": [
    {
     "data": {
      "text/plain": [
       "F    2\n",
       "M    1\n",
       "D    1\n",
       "?    1\n",
       "Name: Sex, dtype: int64"
      ]
     },
     "execution_count": 60,
     "metadata": {},
     "output_type": "execute_result"
    }
   ],
   "source": [
    "df['Sex'].value_counts()"
   ]
  },
  {
   "cell_type": "code",
   "execution_count": 61,
   "id": "e92a9341-43d6-4c78-8a30-e16873914548",
   "metadata": {},
   "outputs": [
    {
     "data": {
      "text/plain": [
       "0    M\n",
       "1    F\n",
       "2    F\n",
       "3    F\n",
       "4    ?\n",
       "Name: Sex, dtype: object"
      ]
     },
     "execution_count": 61,
     "metadata": {},
     "output_type": "execute_result"
    }
   ],
   "source": [
    "df['Sex'].replace('D', 'F')"
   ]
  },
  {
   "cell_type": "code",
   "execution_count": 62,
   "id": "b975f79c-6d3e-4840-871d-3cbd117869ae",
   "metadata": {},
   "outputs": [
    {
     "data": {
      "text/plain": [
       "0    M\n",
       "1    F\n",
       "2    F\n",
       "3    F\n",
       "4    ?\n",
       "Name: Sex, dtype: object"
      ]
     },
     "execution_count": 62,
     "metadata": {},
     "output_type": "execute_result"
    }
   ],
   "source": [
    "df['Sex'].replace({'D':'F', 'N':'N'})"
   ]
  },
  {
   "cell_type": "code",
   "execution_count": 63,
   "id": "7707e665-33f9-4791-a4f9-c48c66551232",
   "metadata": {},
   "outputs": [
    {
     "data": {
      "text/html": [
       "<div>\n",
       "<style scoped>\n",
       "    .dataframe tbody tr th:only-of-type {\n",
       "        vertical-align: middle;\n",
       "    }\n",
       "\n",
       "    .dataframe tbody tr th {\n",
       "        vertical-align: top;\n",
       "    }\n",
       "\n",
       "    .dataframe thead th {\n",
       "        text-align: right;\n",
       "    }\n",
       "</style>\n",
       "<table border=\"1\" class=\"dataframe\">\n",
       "  <thead>\n",
       "    <tr style=\"text-align: right;\">\n",
       "      <th></th>\n",
       "      <th>Sex</th>\n",
       "      <th>Age</th>\n",
       "    </tr>\n",
       "  </thead>\n",
       "  <tbody>\n",
       "    <tr>\n",
       "      <th>0</th>\n",
       "      <td>M</td>\n",
       "      <td>29</td>\n",
       "    </tr>\n",
       "    <tr>\n",
       "      <th>1</th>\n",
       "      <td>F</td>\n",
       "      <td>30</td>\n",
       "    </tr>\n",
       "    <tr>\n",
       "      <th>2</th>\n",
       "      <td>F</td>\n",
       "      <td>24</td>\n",
       "    </tr>\n",
       "    <tr>\n",
       "      <th>3</th>\n",
       "      <td>F</td>\n",
       "      <td>29</td>\n",
       "    </tr>\n",
       "    <tr>\n",
       "      <th>4</th>\n",
       "      <td>?</td>\n",
       "      <td>25</td>\n",
       "    </tr>\n",
       "  </tbody>\n",
       "</table>\n",
       "</div>"
      ],
      "text/plain": [
       "  Sex  Age\n",
       "0   M   29\n",
       "1   F   30\n",
       "2   F   24\n",
       "3   F   29\n",
       "4   ?   25"
      ]
     },
     "execution_count": 63,
     "metadata": {},
     "output_type": "execute_result"
    }
   ],
   "source": [
    "df.replace({\n",
    "    'Sex': {\n",
    "        'D':'F',\n",
    "        'N': 'M'\n",
    "    },\n",
    "    'Age': {\n",
    "        290: 29\n",
    "    }\n",
    "})"
   ]
  },
  {
   "cell_type": "code",
   "execution_count": 64,
   "id": "b9b0c436-04b4-4391-a833-118d4dfa999a",
   "metadata": {},
   "outputs": [
    {
     "data": {
      "text/html": [
       "<div>\n",
       "<style scoped>\n",
       "    .dataframe tbody tr th:only-of-type {\n",
       "        vertical-align: middle;\n",
       "    }\n",
       "\n",
       "    .dataframe tbody tr th {\n",
       "        vertical-align: top;\n",
       "    }\n",
       "\n",
       "    .dataframe thead th {\n",
       "        text-align: right;\n",
       "    }\n",
       "</style>\n",
       "<table border=\"1\" class=\"dataframe\">\n",
       "  <thead>\n",
       "    <tr style=\"text-align: right;\">\n",
       "      <th></th>\n",
       "      <th>Sex</th>\n",
       "      <th>Age</th>\n",
       "    </tr>\n",
       "  </thead>\n",
       "  <tbody>\n",
       "    <tr>\n",
       "      <th>3</th>\n",
       "      <td>D</td>\n",
       "      <td>290</td>\n",
       "    </tr>\n",
       "  </tbody>\n",
       "</table>\n",
       "</div>"
      ],
      "text/plain": [
       "  Sex  Age\n",
       "3   D  290"
      ]
     },
     "execution_count": 64,
     "metadata": {},
     "output_type": "execute_result"
    }
   ],
   "source": [
    "df[df['Age'] > 100]"
   ]
  },
  {
   "cell_type": "code",
   "execution_count": 65,
   "id": "01250cad-9723-4fba-8a56-2d6c84fc68ff",
   "metadata": {},
   "outputs": [],
   "source": [
    "df.loc[df['Age'] > 100, 'Age'] = df.loc[df['Age'] > 100, 'Age'] / 10"
   ]
  },
  {
   "cell_type": "code",
   "execution_count": 66,
   "id": "1b24a09e-2471-4454-87cf-0c38b6696bc3",
   "metadata": {},
   "outputs": [
    {
     "data": {
      "text/html": [
       "<div>\n",
       "<style scoped>\n",
       "    .dataframe tbody tr th:only-of-type {\n",
       "        vertical-align: middle;\n",
       "    }\n",
       "\n",
       "    .dataframe tbody tr th {\n",
       "        vertical-align: top;\n",
       "    }\n",
       "\n",
       "    .dataframe thead th {\n",
       "        text-align: right;\n",
       "    }\n",
       "</style>\n",
       "<table border=\"1\" class=\"dataframe\">\n",
       "  <thead>\n",
       "    <tr style=\"text-align: right;\">\n",
       "      <th></th>\n",
       "      <th>Sex</th>\n",
       "      <th>Age</th>\n",
       "    </tr>\n",
       "  </thead>\n",
       "  <tbody>\n",
       "    <tr>\n",
       "      <th>0</th>\n",
       "      <td>M</td>\n",
       "      <td>29.0</td>\n",
       "    </tr>\n",
       "    <tr>\n",
       "      <th>1</th>\n",
       "      <td>F</td>\n",
       "      <td>30.0</td>\n",
       "    </tr>\n",
       "    <tr>\n",
       "      <th>2</th>\n",
       "      <td>F</td>\n",
       "      <td>24.0</td>\n",
       "    </tr>\n",
       "    <tr>\n",
       "      <th>3</th>\n",
       "      <td>D</td>\n",
       "      <td>29.0</td>\n",
       "    </tr>\n",
       "    <tr>\n",
       "      <th>4</th>\n",
       "      <td>?</td>\n",
       "      <td>25.0</td>\n",
       "    </tr>\n",
       "  </tbody>\n",
       "</table>\n",
       "</div>"
      ],
      "text/plain": [
       "  Sex   Age\n",
       "0   M  29.0\n",
       "1   F  30.0\n",
       "2   F  24.0\n",
       "3   D  29.0\n",
       "4   ?  25.0"
      ]
     },
     "execution_count": 66,
     "metadata": {},
     "output_type": "execute_result"
    }
   ],
   "source": [
    "df"
   ]
  },
  {
   "cell_type": "code",
   "execution_count": null,
   "id": "8ca6872c-bd53-44f7-9cad-28f8b1934059",
   "metadata": {},
   "outputs": [],
   "source": []
  },
  {
   "cell_type": "markdown",
   "id": "df52a0a6-71b7-40b4-9965-257706207fd4",
   "metadata": {},
   "source": [
    "**Checking if there are NAs**"
   ]
  },
  {
   "cell_type": "markdown",
   "id": "4bebbece-71c1-48fa-9d57-426a9394f172",
   "metadata": {},
   "source": [
    "Example 1: \n",
    "Checking the length # if there are missing values, s.dropna() will have less elements than s"
   ]
  },
  {
   "cell_type": "code",
   "execution_count": 67,
   "id": "b3ab4d92-64ca-4db3-b3b9-10510d0a33b6",
   "metadata": {},
   "outputs": [
    {
     "data": {
      "text/plain": [
       "4"
      ]
     },
     "execution_count": 67,
     "metadata": {},
     "output_type": "execute_result"
    }
   ],
   "source": [
    "s.dropna().count() # to check how many null values exists"
   ]
  },
  {
   "cell_type": "code",
   "execution_count": 68,
   "id": "4ac9338f-5aed-4747-a971-84f830796995",
   "metadata": {},
   "outputs": [
    {
     "data": {
      "text/plain": [
       "True"
      ]
     },
     "execution_count": 68,
     "metadata": {},
     "output_type": "execute_result"
    }
   ],
   "source": [
    "missing_values = len(s.dropna()) != len(s)\n",
    "missing_values"
   ]
  },
  {
   "cell_type": "code",
   "execution_count": 69,
   "id": "752f4181-4d5c-4ea3-a40f-78fae0357006",
   "metadata": {},
   "outputs": [
    {
     "data": {
      "text/plain": [
       "6"
      ]
     },
     "execution_count": 69,
     "metadata": {},
     "output_type": "execute_result"
    }
   ],
   "source": [
    "len(s)"
   ]
  },
  {
   "cell_type": "code",
   "execution_count": 70,
   "id": "32e3d89e-431c-401e-b60a-c59853672623",
   "metadata": {},
   "outputs": [
    {
     "data": {
      "text/plain": [
       "4"
      ]
     },
     "execution_count": 70,
     "metadata": {},
     "output_type": "execute_result"
    }
   ],
   "source": [
    "s.count()"
   ]
  },
  {
   "cell_type": "code",
   "execution_count": 71,
   "id": "b651e09c-9bcd-4fe7-812e-bf4b048faddf",
   "metadata": {},
   "outputs": [
    {
     "data": {
      "text/plain": [
       "True"
      ]
     },
     "execution_count": 71,
     "metadata": {},
     "output_type": "execute_result"
    }
   ],
   "source": [
    "missing_values = s.count() != len(s)\n",
    "missing_values"
   ]
  },
  {
   "cell_type": "markdown",
   "id": "7c57cac3-341d-40c4-9571-30d09cac68d9",
   "metadata": {},
   "source": [
    "**More Pythonic solution any**"
   ]
  },
  {
   "cell_type": "markdown",
   "id": "b0d3cadb-7bc2-405f-8ca8-fede17a001fc",
   "metadata": {},
   "source": [
    "The method any and all check if either there's any True value in a series or all the values are True"
   ]
  },
  {
   "cell_type": "code",
   "execution_count": 72,
   "id": "bad869de-3014-470a-a635-a555e076f88d",
   "metadata": {},
   "outputs": [
    {
     "data": {
      "text/plain": [
       "True"
      ]
     },
     "execution_count": 72,
     "metadata": {},
     "output_type": "execute_result"
    }
   ],
   "source": [
    "pd.Series([True, False, False]).any()"
   ]
  },
  {
   "cell_type": "code",
   "execution_count": 73,
   "id": "371cbcf3-9629-4d6e-bfc6-5408d0ad0cdc",
   "metadata": {},
   "outputs": [
    {
     "data": {
      "text/plain": [
       "False"
      ]
     },
     "execution_count": 73,
     "metadata": {},
     "output_type": "execute_result"
    }
   ],
   "source": [
    "pd.Series([True, False, False]).all()"
   ]
  },
  {
   "cell_type": "code",
   "execution_count": 74,
   "id": "6eb07e98-5cad-4fd2-abb7-81e677d76a15",
   "metadata": {},
   "outputs": [
    {
     "data": {
      "text/plain": [
       "True"
      ]
     },
     "execution_count": 74,
     "metadata": {},
     "output_type": "execute_result"
    }
   ],
   "source": [
    "pd.Series([True, True, True]).all()"
   ]
  },
  {
   "cell_type": "markdown",
   "id": "896215cf-858c-48a6-8900-5fbde8ae340e",
   "metadata": {},
   "source": [
    "The isnull() method returned a Boolean Series"
   ]
  },
  {
   "cell_type": "code",
   "execution_count": 75,
   "id": "2ee310f4-de11-4906-bad3-79b672ac9d19",
   "metadata": {},
   "outputs": [
    {
     "data": {
      "text/plain": [
       "0    False\n",
       "1    False\n",
       "2    False\n",
       "3     True\n",
       "4     True\n",
       "5    False\n",
       "dtype: bool"
      ]
     },
     "execution_count": 75,
     "metadata": {},
     "output_type": "execute_result"
    }
   ],
   "source": [
    "s.isnull()"
   ]
  },
  {
   "cell_type": "markdown",
   "id": "be54d96a-d68f-495a-9d5c-4cac41ad434a",
   "metadata": {},
   "source": [
    "So we can just use the any method with the boolean array returned"
   ]
  },
  {
   "cell_type": "code",
   "execution_count": 76,
   "id": "80faf9bb-1246-4252-b3bf-5a8ebda88368",
   "metadata": {},
   "outputs": [
    {
     "data": {
      "text/plain": [
       "True"
      ]
     },
     "execution_count": 76,
     "metadata": {},
     "output_type": "execute_result"
    }
   ],
   "source": [
    "pd.Series([1, np.nan]).isnull().any()"
   ]
  },
  {
   "cell_type": "code",
   "execution_count": 77,
   "id": "0bfdb538-e92b-4821-83d3-7488c5dfb1f4",
   "metadata": {},
   "outputs": [
    {
     "data": {
      "text/plain": [
       "False"
      ]
     },
     "execution_count": 77,
     "metadata": {},
     "output_type": "execute_result"
    }
   ],
   "source": [
    "pd.Series([1, 2]).isnull().any()"
   ]
  },
  {
   "cell_type": "code",
   "execution_count": 78,
   "id": "93c2d075-4be4-4203-8e23-473f4f843e42",
   "metadata": {},
   "outputs": [
    {
     "data": {
      "text/plain": [
       "True"
      ]
     },
     "execution_count": 78,
     "metadata": {},
     "output_type": "execute_result"
    }
   ],
   "source": [
    "s.isnull().any()"
   ]
  },
  {
   "cell_type": "markdown",
   "id": "9e053af7-5b52-459b-9159-1d267d787d69",
   "metadata": {},
   "source": [
    "A more strict version checks only the values of the series"
   ]
  },
  {
   "cell_type": "code",
   "execution_count": 79,
   "id": "225a348e-2236-45be-bd74-d831954f87cd",
   "metadata": {},
   "outputs": [
    {
     "data": {
      "text/plain": [
       "array([False, False, False,  True,  True, False])"
      ]
     },
     "execution_count": 79,
     "metadata": {},
     "output_type": "execute_result"
    }
   ],
   "source": [
    "s.isnull().values"
   ]
  },
  {
   "cell_type": "code",
   "execution_count": 80,
   "id": "e2bcd3cc-194a-4f9d-bb8e-eef70f99fa59",
   "metadata": {},
   "outputs": [
    {
     "data": {
      "text/plain": [
       "True"
      ]
     },
     "execution_count": 80,
     "metadata": {},
     "output_type": "execute_result"
    }
   ],
   "source": [
    "s.isnull().values.any()"
   ]
  },
  {
   "cell_type": "code",
   "execution_count": null,
   "id": "322425f6-ea78-4ba4-bc52-5a64ec7d8c3e",
   "metadata": {},
   "outputs": [],
   "source": []
  },
  {
   "cell_type": "markdown",
   "id": "56dd7bc0-4d46-402b-ba51-5d23f87cebd7",
   "metadata": {},
   "source": [
    "## Duplicates ##"
   ]
  },
  {
   "cell_type": "markdown",
   "id": "2233d3cd-badb-42a7-bcbd-4927a74635fa",
   "metadata": {},
   "source": [
    "Dealing with duplicates in data series. Example is when ambassadors are invited to a party and we do not want more than one ambassador per country."
   ]
  },
  {
   "cell_type": "code",
   "execution_count": 81,
   "id": "6a32a90e-f6d8-4e9e-830a-e21c82175c96",
   "metadata": {},
   "outputs": [],
   "source": [
    "ambassadors = pd.Series([\n",
    "    'France',\n",
    "    'United Kingdom',\n",
    "    'United Kingdom',\n",
    "    'Italy',\n",
    "    'Germany',\n",
    "    'Germany',\n",
    "    'Germany',\n",
    "],  index = [\n",
    "    'Gerard Araud',\n",
    "    'Kim Dorroch',\n",
    "    'Peter Westmacott',\n",
    "    'Armando Verricchio', \n",
    "    'Peter Wittig',\n",
    "    'Peter Amon',\n",
    "    'Klaus Scharioth',\n",
    "])"
   ]
  },
  {
   "cell_type": "code",
   "execution_count": 82,
   "id": "26a21828-0a14-4450-8532-c02c598c7b24",
   "metadata": {},
   "outputs": [
    {
     "data": {
      "text/plain": [
       "Gerard Araud                  France\n",
       "Kim Dorroch           United Kingdom\n",
       "Peter Westmacott      United Kingdom\n",
       "Armando Verricchio             Italy\n",
       "Peter Wittig                 Germany\n",
       "Peter Amon                   Germany\n",
       "Klaus Scharioth              Germany\n",
       "dtype: object"
      ]
     },
     "execution_count": 82,
     "metadata": {},
     "output_type": "execute_result"
    }
   ],
   "source": [
    "ambassadors"
   ]
  },
  {
   "cell_type": "markdown",
   "id": "ae3849a9-0c51-4bf5-8f7e-497331d1ca84",
   "metadata": {},
   "source": [
    "The 2 most important methods to deal with duplicates are 'duplicated' (tells you which values are duplicated) and 'drop_duplicates (gets rid of the duplicates):"
   ]
  },
  {
   "cell_type": "code",
   "execution_count": 83,
   "id": "401ea830-911e-40a0-8fa3-ca121c1eb7fd",
   "metadata": {},
   "outputs": [
    {
     "data": {
      "text/plain": [
       "Gerard Araud          False\n",
       "Kim Dorroch           False\n",
       "Peter Westmacott       True\n",
       "Armando Verricchio    False\n",
       "Peter Wittig          False\n",
       "Peter Amon             True\n",
       "Klaus Scharioth        True\n",
       "dtype: bool"
      ]
     },
     "execution_count": 83,
     "metadata": {},
     "output_type": "execute_result"
    }
   ],
   "source": [
    "ambassadors.duplicated() # keeps default i.e top down"
   ]
  },
  {
   "cell_type": "code",
   "execution_count": 84,
   "id": "f73b8477-2906-4177-8361-f00e500e2d74",
   "metadata": {},
   "outputs": [
    {
     "data": {
      "text/plain": [
       "Gerard Araud          False\n",
       "Kim Dorroch            True\n",
       "Peter Westmacott      False\n",
       "Armando Verricchio    False\n",
       "Peter Wittig           True\n",
       "Peter Amon             True\n",
       "Klaus Scharioth       False\n",
       "dtype: bool"
      ]
     },
     "execution_count": 84,
     "metadata": {},
     "output_type": "execute_result"
    }
   ],
   "source": [
    "ambassadors.duplicated(keep = 'last') # keeps last i.e bottom up"
   ]
  },
  {
   "cell_type": "code",
   "execution_count": 85,
   "id": "b8d410db-7169-4962-9e45-8a1e601ee20e",
   "metadata": {},
   "outputs": [
    {
     "data": {
      "text/plain": [
       "Gerard Araud          False\n",
       "Kim Dorroch            True\n",
       "Peter Westmacott       True\n",
       "Armando Verricchio    False\n",
       "Peter Wittig           True\n",
       "Peter Amon             True\n",
       "Klaus Scharioth        True\n",
       "dtype: bool"
      ]
     },
     "execution_count": 85,
     "metadata": {},
     "output_type": "execute_result"
    }
   ],
   "source": [
    "ambassadors.duplicated(keep = False)"
   ]
  },
  {
   "cell_type": "code",
   "execution_count": 86,
   "id": "2adc6f12-1745-45c0-ac67-566e08ce1292",
   "metadata": {},
   "outputs": [
    {
     "data": {
      "text/plain": [
       "Gerard Araud                  France\n",
       "Kim Dorroch           United Kingdom\n",
       "Armando Verricchio             Italy\n",
       "Peter Wittig                 Germany\n",
       "dtype: object"
      ]
     },
     "execution_count": 86,
     "metadata": {},
     "output_type": "execute_result"
    }
   ],
   "source": [
    "ambassadors.drop_duplicates()"
   ]
  },
  {
   "cell_type": "code",
   "execution_count": 87,
   "id": "888cf372-2a55-4614-8c24-2d039e6f826a",
   "metadata": {},
   "outputs": [
    {
     "data": {
      "text/plain": [
       "Gerard Araud                  France\n",
       "Peter Westmacott      United Kingdom\n",
       "Armando Verricchio             Italy\n",
       "Klaus Scharioth              Germany\n",
       "dtype: object"
      ]
     },
     "execution_count": 87,
     "metadata": {},
     "output_type": "execute_result"
    }
   ],
   "source": [
    "ambassadors.drop_duplicates(keep = 'last')"
   ]
  },
  {
   "cell_type": "code",
   "execution_count": 88,
   "id": "c2eebc23-8a69-43d3-920b-23e2d38b372c",
   "metadata": {},
   "outputs": [
    {
     "data": {
      "text/plain": [
       "Gerard Araud          France\n",
       "Armando Verricchio     Italy\n",
       "dtype: object"
      ]
     },
     "execution_count": 88,
     "metadata": {},
     "output_type": "execute_result"
    }
   ],
   "source": [
    "ambassadors.drop_duplicates(keep = False)"
   ]
  },
  {
   "cell_type": "markdown",
   "id": "4ec96684-765f-4083-85f3-1562cbba153a",
   "metadata": {},
   "source": [
    "**Duplicates in DataFrames**"
   ]
  },
  {
   "cell_type": "code",
   "execution_count": 89,
   "id": "e822aa24-98ce-4a1f-8102-a7a8248d27ee",
   "metadata": {},
   "outputs": [],
   "source": [
    "players = pd.DataFrame({\n",
    "    'Name': [\n",
    "        'Kobe Bryant',\n",
    "        'Lebron James',\n",
    "        'Kobe Bryant',\n",
    "        'Camelo Anthony',\n",
    "        'Kobe Bryant',\n",
    "    ],\n",
    "    'Pos': [\n",
    "        'SG',\n",
    "        'SF',\n",
    "        'SG',\n",
    "        'SF',\n",
    "        'SF'\n",
    "    ]\n",
    "})        "
   ]
  },
  {
   "cell_type": "code",
   "execution_count": 90,
   "id": "1b21a8e0-dbcd-48d3-8423-7c594f323fef",
   "metadata": {},
   "outputs": [
    {
     "data": {
      "text/html": [
       "<div>\n",
       "<style scoped>\n",
       "    .dataframe tbody tr th:only-of-type {\n",
       "        vertical-align: middle;\n",
       "    }\n",
       "\n",
       "    .dataframe tbody tr th {\n",
       "        vertical-align: top;\n",
       "    }\n",
       "\n",
       "    .dataframe thead th {\n",
       "        text-align: right;\n",
       "    }\n",
       "</style>\n",
       "<table border=\"1\" class=\"dataframe\">\n",
       "  <thead>\n",
       "    <tr style=\"text-align: right;\">\n",
       "      <th></th>\n",
       "      <th>Name</th>\n",
       "      <th>Pos</th>\n",
       "    </tr>\n",
       "  </thead>\n",
       "  <tbody>\n",
       "    <tr>\n",
       "      <th>0</th>\n",
       "      <td>Kobe Bryant</td>\n",
       "      <td>SG</td>\n",
       "    </tr>\n",
       "    <tr>\n",
       "      <th>1</th>\n",
       "      <td>Lebron James</td>\n",
       "      <td>SF</td>\n",
       "    </tr>\n",
       "    <tr>\n",
       "      <th>2</th>\n",
       "      <td>Kobe Bryant</td>\n",
       "      <td>SG</td>\n",
       "    </tr>\n",
       "    <tr>\n",
       "      <th>3</th>\n",
       "      <td>Camelo Anthony</td>\n",
       "      <td>SF</td>\n",
       "    </tr>\n",
       "    <tr>\n",
       "      <th>4</th>\n",
       "      <td>Kobe Bryant</td>\n",
       "      <td>SF</td>\n",
       "    </tr>\n",
       "  </tbody>\n",
       "</table>\n",
       "</div>"
      ],
      "text/plain": [
       "             Name Pos\n",
       "0     Kobe Bryant  SG\n",
       "1    Lebron James  SF\n",
       "2     Kobe Bryant  SG\n",
       "3  Camelo Anthony  SF\n",
       "4     Kobe Bryant  SF"
      ]
     },
     "execution_count": 90,
     "metadata": {},
     "output_type": "execute_result"
    }
   ],
   "source": [
    "players"
   ]
  },
  {
   "cell_type": "code",
   "execution_count": 91,
   "id": "dedf2e3b-8cb5-41d2-a1e4-55e02197f4c4",
   "metadata": {},
   "outputs": [
    {
     "data": {
      "text/plain": [
       "0    False\n",
       "1    False\n",
       "2     True\n",
       "3    False\n",
       "4    False\n",
       "dtype: bool"
      ]
     },
     "execution_count": 91,
     "metadata": {},
     "output_type": "execute_result"
    }
   ],
   "source": [
    "players.duplicated()"
   ]
  },
  {
   "cell_type": "code",
   "execution_count": 92,
   "id": "ef27c311-4851-40da-ae4a-063781ca6eca",
   "metadata": {},
   "outputs": [
    {
     "data": {
      "text/plain": [
       "0    False\n",
       "1    False\n",
       "2     True\n",
       "3    False\n",
       "4     True\n",
       "dtype: bool"
      ]
     },
     "execution_count": 92,
     "metadata": {},
     "output_type": "execute_result"
    }
   ],
   "source": [
    "players.duplicated(subset = ['Name'])"
   ]
  },
  {
   "cell_type": "markdown",
   "id": "b55c62b2-4736-4679-89f6-965be2e2b34f",
   "metadata": {},
   "source": [
    "**Text Handling**"
   ]
  },
  {
   "cell_type": "markdown",
   "id": "739310e3-9e95-47f6-b09d-8c2ea686982a",
   "metadata": {},
   "source": [
    "**Splitting Columns**"
   ]
  },
  {
   "cell_type": "code",
   "execution_count": 93,
   "id": "deaf5227-366f-4c33-ae03-ba93713190b5",
   "metadata": {},
   "outputs": [],
   "source": [
    "df = pd.DataFrame({\n",
    "    'Data': [\n",
    "        '1987_M_US_1',\n",
    "        '1990?_M_UK_1',\n",
    "        '1992_F_US_2',\n",
    "        '1970?_M_ IT_1',\n",
    "        '1985_F_I T_2'\n",
    "]})"
   ]
  },
  {
   "cell_type": "code",
   "execution_count": 94,
   "id": "03d575ce-f6dd-4ea1-88e5-6db20cdf2553",
   "metadata": {},
   "outputs": [
    {
     "data": {
      "text/html": [
       "<div>\n",
       "<style scoped>\n",
       "    .dataframe tbody tr th:only-of-type {\n",
       "        vertical-align: middle;\n",
       "    }\n",
       "\n",
       "    .dataframe tbody tr th {\n",
       "        vertical-align: top;\n",
       "    }\n",
       "\n",
       "    .dataframe thead th {\n",
       "        text-align: right;\n",
       "    }\n",
       "</style>\n",
       "<table border=\"1\" class=\"dataframe\">\n",
       "  <thead>\n",
       "    <tr style=\"text-align: right;\">\n",
       "      <th></th>\n",
       "      <th>Data</th>\n",
       "    </tr>\n",
       "  </thead>\n",
       "  <tbody>\n",
       "    <tr>\n",
       "      <th>0</th>\n",
       "      <td>1987_M_US_1</td>\n",
       "    </tr>\n",
       "    <tr>\n",
       "      <th>1</th>\n",
       "      <td>1990?_M_UK_1</td>\n",
       "    </tr>\n",
       "    <tr>\n",
       "      <th>2</th>\n",
       "      <td>1992_F_US_2</td>\n",
       "    </tr>\n",
       "    <tr>\n",
       "      <th>3</th>\n",
       "      <td>1970?_M_ IT_1</td>\n",
       "    </tr>\n",
       "    <tr>\n",
       "      <th>4</th>\n",
       "      <td>1985_F_I T_2</td>\n",
       "    </tr>\n",
       "  </tbody>\n",
       "</table>\n",
       "</div>"
      ],
      "text/plain": [
       "            Data\n",
       "0    1987_M_US_1\n",
       "1   1990?_M_UK_1\n",
       "2    1992_F_US_2\n",
       "3  1970?_M_ IT_1\n",
       "4   1985_F_I T_2"
      ]
     },
     "execution_count": 94,
     "metadata": {},
     "output_type": "execute_result"
    }
   ],
   "source": [
    "df"
   ]
  },
  {
   "cell_type": "code",
   "execution_count": 95,
   "id": "3c743590-0495-40ea-a9f1-c9b4154f291c",
   "metadata": {},
   "outputs": [
    {
     "data": {
      "text/plain": [
       "0      [1987, M, US, 1]\n",
       "1     [1990?, M, UK, 1]\n",
       "2      [1992, F, US, 2]\n",
       "3    [1970?, M,  IT, 1]\n",
       "4     [1985, F, I T, 2]\n",
       "Name: Data, dtype: object"
      ]
     },
     "execution_count": 95,
     "metadata": {},
     "output_type": "execute_result"
    }
   ],
   "source": [
    "df['Data'].str.split('_')"
   ]
  },
  {
   "cell_type": "code",
   "execution_count": 96,
   "id": "f0a18a07-f38a-483f-b88b-f94859d610d0",
   "metadata": {},
   "outputs": [
    {
     "data": {
      "text/html": [
       "<div>\n",
       "<style scoped>\n",
       "    .dataframe tbody tr th:only-of-type {\n",
       "        vertical-align: middle;\n",
       "    }\n",
       "\n",
       "    .dataframe tbody tr th {\n",
       "        vertical-align: top;\n",
       "    }\n",
       "\n",
       "    .dataframe thead th {\n",
       "        text-align: right;\n",
       "    }\n",
       "</style>\n",
       "<table border=\"1\" class=\"dataframe\">\n",
       "  <thead>\n",
       "    <tr style=\"text-align: right;\">\n",
       "      <th></th>\n",
       "      <th>0</th>\n",
       "      <th>1</th>\n",
       "      <th>2</th>\n",
       "      <th>3</th>\n",
       "    </tr>\n",
       "  </thead>\n",
       "  <tbody>\n",
       "    <tr>\n",
       "      <th>0</th>\n",
       "      <td>1987</td>\n",
       "      <td>M</td>\n",
       "      <td>US</td>\n",
       "      <td>1</td>\n",
       "    </tr>\n",
       "    <tr>\n",
       "      <th>1</th>\n",
       "      <td>1990?</td>\n",
       "      <td>M</td>\n",
       "      <td>UK</td>\n",
       "      <td>1</td>\n",
       "    </tr>\n",
       "    <tr>\n",
       "      <th>2</th>\n",
       "      <td>1992</td>\n",
       "      <td>F</td>\n",
       "      <td>US</td>\n",
       "      <td>2</td>\n",
       "    </tr>\n",
       "    <tr>\n",
       "      <th>3</th>\n",
       "      <td>1970?</td>\n",
       "      <td>M</td>\n",
       "      <td>IT</td>\n",
       "      <td>1</td>\n",
       "    </tr>\n",
       "    <tr>\n",
       "      <th>4</th>\n",
       "      <td>1985</td>\n",
       "      <td>F</td>\n",
       "      <td>I T</td>\n",
       "      <td>2</td>\n",
       "    </tr>\n",
       "  </tbody>\n",
       "</table>\n",
       "</div>"
      ],
      "text/plain": [
       "       0  1    2  3\n",
       "0   1987  M   US  1\n",
       "1  1990?  M   UK  1\n",
       "2   1992  F   US  2\n",
       "3  1970?  M   IT  1\n",
       "4   1985  F  I T  2"
      ]
     },
     "execution_count": 96,
     "metadata": {},
     "output_type": "execute_result"
    }
   ],
   "source": [
    "df['Data'].str.split('_', expand = True)"
   ]
  },
  {
   "cell_type": "code",
   "execution_count": 97,
   "id": "c359dcf5-a727-468f-9e99-c26e6e05b449",
   "metadata": {},
   "outputs": [],
   "source": [
    "df = df['Data'].str.split('_', expand = True)"
   ]
  },
  {
   "cell_type": "code",
   "execution_count": 98,
   "id": "eeeebfbd-f392-49e8-b014-318be55bc311",
   "metadata": {},
   "outputs": [],
   "source": [
    "df.columns = ['Year', 'Sex', 'Country', 'No Children']"
   ]
  },
  {
   "cell_type": "code",
   "execution_count": 99,
   "id": "9e3723a9-3920-4160-8738-c042c9a91b54",
   "metadata": {},
   "outputs": [
    {
     "data": {
      "text/html": [
       "<div>\n",
       "<style scoped>\n",
       "    .dataframe tbody tr th:only-of-type {\n",
       "        vertical-align: middle;\n",
       "    }\n",
       "\n",
       "    .dataframe tbody tr th {\n",
       "        vertical-align: top;\n",
       "    }\n",
       "\n",
       "    .dataframe thead th {\n",
       "        text-align: right;\n",
       "    }\n",
       "</style>\n",
       "<table border=\"1\" class=\"dataframe\">\n",
       "  <thead>\n",
       "    <tr style=\"text-align: right;\">\n",
       "      <th></th>\n",
       "      <th>Year</th>\n",
       "      <th>Sex</th>\n",
       "      <th>Country</th>\n",
       "      <th>No Children</th>\n",
       "    </tr>\n",
       "  </thead>\n",
       "  <tbody>\n",
       "    <tr>\n",
       "      <th>0</th>\n",
       "      <td>1987</td>\n",
       "      <td>M</td>\n",
       "      <td>US</td>\n",
       "      <td>1</td>\n",
       "    </tr>\n",
       "    <tr>\n",
       "      <th>1</th>\n",
       "      <td>1990?</td>\n",
       "      <td>M</td>\n",
       "      <td>UK</td>\n",
       "      <td>1</td>\n",
       "    </tr>\n",
       "    <tr>\n",
       "      <th>2</th>\n",
       "      <td>1992</td>\n",
       "      <td>F</td>\n",
       "      <td>US</td>\n",
       "      <td>2</td>\n",
       "    </tr>\n",
       "    <tr>\n",
       "      <th>3</th>\n",
       "      <td>1970?</td>\n",
       "      <td>M</td>\n",
       "      <td>IT</td>\n",
       "      <td>1</td>\n",
       "    </tr>\n",
       "    <tr>\n",
       "      <th>4</th>\n",
       "      <td>1985</td>\n",
       "      <td>F</td>\n",
       "      <td>I T</td>\n",
       "      <td>2</td>\n",
       "    </tr>\n",
       "  </tbody>\n",
       "</table>\n",
       "</div>"
      ],
      "text/plain": [
       "    Year Sex Country No Children\n",
       "0   1987   M      US           1\n",
       "1  1990?   M      UK           1\n",
       "2   1992   F      US           2\n",
       "3  1970?   M      IT           1\n",
       "4   1985   F     I T           2"
      ]
     },
     "execution_count": 99,
     "metadata": {},
     "output_type": "execute_result"
    }
   ],
   "source": [
    "df"
   ]
  },
  {
   "cell_type": "code",
   "execution_count": 100,
   "id": "b039549a-ecef-48a6-9020-606d7721224a",
   "metadata": {},
   "outputs": [
    {
     "data": {
      "text/plain": [
       "0    False\n",
       "1     True\n",
       "2    False\n",
       "3     True\n",
       "4    False\n",
       "Name: Year, dtype: bool"
      ]
     },
     "execution_count": 100,
     "metadata": {},
     "output_type": "execute_result"
    }
   ],
   "source": [
    "df['Year'].str.contains('\\?')"
   ]
  },
  {
   "cell_type": "code",
   "execution_count": 101,
   "id": "b1dc365b-b886-41f5-aa14-952ca75e2a61",
   "metadata": {},
   "outputs": [
    {
     "data": {
      "text/plain": [
       "0     True\n",
       "1     True\n",
       "2     True\n",
       "3    False\n",
       "4    False\n",
       "Name: Country, dtype: bool"
      ]
     },
     "execution_count": 101,
     "metadata": {},
     "output_type": "execute_result"
    }
   ],
   "source": [
    "df['Country'].str.contains('U')"
   ]
  },
  {
   "cell_type": "code",
   "execution_count": 102,
   "id": "cd1306cd-eaae-4141-ba2a-d0bf95b5a86e",
   "metadata": {},
   "outputs": [
    {
     "data": {
      "text/plain": [
       "0     US\n",
       "1     UK\n",
       "2     US\n",
       "3     IT\n",
       "4    I T\n",
       "Name: Country, dtype: object"
      ]
     },
     "execution_count": 102,
     "metadata": {},
     "output_type": "execute_result"
    }
   ],
   "source": [
    "df['Country'].str.strip()"
   ]
  },
  {
   "cell_type": "code",
   "execution_count": 103,
   "id": "8751c77b-dfe9-45e1-91d6-88fd852f6c96",
   "metadata": {},
   "outputs": [
    {
     "data": {
      "text/plain": [
       "0    US\n",
       "1    UK\n",
       "2    US\n",
       "3    IT\n",
       "4    IT\n",
       "Name: Country, dtype: object"
      ]
     },
     "execution_count": 103,
     "metadata": {},
     "output_type": "execute_result"
    }
   ],
   "source": [
    "df['Country'].str.replace(' ', '')"
   ]
  },
  {
   "cell_type": "code",
   "execution_count": 104,
   "id": "a3b07961-6323-43b8-bdf5-722f515e9ba9",
   "metadata": {},
   "outputs": [
    {
     "name": "stderr",
     "output_type": "stream",
     "text": [
      "C:\\Users\\user\\AppData\\Local\\Temp/ipykernel_13584/3529615062.py:1: FutureWarning: The default value of regex will change from True to False in a future version.\n",
      "  df['Year'].str.replace(r'(?P<year>\\d{4})?', lambda n: n.group('year'))\n"
     ]
    },
    {
     "data": {
      "text/plain": [
       "0     1987\n",
       "1    1990?\n",
       "2     1992\n",
       "3    1970?\n",
       "4     1985\n",
       "Name: Year, dtype: object"
      ]
     },
     "execution_count": 104,
     "metadata": {},
     "output_type": "execute_result"
    }
   ],
   "source": [
    "df['Year'].str.replace(r'(?P<year>\\d{4})?', lambda n: n.group('year'))"
   ]
  },
  {
   "cell_type": "code",
   "execution_count": 105,
   "id": "0b465bf4-9c08-4986-a989-57ea317f4b71",
   "metadata": {},
   "outputs": [],
   "source": [
    "import numpy as np\n",
    "import pandas as pd"
   ]
  },
  {
   "cell_type": "markdown",
   "id": "592c4c11-bc38-4bac-8215-aff6cdb6f9c4",
   "metadata": {},
   "source": [
    "## Loading or Reading the File ##"
   ]
  },
  {
   "cell_type": "markdown",
   "id": "e5820776-2305-4f7c-9f40-37a10c28d2c9",
   "metadata": {},
   "source": [
    "Encoding error\n",
    "Inconsistent rows"
   ]
  },
  {
   "cell_type": "code",
   "execution_count": 106,
   "id": "9a31c7ab-15dc-4a9f-9b07-bc89933b319b",
   "metadata": {},
   "outputs": [],
   "source": [
    "df = pd.read_csv('C:\\\\Users\\\\user\\\\Desktop\\\\Jupyter notebooks for Data Science\\\\Unclean+data+set+for+Data+Cleaning+Lesson.csv')"
   ]
  },
  {
   "cell_type": "code",
   "execution_count": 107,
   "id": "c576a340-f321-46f5-a7de-7212ebaac75d",
   "metadata": {},
   "outputs": [
    {
     "data": {
      "text/html": [
       "<div>\n",
       "<style scoped>\n",
       "    .dataframe tbody tr th:only-of-type {\n",
       "        vertical-align: middle;\n",
       "    }\n",
       "\n",
       "    .dataframe tbody tr th {\n",
       "        vertical-align: top;\n",
       "    }\n",
       "\n",
       "    .dataframe thead th {\n",
       "        text-align: right;\n",
       "    }\n",
       "</style>\n",
       "<table border=\"1\" class=\"dataframe\">\n",
       "  <thead>\n",
       "    <tr style=\"text-align: right;\">\n",
       "      <th></th>\n",
       "      <th>movie_title</th>\n",
       "      <th>num_critic_for_reviews</th>\n",
       "      <th>duration</th>\n",
       "      <th>DIRECTOR_facebook_likes</th>\n",
       "      <th>actor_3_facebook_likes</th>\n",
       "      <th>ACTOR_1_facebook_likes</th>\n",
       "      <th>gross</th>\n",
       "      <th>num_voted_users</th>\n",
       "      <th>Cast_Total_facebook_likes</th>\n",
       "      <th>facenumber_in_poster</th>\n",
       "      <th>num_user_for_reviews</th>\n",
       "      <th>budget</th>\n",
       "      <th>title_year</th>\n",
       "      <th>ACTOR_2_facebook_likes</th>\n",
       "      <th>imdb_score</th>\n",
       "      <th>title_year.1</th>\n",
       "    </tr>\n",
       "  </thead>\n",
       "  <tbody>\n",
       "    <tr>\n",
       "      <th>0</th>\n",
       "      <td>Avatar?�</td>\n",
       "      <td>723</td>\n",
       "      <td>178.0</td>\n",
       "      <td>10</td>\n",
       "      <td>855</td>\n",
       "      <td>1000</td>\n",
       "      <td>760505847</td>\n",
       "      <td>886204.0</td>\n",
       "      <td>4834.0</td>\n",
       "      <td>NaN</td>\n",
       "      <td>3054</td>\n",
       "      <td>237000000</td>\n",
       "      <td>2009</td>\n",
       "      <td>936.0</td>\n",
       "      <td>7.9</td>\n",
       "      <td>2009.0</td>\n",
       "    </tr>\n",
       "    <tr>\n",
       "      <th>1</th>\n",
       "      <td>Pirates of the Caribbean: At World's End?�</td>\n",
       "      <td>302</td>\n",
       "      <td>NaN</td>\n",
       "      <td>563</td>\n",
       "      <td>1000</td>\n",
       "      <td>40000</td>\n",
       "      <td>309404152</td>\n",
       "      <td>471220.0</td>\n",
       "      <td>48350.0</td>\n",
       "      <td>NaN</td>\n",
       "      <td>1238</td>\n",
       "      <td>300000000</td>\n",
       "      <td>2007</td>\n",
       "      <td>5000.0</td>\n",
       "      <td>7.1</td>\n",
       "      <td>NaN</td>\n",
       "    </tr>\n",
       "    <tr>\n",
       "      <th>2</th>\n",
       "      <td>Spectre?�</td>\n",
       "      <td>602</td>\n",
       "      <td>148.0</td>\n",
       "      <td>20</td>\n",
       "      <td>161</td>\n",
       "      <td>11000</td>\n",
       "      <td>200074175</td>\n",
       "      <td>275868.0</td>\n",
       "      <td>11700.0</td>\n",
       "      <td>1.0</td>\n",
       "      <td>994</td>\n",
       "      <td>245000000</td>\n",
       "      <td>2015</td>\n",
       "      <td>393.0</td>\n",
       "      <td>6.8</td>\n",
       "      <td>2015.0</td>\n",
       "    </tr>\n",
       "    <tr>\n",
       "      <th>3</th>\n",
       "      <td>The Dark Knight Rises?�</td>\n",
       "      <td>813</td>\n",
       "      <td>NaN</td>\n",
       "      <td>22000</td>\n",
       "      <td>23000</td>\n",
       "      <td>27000</td>\n",
       "      <td>448130642</td>\n",
       "      <td>1144337.0</td>\n",
       "      <td>106759.0</td>\n",
       "      <td>NaN</td>\n",
       "      <td>2701</td>\n",
       "      <td>250000000</td>\n",
       "      <td>2012</td>\n",
       "      <td>23000.0</td>\n",
       "      <td>8.5</td>\n",
       "      <td>NaN</td>\n",
       "    </tr>\n",
       "    <tr>\n",
       "      <th>4</th>\n",
       "      <td>John Carter?�</td>\n",
       "      <td>462</td>\n",
       "      <td>132.0</td>\n",
       "      <td>\"475\"</td>\n",
       "      <td>530</td>\n",
       "      <td>640</td>\n",
       "      <td>73058679</td>\n",
       "      <td>212204.0</td>\n",
       "      <td>1873.0</td>\n",
       "      <td>1.0</td>\n",
       "      <td>738</td>\n",
       "      <td>263700000</td>\n",
       "      <td>2012</td>\n",
       "      <td>632.0</td>\n",
       "      <td>6.6</td>\n",
       "      <td>NaN</td>\n",
       "    </tr>\n",
       "  </tbody>\n",
       "</table>\n",
       "</div>"
      ],
      "text/plain": [
       "                                  movie_title  num_critic_for_reviews  \\\n",
       "0                                    Avatar?�                     723   \n",
       "1  Pirates of the Caribbean: At World's End?�                     302   \n",
       "2                                   Spectre?�                     602   \n",
       "3                     The Dark Knight Rises?�                     813   \n",
       "4                               John Carter?�                     462   \n",
       "\n",
       "   duration DIRECTOR_facebook_likes  actor_3_facebook_likes  \\\n",
       "0     178.0                      10                     855   \n",
       "1       NaN                     563                    1000   \n",
       "2     148.0                      20                     161   \n",
       "3       NaN                   22000                   23000   \n",
       "4     132.0                   \"475\"                     530   \n",
       "\n",
       "   ACTOR_1_facebook_likes      gross  num_voted_users  \\\n",
       "0                    1000  760505847         886204.0   \n",
       "1                   40000  309404152         471220.0   \n",
       "2                   11000  200074175         275868.0   \n",
       "3                   27000  448130642        1144337.0   \n",
       "4                     640   73058679         212204.0   \n",
       "\n",
       "   Cast_Total_facebook_likes  facenumber_in_poster  num_user_for_reviews  \\\n",
       "0                     4834.0                   NaN                  3054   \n",
       "1                    48350.0                   NaN                  1238   \n",
       "2                    11700.0                   1.0                   994   \n",
       "3                   106759.0                   NaN                  2701   \n",
       "4                     1873.0                   1.0                   738   \n",
       "\n",
       "      budget  title_year  ACTOR_2_facebook_likes  imdb_score  title_year.1  \n",
       "0  237000000        2009                   936.0         7.9        2009.0  \n",
       "1  300000000        2007                  5000.0         7.1           NaN  \n",
       "2  245000000        2015                   393.0         6.8        2015.0  \n",
       "3  250000000        2012                 23000.0         8.5           NaN  \n",
       "4  263700000        2012                   632.0         6.6           NaN  "
      ]
     },
     "execution_count": 107,
     "metadata": {},
     "output_type": "execute_result"
    }
   ],
   "source": [
    "df.head()"
   ]
  },
  {
   "cell_type": "code",
   "execution_count": 108,
   "id": "513c086a-11a1-4083-8b6f-a49c4d90e256",
   "metadata": {},
   "outputs": [],
   "source": [
    "df = pd.read_csv('C:\\\\Users\\\\user\\\\Desktop\\\\Jupyter notebooks for Data Science\\\\Unclean+data+set+for+Data+Cleaning+Lesson.csv', encoding = 'latin1')"
   ]
  },
  {
   "cell_type": "code",
   "execution_count": 109,
   "id": "1f476873-10f9-4e2a-8027-e26ac074b650",
   "metadata": {},
   "outputs": [
    {
     "data": {
      "text/html": [
       "<div>\n",
       "<style scoped>\n",
       "    .dataframe tbody tr th:only-of-type {\n",
       "        vertical-align: middle;\n",
       "    }\n",
       "\n",
       "    .dataframe tbody tr th {\n",
       "        vertical-align: top;\n",
       "    }\n",
       "\n",
       "    .dataframe thead th {\n",
       "        text-align: right;\n",
       "    }\n",
       "</style>\n",
       "<table border=\"1\" class=\"dataframe\">\n",
       "  <thead>\n",
       "    <tr style=\"text-align: right;\">\n",
       "      <th></th>\n",
       "      <th>movie_title</th>\n",
       "      <th>num_critic_for_reviews</th>\n",
       "      <th>duration</th>\n",
       "      <th>DIRECTOR_facebook_likes</th>\n",
       "      <th>actor_3_facebook_likes</th>\n",
       "      <th>ACTOR_1_facebook_likes</th>\n",
       "      <th>gross</th>\n",
       "      <th>num_voted_users</th>\n",
       "      <th>Cast_Total_facebook_likes</th>\n",
       "      <th>facenumber_in_poster</th>\n",
       "      <th>num_user_for_reviews</th>\n",
       "      <th>budget</th>\n",
       "      <th>title_year</th>\n",
       "      <th>ACTOR_2_facebook_likes</th>\n",
       "      <th>imdb_score</th>\n",
       "      <th>title_year.1</th>\n",
       "    </tr>\n",
       "  </thead>\n",
       "  <tbody>\n",
       "    <tr>\n",
       "      <th>0</th>\n",
       "      <td>Avatar?ï¿½</td>\n",
       "      <td>723</td>\n",
       "      <td>178.0</td>\n",
       "      <td>10</td>\n",
       "      <td>855</td>\n",
       "      <td>1000</td>\n",
       "      <td>760505847</td>\n",
       "      <td>886204.0</td>\n",
       "      <td>4834.0</td>\n",
       "      <td>NaN</td>\n",
       "      <td>3054</td>\n",
       "      <td>237000000</td>\n",
       "      <td>2009</td>\n",
       "      <td>936.0</td>\n",
       "      <td>7.9</td>\n",
       "      <td>2009.0</td>\n",
       "    </tr>\n",
       "    <tr>\n",
       "      <th>1</th>\n",
       "      <td>Pirates of the Caribbean: At World's End?ï¿½</td>\n",
       "      <td>302</td>\n",
       "      <td>NaN</td>\n",
       "      <td>563</td>\n",
       "      <td>1000</td>\n",
       "      <td>40000</td>\n",
       "      <td>309404152</td>\n",
       "      <td>471220.0</td>\n",
       "      <td>48350.0</td>\n",
       "      <td>NaN</td>\n",
       "      <td>1238</td>\n",
       "      <td>300000000</td>\n",
       "      <td>2007</td>\n",
       "      <td>5000.0</td>\n",
       "      <td>7.1</td>\n",
       "      <td>NaN</td>\n",
       "    </tr>\n",
       "    <tr>\n",
       "      <th>2</th>\n",
       "      <td>Spectre?ï¿½</td>\n",
       "      <td>602</td>\n",
       "      <td>148.0</td>\n",
       "      <td>20</td>\n",
       "      <td>161</td>\n",
       "      <td>11000</td>\n",
       "      <td>200074175</td>\n",
       "      <td>275868.0</td>\n",
       "      <td>11700.0</td>\n",
       "      <td>1.0</td>\n",
       "      <td>994</td>\n",
       "      <td>245000000</td>\n",
       "      <td>2015</td>\n",
       "      <td>393.0</td>\n",
       "      <td>6.8</td>\n",
       "      <td>2015.0</td>\n",
       "    </tr>\n",
       "    <tr>\n",
       "      <th>3</th>\n",
       "      <td>The Dark Knight Rises?ï¿½</td>\n",
       "      <td>813</td>\n",
       "      <td>NaN</td>\n",
       "      <td>22000</td>\n",
       "      <td>23000</td>\n",
       "      <td>27000</td>\n",
       "      <td>448130642</td>\n",
       "      <td>1144337.0</td>\n",
       "      <td>106759.0</td>\n",
       "      <td>NaN</td>\n",
       "      <td>2701</td>\n",
       "      <td>250000000</td>\n",
       "      <td>2012</td>\n",
       "      <td>23000.0</td>\n",
       "      <td>8.5</td>\n",
       "      <td>NaN</td>\n",
       "    </tr>\n",
       "    <tr>\n",
       "      <th>4</th>\n",
       "      <td>John Carter?ï¿½</td>\n",
       "      <td>462</td>\n",
       "      <td>132.0</td>\n",
       "      <td>\"475\"</td>\n",
       "      <td>530</td>\n",
       "      <td>640</td>\n",
       "      <td>73058679</td>\n",
       "      <td>212204.0</td>\n",
       "      <td>1873.0</td>\n",
       "      <td>1.0</td>\n",
       "      <td>738</td>\n",
       "      <td>263700000</td>\n",
       "      <td>2012</td>\n",
       "      <td>632.0</td>\n",
       "      <td>6.6</td>\n",
       "      <td>NaN</td>\n",
       "    </tr>\n",
       "  </tbody>\n",
       "</table>\n",
       "</div>"
      ],
      "text/plain": [
       "                                    movie_title  num_critic_for_reviews  \\\n",
       "0                                    Avatar?ï¿½                     723   \n",
       "1  Pirates of the Caribbean: At World's End?ï¿½                     302   \n",
       "2                                   Spectre?ï¿½                     602   \n",
       "3                     The Dark Knight Rises?ï¿½                     813   \n",
       "4                               John Carter?ï¿½                     462   \n",
       "\n",
       "   duration DIRECTOR_facebook_likes  actor_3_facebook_likes  \\\n",
       "0     178.0                      10                     855   \n",
       "1       NaN                     563                    1000   \n",
       "2     148.0                      20                     161   \n",
       "3       NaN                   22000                   23000   \n",
       "4     132.0                   \"475\"                     530   \n",
       "\n",
       "   ACTOR_1_facebook_likes      gross  num_voted_users  \\\n",
       "0                    1000  760505847         886204.0   \n",
       "1                   40000  309404152         471220.0   \n",
       "2                   11000  200074175         275868.0   \n",
       "3                   27000  448130642        1144337.0   \n",
       "4                     640   73058679         212204.0   \n",
       "\n",
       "   Cast_Total_facebook_likes  facenumber_in_poster  num_user_for_reviews  \\\n",
       "0                     4834.0                   NaN                  3054   \n",
       "1                    48350.0                   NaN                  1238   \n",
       "2                    11700.0                   1.0                   994   \n",
       "3                   106759.0                   NaN                  2701   \n",
       "4                     1873.0                   1.0                   738   \n",
       "\n",
       "      budget  title_year  ACTOR_2_facebook_likes  imdb_score  title_year.1  \n",
       "0  237000000        2009                   936.0         7.9        2009.0  \n",
       "1  300000000        2007                  5000.0         7.1           NaN  \n",
       "2  245000000        2015                   393.0         6.8        2015.0  \n",
       "3  250000000        2012                 23000.0         8.5           NaN  \n",
       "4  263700000        2012                   632.0         6.6           NaN  "
      ]
     },
     "execution_count": 109,
     "metadata": {},
     "output_type": "execute_result"
    }
   ],
   "source": [
    "df.head()"
   ]
  },
  {
   "cell_type": "markdown",
   "id": "2fa84b04-3069-4b59-9e15-72754c9a06b1",
   "metadata": {},
   "source": [
    "Inconsistent Column Names\n",
    ". Change cases\n",
    ". Rename them"
   ]
  },
  {
   "cell_type": "code",
   "execution_count": 110,
   "id": "e82a00b9-d9be-4ec7-83e7-849dfc906d87",
   "metadata": {},
   "outputs": [
    {
     "data": {
      "text/plain": [
       "Index(['movie_title', 'num_critic_for_reviews', 'duration',\n",
       "       'DIRECTOR_facebook_likes', 'actor_3_facebook_likes',\n",
       "       'ACTOR_1_facebook_likes', 'gross', 'num_voted_users',\n",
       "       'Cast_Total_facebook_likes', 'facenumber_in_poster',\n",
       "       'num_user_for_reviews', 'budget', 'title_year',\n",
       "       'ACTOR_2_facebook_likes', 'imdb_score', 'title_year.1'],\n",
       "      dtype='object')"
      ]
     },
     "execution_count": 110,
     "metadata": {},
     "output_type": "execute_result"
    }
   ],
   "source": [
    "df.columns"
   ]
  },
  {
   "cell_type": "markdown",
   "id": "2f89538e-468d-4834-9dcc-d8b9206fa56e",
   "metadata": {},
   "source": [
    "Change the case to Upper"
   ]
  },
  {
   "cell_type": "code",
   "execution_count": 111,
   "id": "4485fce9-3c20-4b12-899f-06280803a92c",
   "metadata": {},
   "outputs": [
    {
     "data": {
      "text/plain": [
       "Index(['MOVIE_TITLE', 'NUM_CRITIC_FOR_REVIEWS', 'DURATION',\n",
       "       'DIRECTOR_FACEBOOK_LIKES', 'ACTOR_3_FACEBOOK_LIKES',\n",
       "       'ACTOR_1_FACEBOOK_LIKES', 'GROSS', 'NUM_VOTED_USERS',\n",
       "       'CAST_TOTAL_FACEBOOK_LIKES', 'FACENUMBER_IN_POSTER',\n",
       "       'NUM_USER_FOR_REVIEWS', 'BUDGET', 'TITLE_YEAR',\n",
       "       'ACTOR_2_FACEBOOK_LIKES', 'IMDB_SCORE', 'TITLE_YEAR.1'],\n",
       "      dtype='object')"
      ]
     },
     "execution_count": 111,
     "metadata": {},
     "output_type": "execute_result"
    }
   ],
   "source": [
    "df.columns.str.upper()"
   ]
  },
  {
   "cell_type": "code",
   "execution_count": 112,
   "id": "b59d3fb9-006a-4b0e-b599-9a2d97378224",
   "metadata": {},
   "outputs": [],
   "source": [
    "df.columns = df.columns.str.upper()"
   ]
  },
  {
   "cell_type": "code",
   "execution_count": 113,
   "id": "36e75565-2cca-4bad-a26a-1f9c99d43608",
   "metadata": {},
   "outputs": [
    {
     "data": {
      "text/plain": [
       "Index(['MOVIE_TITLE', 'NUM_CRITIC_FOR_REVIEWS', 'DURATION',\n",
       "       'DIRECTOR_FACEBOOK_LIKES', 'ACTOR_3_FACEBOOK_LIKES',\n",
       "       'ACTOR_1_FACEBOOK_LIKES', 'GROSS', 'NUM_VOTED_USERS',\n",
       "       'CAST_TOTAL_FACEBOOK_LIKES', 'FACENUMBER_IN_POSTER',\n",
       "       'NUM_USER_FOR_REVIEWS', 'BUDGET', 'TITLE_YEAR',\n",
       "       'ACTOR_2_FACEBOOK_LIKES', 'IMDB_SCORE', 'TITLE_YEAR.1'],\n",
       "      dtype='object')"
      ]
     },
     "execution_count": 113,
     "metadata": {},
     "output_type": "execute_result"
    }
   ],
   "source": [
    "df.columns"
   ]
  },
  {
   "cell_type": "markdown",
   "id": "9b686ab4-82b2-47ec-bf2f-bbbe2626dcd7",
   "metadata": {},
   "source": [
    "Renaming Columns"
   ]
  },
  {
   "cell_type": "code",
   "execution_count": 114,
   "id": "6cbd0f47-aa7d-4d4b-86ad-83da7549e5cc",
   "metadata": {},
   "outputs": [
    {
     "data": {
      "text/html": [
       "<div>\n",
       "<style scoped>\n",
       "    .dataframe tbody tr th:only-of-type {\n",
       "        vertical-align: middle;\n",
       "    }\n",
       "\n",
       "    .dataframe tbody tr th {\n",
       "        vertical-align: top;\n",
       "    }\n",
       "\n",
       "    .dataframe thead th {\n",
       "        text-align: right;\n",
       "    }\n",
       "</style>\n",
       "<table border=\"1\" class=\"dataframe\">\n",
       "  <thead>\n",
       "    <tr style=\"text-align: right;\">\n",
       "      <th></th>\n",
       "      <th>MOVIE_TITLE</th>\n",
       "      <th>NUM_CRITIC_FOR_REVIEWS</th>\n",
       "      <th>TIME</th>\n",
       "      <th>DIRECTOR_FACEBOOK_LIKES</th>\n",
       "      <th>ACTOR_3_FACEBOOK_LIKES</th>\n",
       "      <th>ACTOR_1_FACEBOOK_LIKES</th>\n",
       "      <th>GROSS</th>\n",
       "      <th>NUM_VOTED_USERS</th>\n",
       "      <th>CAST_TOTAL_FACEBOOK_LIKES</th>\n",
       "      <th>FACENUMBER_IN_POSTER</th>\n",
       "      <th>NUM_USER_FOR_REVIEWS</th>\n",
       "      <th>BUDGET</th>\n",
       "      <th>TITLE_YEAR</th>\n",
       "      <th>ACTOR_2_FACEBOOK_LIKES</th>\n",
       "      <th>IMDB_SCORE</th>\n",
       "      <th>TITLE_YEAR.1</th>\n",
       "    </tr>\n",
       "  </thead>\n",
       "  <tbody>\n",
       "    <tr>\n",
       "      <th>0</th>\n",
       "      <td>Avatar?ï¿½</td>\n",
       "      <td>723</td>\n",
       "      <td>178.0</td>\n",
       "      <td>10</td>\n",
       "      <td>855</td>\n",
       "      <td>1000</td>\n",
       "      <td>760505847</td>\n",
       "      <td>886204.0</td>\n",
       "      <td>4834.0</td>\n",
       "      <td>NaN</td>\n",
       "      <td>3054</td>\n",
       "      <td>237000000</td>\n",
       "      <td>2009</td>\n",
       "      <td>936.0</td>\n",
       "      <td>7.9</td>\n",
       "      <td>2009.0</td>\n",
       "    </tr>\n",
       "    <tr>\n",
       "      <th>1</th>\n",
       "      <td>Pirates of the Caribbean: At World's End?ï¿½</td>\n",
       "      <td>302</td>\n",
       "      <td>NaN</td>\n",
       "      <td>563</td>\n",
       "      <td>1000</td>\n",
       "      <td>40000</td>\n",
       "      <td>309404152</td>\n",
       "      <td>471220.0</td>\n",
       "      <td>48350.0</td>\n",
       "      <td>NaN</td>\n",
       "      <td>1238</td>\n",
       "      <td>300000000</td>\n",
       "      <td>2007</td>\n",
       "      <td>5000.0</td>\n",
       "      <td>7.1</td>\n",
       "      <td>NaN</td>\n",
       "    </tr>\n",
       "    <tr>\n",
       "      <th>2</th>\n",
       "      <td>Spectre?ï¿½</td>\n",
       "      <td>602</td>\n",
       "      <td>148.0</td>\n",
       "      <td>20</td>\n",
       "      <td>161</td>\n",
       "      <td>11000</td>\n",
       "      <td>200074175</td>\n",
       "      <td>275868.0</td>\n",
       "      <td>11700.0</td>\n",
       "      <td>1.0</td>\n",
       "      <td>994</td>\n",
       "      <td>245000000</td>\n",
       "      <td>2015</td>\n",
       "      <td>393.0</td>\n",
       "      <td>6.8</td>\n",
       "      <td>2015.0</td>\n",
       "    </tr>\n",
       "    <tr>\n",
       "      <th>3</th>\n",
       "      <td>The Dark Knight Rises?ï¿½</td>\n",
       "      <td>813</td>\n",
       "      <td>NaN</td>\n",
       "      <td>22000</td>\n",
       "      <td>23000</td>\n",
       "      <td>27000</td>\n",
       "      <td>448130642</td>\n",
       "      <td>1144337.0</td>\n",
       "      <td>106759.0</td>\n",
       "      <td>NaN</td>\n",
       "      <td>2701</td>\n",
       "      <td>250000000</td>\n",
       "      <td>2012</td>\n",
       "      <td>23000.0</td>\n",
       "      <td>8.5</td>\n",
       "      <td>NaN</td>\n",
       "    </tr>\n",
       "    <tr>\n",
       "      <th>4</th>\n",
       "      <td>John Carter?ï¿½</td>\n",
       "      <td>462</td>\n",
       "      <td>132.0</td>\n",
       "      <td>\"475\"</td>\n",
       "      <td>530</td>\n",
       "      <td>640</td>\n",
       "      <td>73058679</td>\n",
       "      <td>212204.0</td>\n",
       "      <td>1873.0</td>\n",
       "      <td>1.0</td>\n",
       "      <td>738</td>\n",
       "      <td>263700000</td>\n",
       "      <td>2012</td>\n",
       "      <td>632.0</td>\n",
       "      <td>6.6</td>\n",
       "      <td>NaN</td>\n",
       "    </tr>\n",
       "    <tr>\n",
       "      <th>5</th>\n",
       "      <td>Spider-Man 3?ï¿½</td>\n",
       "      <td>392</td>\n",
       "      <td>156.0</td>\n",
       "      <td>23</td>\n",
       "      <td>4000</td>\n",
       "      <td>24000</td>\n",
       "      <td>336530303</td>\n",
       "      <td>383056.0</td>\n",
       "      <td>46055.0</td>\n",
       "      <td>NaN</td>\n",
       "      <td>1902</td>\n",
       "      <td>258000000</td>\n",
       "      <td>2007</td>\n",
       "      <td>11000.0</td>\n",
       "      <td>6.2</td>\n",
       "      <td>2007.0</td>\n",
       "    </tr>\n",
       "    <tr>\n",
       "      <th>6</th>\n",
       "      <td>Tangled?ï¿½</td>\n",
       "      <td>324</td>\n",
       "      <td>NaN</td>\n",
       "      <td>15</td>\n",
       "      <td>284</td>\n",
       "      <td>799</td>\n",
       "      <td>200807262</td>\n",
       "      <td>294810.0</td>\n",
       "      <td>NaN</td>\n",
       "      <td>1.0</td>\n",
       "      <td>387</td>\n",
       "      <td>260000000</td>\n",
       "      <td>2010</td>\n",
       "      <td>553.0</td>\n",
       "      <td>7.8</td>\n",
       "      <td>NaN</td>\n",
       "    </tr>\n",
       "    <tr>\n",
       "      <th>7</th>\n",
       "      <td>Avengers: Age of Ultron?ï¿½</td>\n",
       "      <td>635</td>\n",
       "      <td>141.0</td>\n",
       "      <td>10</td>\n",
       "      <td>19000</td>\n",
       "      <td>26000</td>\n",
       "      <td>458991599</td>\n",
       "      <td>462669.0</td>\n",
       "      <td>92000.0</td>\n",
       "      <td>4.0</td>\n",
       "      <td>1117</td>\n",
       "      <td>250000000</td>\n",
       "      <td>2015</td>\n",
       "      <td>21000.0</td>\n",
       "      <td>7.5</td>\n",
       "      <td>NaN</td>\n",
       "    </tr>\n",
       "    <tr>\n",
       "      <th>8</th>\n",
       "      <td>Avengers: Age of Ultron?ï¿½</td>\n",
       "      <td>635</td>\n",
       "      <td>141.0</td>\n",
       "      <td>10</td>\n",
       "      <td>19000</td>\n",
       "      <td>26000</td>\n",
       "      <td>458991599</td>\n",
       "      <td>462669.0</td>\n",
       "      <td>92000.0</td>\n",
       "      <td>4.0</td>\n",
       "      <td>1117</td>\n",
       "      <td>250000000</td>\n",
       "      <td>2015</td>\n",
       "      <td>21000.0</td>\n",
       "      <td>7.5</td>\n",
       "      <td>2015.0</td>\n",
       "    </tr>\n",
       "    <tr>\n",
       "      <th>9</th>\n",
       "      <td>Harry Potter and the Half-Blood Prince?ï¿½</td>\n",
       "      <td>375</td>\n",
       "      <td>153.0</td>\n",
       "      <td>282</td>\n",
       "      <td>10000</td>\n",
       "      <td>25000</td>\n",
       "      <td>301956980</td>\n",
       "      <td>321795.0</td>\n",
       "      <td>58753.0</td>\n",
       "      <td>3.0</td>\n",
       "      <td>973</td>\n",
       "      <td>250000000</td>\n",
       "      <td>2009</td>\n",
       "      <td>11000.0</td>\n",
       "      <td>7.5</td>\n",
       "      <td>NaN</td>\n",
       "    </tr>\n",
       "    <tr>\n",
       "      <th>10</th>\n",
       "      <td>Batman v Superman: Dawn of Justice?ï¿½</td>\n",
       "      <td>673</td>\n",
       "      <td>183.0</td>\n",
       "      <td>NaN</td>\n",
       "      <td>2000</td>\n",
       "      <td>15000</td>\n",
       "      <td>330249062</td>\n",
       "      <td>NaN</td>\n",
       "      <td>24450.0</td>\n",
       "      <td>NaN</td>\n",
       "      <td>3018</td>\n",
       "      <td>250000000</td>\n",
       "      <td>2016</td>\n",
       "      <td>NaN</td>\n",
       "      <td>6.9</td>\n",
       "      <td>2016.0</td>\n",
       "    </tr>\n",
       "    <tr>\n",
       "      <th>11</th>\n",
       "      <td>Superman Returns?ï¿½</td>\n",
       "      <td>434</td>\n",
       "      <td>169.0</td>\n",
       "      <td>NaN</td>\n",
       "      <td>903</td>\n",
       "      <td>18000</td>\n",
       "      <td>200069408</td>\n",
       "      <td>240396.0</td>\n",
       "      <td>NaN</td>\n",
       "      <td>2.0</td>\n",
       "      <td>2367</td>\n",
       "      <td>209000000</td>\n",
       "      <td>2006</td>\n",
       "      <td>10000.0</td>\n",
       "      <td>6.1</td>\n",
       "      <td>NaN</td>\n",
       "    </tr>\n",
       "    <tr>\n",
       "      <th>12</th>\n",
       "      <td>Quantum of Solace?ï¿½</td>\n",
       "      <td>403</td>\n",
       "      <td>106.0</td>\n",
       "      <td>395</td>\n",
       "      <td>393</td>\n",
       "      <td>451</td>\n",
       "      <td>168368427</td>\n",
       "      <td>330784.0</td>\n",
       "      <td>2023.0</td>\n",
       "      <td>1.0</td>\n",
       "      <td>1243</td>\n",
       "      <td>200000000</td>\n",
       "      <td>2008</td>\n",
       "      <td>412.0</td>\n",
       "      <td>6.7</td>\n",
       "      <td>2008.0</td>\n",
       "    </tr>\n",
       "    <tr>\n",
       "      <th>13</th>\n",
       "      <td>Pirates of the Caribbean: Dead Man's Chest?ï¿½</td>\n",
       "      <td>313</td>\n",
       "      <td>151.0</td>\n",
       "      <td>563</td>\n",
       "      <td>1000</td>\n",
       "      <td>40000</td>\n",
       "      <td>423032628</td>\n",
       "      <td>522040.0</td>\n",
       "      <td>48486.0</td>\n",
       "      <td>2.0</td>\n",
       "      <td>1832</td>\n",
       "      <td>225000000</td>\n",
       "      <td>2006</td>\n",
       "      <td>5000.0</td>\n",
       "      <td>7.3</td>\n",
       "      <td>2008.0</td>\n",
       "    </tr>\n",
       "  </tbody>\n",
       "</table>\n",
       "</div>"
      ],
      "text/plain": [
       "                                       MOVIE_TITLE  NUM_CRITIC_FOR_REVIEWS  \\\n",
       "0                                       Avatar?ï¿½                     723   \n",
       "1     Pirates of the Caribbean: At World's End?ï¿½                     302   \n",
       "2                                      Spectre?ï¿½                     602   \n",
       "3                        The Dark Knight Rises?ï¿½                     813   \n",
       "4                                  John Carter?ï¿½                     462   \n",
       "5                                 Spider-Man 3?ï¿½                     392   \n",
       "6                                      Tangled?ï¿½                     324   \n",
       "7                      Avengers: Age of Ultron?ï¿½                     635   \n",
       "8                      Avengers: Age of Ultron?ï¿½                     635   \n",
       "9       Harry Potter and the Half-Blood Prince?ï¿½                     375   \n",
       "10          Batman v Superman: Dawn of Justice?ï¿½                     673   \n",
       "11                            Superman Returns?ï¿½                     434   \n",
       "12                           Quantum of Solace?ï¿½                     403   \n",
       "13  Pirates of the Caribbean: Dead Man's Chest?ï¿½                     313   \n",
       "\n",
       "     TIME DIRECTOR_FACEBOOK_LIKES  ACTOR_3_FACEBOOK_LIKES  \\\n",
       "0   178.0                      10                     855   \n",
       "1     NaN                     563                    1000   \n",
       "2   148.0                      20                     161   \n",
       "3     NaN                   22000                   23000   \n",
       "4   132.0                   \"475\"                     530   \n",
       "5   156.0                      23                    4000   \n",
       "6     NaN                      15                     284   \n",
       "7   141.0                      10                   19000   \n",
       "8   141.0                      10                   19000   \n",
       "9   153.0                     282                   10000   \n",
       "10  183.0                     NaN                    2000   \n",
       "11  169.0                     NaN                     903   \n",
       "12  106.0                     395                     393   \n",
       "13  151.0                     563                    1000   \n",
       "\n",
       "    ACTOR_1_FACEBOOK_LIKES      GROSS  NUM_VOTED_USERS  \\\n",
       "0                     1000  760505847         886204.0   \n",
       "1                    40000  309404152         471220.0   \n",
       "2                    11000  200074175         275868.0   \n",
       "3                    27000  448130642        1144337.0   \n",
       "4                      640   73058679         212204.0   \n",
       "5                    24000  336530303         383056.0   \n",
       "6                      799  200807262         294810.0   \n",
       "7                    26000  458991599         462669.0   \n",
       "8                    26000  458991599         462669.0   \n",
       "9                    25000  301956980         321795.0   \n",
       "10                   15000  330249062              NaN   \n",
       "11                   18000  200069408         240396.0   \n",
       "12                     451  168368427         330784.0   \n",
       "13                   40000  423032628         522040.0   \n",
       "\n",
       "    CAST_TOTAL_FACEBOOK_LIKES  FACENUMBER_IN_POSTER  NUM_USER_FOR_REVIEWS  \\\n",
       "0                      4834.0                   NaN                  3054   \n",
       "1                     48350.0                   NaN                  1238   \n",
       "2                     11700.0                   1.0                   994   \n",
       "3                    106759.0                   NaN                  2701   \n",
       "4                      1873.0                   1.0                   738   \n",
       "5                     46055.0                   NaN                  1902   \n",
       "6                         NaN                   1.0                   387   \n",
       "7                     92000.0                   4.0                  1117   \n",
       "8                     92000.0                   4.0                  1117   \n",
       "9                     58753.0                   3.0                   973   \n",
       "10                    24450.0                   NaN                  3018   \n",
       "11                        NaN                   2.0                  2367   \n",
       "12                     2023.0                   1.0                  1243   \n",
       "13                    48486.0                   2.0                  1832   \n",
       "\n",
       "       BUDGET  TITLE_YEAR  ACTOR_2_FACEBOOK_LIKES  IMDB_SCORE  TITLE_YEAR.1  \n",
       "0   237000000        2009                   936.0         7.9        2009.0  \n",
       "1   300000000        2007                  5000.0         7.1           NaN  \n",
       "2   245000000        2015                   393.0         6.8        2015.0  \n",
       "3   250000000        2012                 23000.0         8.5           NaN  \n",
       "4   263700000        2012                   632.0         6.6           NaN  \n",
       "5   258000000        2007                 11000.0         6.2        2007.0  \n",
       "6   260000000        2010                   553.0         7.8           NaN  \n",
       "7   250000000        2015                 21000.0         7.5           NaN  \n",
       "8   250000000        2015                 21000.0         7.5        2015.0  \n",
       "9   250000000        2009                 11000.0         7.5           NaN  \n",
       "10  250000000        2016                     NaN         6.9        2016.0  \n",
       "11  209000000        2006                 10000.0         6.1           NaN  \n",
       "12  200000000        2008                   412.0         6.7        2008.0  \n",
       "13  225000000        2006                  5000.0         7.3        2008.0  "
      ]
     },
     "execution_count": 114,
     "metadata": {},
     "output_type": "execute_result"
    }
   ],
   "source": [
    "df.rename(columns = {'DURATION':'TIME'})"
   ]
  },
  {
   "cell_type": "markdown",
   "id": "a3fc7ea4-77f6-4b73-961f-9368442cc29f",
   "metadata": {},
   "source": [
    "Missing data"
   ]
  },
  {
   "cell_type": "code",
   "execution_count": 115,
   "id": "0ac49529-b9bb-4c43-8120-481bf747bd75",
   "metadata": {},
   "outputs": [
    {
     "data": {
      "text/html": [
       "<div>\n",
       "<style scoped>\n",
       "    .dataframe tbody tr th:only-of-type {\n",
       "        vertical-align: middle;\n",
       "    }\n",
       "\n",
       "    .dataframe tbody tr th {\n",
       "        vertical-align: top;\n",
       "    }\n",
       "\n",
       "    .dataframe thead th {\n",
       "        text-align: right;\n",
       "    }\n",
       "</style>\n",
       "<table border=\"1\" class=\"dataframe\">\n",
       "  <thead>\n",
       "    <tr style=\"text-align: right;\">\n",
       "      <th></th>\n",
       "      <th>MOVIE_TITLE</th>\n",
       "      <th>NUM_CRITIC_FOR_REVIEWS</th>\n",
       "      <th>DURATION</th>\n",
       "      <th>DIRECTOR_FACEBOOK_LIKES</th>\n",
       "      <th>ACTOR_3_FACEBOOK_LIKES</th>\n",
       "      <th>ACTOR_1_FACEBOOK_LIKES</th>\n",
       "      <th>GROSS</th>\n",
       "      <th>NUM_VOTED_USERS</th>\n",
       "      <th>CAST_TOTAL_FACEBOOK_LIKES</th>\n",
       "      <th>FACENUMBER_IN_POSTER</th>\n",
       "      <th>NUM_USER_FOR_REVIEWS</th>\n",
       "      <th>BUDGET</th>\n",
       "      <th>TITLE_YEAR</th>\n",
       "      <th>ACTOR_2_FACEBOOK_LIKES</th>\n",
       "      <th>IMDB_SCORE</th>\n",
       "      <th>TITLE_YEAR.1</th>\n",
       "    </tr>\n",
       "  </thead>\n",
       "  <tbody>\n",
       "    <tr>\n",
       "      <th>0</th>\n",
       "      <td>False</td>\n",
       "      <td>False</td>\n",
       "      <td>False</td>\n",
       "      <td>False</td>\n",
       "      <td>False</td>\n",
       "      <td>False</td>\n",
       "      <td>False</td>\n",
       "      <td>False</td>\n",
       "      <td>False</td>\n",
       "      <td>True</td>\n",
       "      <td>False</td>\n",
       "      <td>False</td>\n",
       "      <td>False</td>\n",
       "      <td>False</td>\n",
       "      <td>False</td>\n",
       "      <td>False</td>\n",
       "    </tr>\n",
       "    <tr>\n",
       "      <th>1</th>\n",
       "      <td>False</td>\n",
       "      <td>False</td>\n",
       "      <td>True</td>\n",
       "      <td>False</td>\n",
       "      <td>False</td>\n",
       "      <td>False</td>\n",
       "      <td>False</td>\n",
       "      <td>False</td>\n",
       "      <td>False</td>\n",
       "      <td>True</td>\n",
       "      <td>False</td>\n",
       "      <td>False</td>\n",
       "      <td>False</td>\n",
       "      <td>False</td>\n",
       "      <td>False</td>\n",
       "      <td>True</td>\n",
       "    </tr>\n",
       "    <tr>\n",
       "      <th>2</th>\n",
       "      <td>False</td>\n",
       "      <td>False</td>\n",
       "      <td>False</td>\n",
       "      <td>False</td>\n",
       "      <td>False</td>\n",
       "      <td>False</td>\n",
       "      <td>False</td>\n",
       "      <td>False</td>\n",
       "      <td>False</td>\n",
       "      <td>False</td>\n",
       "      <td>False</td>\n",
       "      <td>False</td>\n",
       "      <td>False</td>\n",
       "      <td>False</td>\n",
       "      <td>False</td>\n",
       "      <td>False</td>\n",
       "    </tr>\n",
       "    <tr>\n",
       "      <th>3</th>\n",
       "      <td>False</td>\n",
       "      <td>False</td>\n",
       "      <td>True</td>\n",
       "      <td>False</td>\n",
       "      <td>False</td>\n",
       "      <td>False</td>\n",
       "      <td>False</td>\n",
       "      <td>False</td>\n",
       "      <td>False</td>\n",
       "      <td>True</td>\n",
       "      <td>False</td>\n",
       "      <td>False</td>\n",
       "      <td>False</td>\n",
       "      <td>False</td>\n",
       "      <td>False</td>\n",
       "      <td>True</td>\n",
       "    </tr>\n",
       "    <tr>\n",
       "      <th>4</th>\n",
       "      <td>False</td>\n",
       "      <td>False</td>\n",
       "      <td>False</td>\n",
       "      <td>False</td>\n",
       "      <td>False</td>\n",
       "      <td>False</td>\n",
       "      <td>False</td>\n",
       "      <td>False</td>\n",
       "      <td>False</td>\n",
       "      <td>False</td>\n",
       "      <td>False</td>\n",
       "      <td>False</td>\n",
       "      <td>False</td>\n",
       "      <td>False</td>\n",
       "      <td>False</td>\n",
       "      <td>True</td>\n",
       "    </tr>\n",
       "    <tr>\n",
       "      <th>5</th>\n",
       "      <td>False</td>\n",
       "      <td>False</td>\n",
       "      <td>False</td>\n",
       "      <td>False</td>\n",
       "      <td>False</td>\n",
       "      <td>False</td>\n",
       "      <td>False</td>\n",
       "      <td>False</td>\n",
       "      <td>False</td>\n",
       "      <td>True</td>\n",
       "      <td>False</td>\n",
       "      <td>False</td>\n",
       "      <td>False</td>\n",
       "      <td>False</td>\n",
       "      <td>False</td>\n",
       "      <td>False</td>\n",
       "    </tr>\n",
       "    <tr>\n",
       "      <th>6</th>\n",
       "      <td>False</td>\n",
       "      <td>False</td>\n",
       "      <td>True</td>\n",
       "      <td>False</td>\n",
       "      <td>False</td>\n",
       "      <td>False</td>\n",
       "      <td>False</td>\n",
       "      <td>False</td>\n",
       "      <td>True</td>\n",
       "      <td>False</td>\n",
       "      <td>False</td>\n",
       "      <td>False</td>\n",
       "      <td>False</td>\n",
       "      <td>False</td>\n",
       "      <td>False</td>\n",
       "      <td>True</td>\n",
       "    </tr>\n",
       "    <tr>\n",
       "      <th>7</th>\n",
       "      <td>False</td>\n",
       "      <td>False</td>\n",
       "      <td>False</td>\n",
       "      <td>False</td>\n",
       "      <td>False</td>\n",
       "      <td>False</td>\n",
       "      <td>False</td>\n",
       "      <td>False</td>\n",
       "      <td>False</td>\n",
       "      <td>False</td>\n",
       "      <td>False</td>\n",
       "      <td>False</td>\n",
       "      <td>False</td>\n",
       "      <td>False</td>\n",
       "      <td>False</td>\n",
       "      <td>True</td>\n",
       "    </tr>\n",
       "    <tr>\n",
       "      <th>8</th>\n",
       "      <td>False</td>\n",
       "      <td>False</td>\n",
       "      <td>False</td>\n",
       "      <td>False</td>\n",
       "      <td>False</td>\n",
       "      <td>False</td>\n",
       "      <td>False</td>\n",
       "      <td>False</td>\n",
       "      <td>False</td>\n",
       "      <td>False</td>\n",
       "      <td>False</td>\n",
       "      <td>False</td>\n",
       "      <td>False</td>\n",
       "      <td>False</td>\n",
       "      <td>False</td>\n",
       "      <td>False</td>\n",
       "    </tr>\n",
       "    <tr>\n",
       "      <th>9</th>\n",
       "      <td>False</td>\n",
       "      <td>False</td>\n",
       "      <td>False</td>\n",
       "      <td>False</td>\n",
       "      <td>False</td>\n",
       "      <td>False</td>\n",
       "      <td>False</td>\n",
       "      <td>False</td>\n",
       "      <td>False</td>\n",
       "      <td>False</td>\n",
       "      <td>False</td>\n",
       "      <td>False</td>\n",
       "      <td>False</td>\n",
       "      <td>False</td>\n",
       "      <td>False</td>\n",
       "      <td>True</td>\n",
       "    </tr>\n",
       "    <tr>\n",
       "      <th>10</th>\n",
       "      <td>False</td>\n",
       "      <td>False</td>\n",
       "      <td>False</td>\n",
       "      <td>True</td>\n",
       "      <td>False</td>\n",
       "      <td>False</td>\n",
       "      <td>False</td>\n",
       "      <td>True</td>\n",
       "      <td>False</td>\n",
       "      <td>True</td>\n",
       "      <td>False</td>\n",
       "      <td>False</td>\n",
       "      <td>False</td>\n",
       "      <td>True</td>\n",
       "      <td>False</td>\n",
       "      <td>False</td>\n",
       "    </tr>\n",
       "    <tr>\n",
       "      <th>11</th>\n",
       "      <td>False</td>\n",
       "      <td>False</td>\n",
       "      <td>False</td>\n",
       "      <td>True</td>\n",
       "      <td>False</td>\n",
       "      <td>False</td>\n",
       "      <td>False</td>\n",
       "      <td>False</td>\n",
       "      <td>True</td>\n",
       "      <td>False</td>\n",
       "      <td>False</td>\n",
       "      <td>False</td>\n",
       "      <td>False</td>\n",
       "      <td>False</td>\n",
       "      <td>False</td>\n",
       "      <td>True</td>\n",
       "    </tr>\n",
       "    <tr>\n",
       "      <th>12</th>\n",
       "      <td>False</td>\n",
       "      <td>False</td>\n",
       "      <td>False</td>\n",
       "      <td>False</td>\n",
       "      <td>False</td>\n",
       "      <td>False</td>\n",
       "      <td>False</td>\n",
       "      <td>False</td>\n",
       "      <td>False</td>\n",
       "      <td>False</td>\n",
       "      <td>False</td>\n",
       "      <td>False</td>\n",
       "      <td>False</td>\n",
       "      <td>False</td>\n",
       "      <td>False</td>\n",
       "      <td>False</td>\n",
       "    </tr>\n",
       "    <tr>\n",
       "      <th>13</th>\n",
       "      <td>False</td>\n",
       "      <td>False</td>\n",
       "      <td>False</td>\n",
       "      <td>False</td>\n",
       "      <td>False</td>\n",
       "      <td>False</td>\n",
       "      <td>False</td>\n",
       "      <td>False</td>\n",
       "      <td>False</td>\n",
       "      <td>False</td>\n",
       "      <td>False</td>\n",
       "      <td>False</td>\n",
       "      <td>False</td>\n",
       "      <td>False</td>\n",
       "      <td>False</td>\n",
       "      <td>False</td>\n",
       "    </tr>\n",
       "  </tbody>\n",
       "</table>\n",
       "</div>"
      ],
      "text/plain": [
       "    MOVIE_TITLE  NUM_CRITIC_FOR_REVIEWS  DURATION  DIRECTOR_FACEBOOK_LIKES  \\\n",
       "0         False                   False     False                    False   \n",
       "1         False                   False      True                    False   \n",
       "2         False                   False     False                    False   \n",
       "3         False                   False      True                    False   \n",
       "4         False                   False     False                    False   \n",
       "5         False                   False     False                    False   \n",
       "6         False                   False      True                    False   \n",
       "7         False                   False     False                    False   \n",
       "8         False                   False     False                    False   \n",
       "9         False                   False     False                    False   \n",
       "10        False                   False     False                     True   \n",
       "11        False                   False     False                     True   \n",
       "12        False                   False     False                    False   \n",
       "13        False                   False     False                    False   \n",
       "\n",
       "    ACTOR_3_FACEBOOK_LIKES  ACTOR_1_FACEBOOK_LIKES  GROSS  NUM_VOTED_USERS  \\\n",
       "0                    False                   False  False            False   \n",
       "1                    False                   False  False            False   \n",
       "2                    False                   False  False            False   \n",
       "3                    False                   False  False            False   \n",
       "4                    False                   False  False            False   \n",
       "5                    False                   False  False            False   \n",
       "6                    False                   False  False            False   \n",
       "7                    False                   False  False            False   \n",
       "8                    False                   False  False            False   \n",
       "9                    False                   False  False            False   \n",
       "10                   False                   False  False             True   \n",
       "11                   False                   False  False            False   \n",
       "12                   False                   False  False            False   \n",
       "13                   False                   False  False            False   \n",
       "\n",
       "    CAST_TOTAL_FACEBOOK_LIKES  FACENUMBER_IN_POSTER  NUM_USER_FOR_REVIEWS  \\\n",
       "0                       False                  True                 False   \n",
       "1                       False                  True                 False   \n",
       "2                       False                 False                 False   \n",
       "3                       False                  True                 False   \n",
       "4                       False                 False                 False   \n",
       "5                       False                  True                 False   \n",
       "6                        True                 False                 False   \n",
       "7                       False                 False                 False   \n",
       "8                       False                 False                 False   \n",
       "9                       False                 False                 False   \n",
       "10                      False                  True                 False   \n",
       "11                       True                 False                 False   \n",
       "12                      False                 False                 False   \n",
       "13                      False                 False                 False   \n",
       "\n",
       "    BUDGET  TITLE_YEAR  ACTOR_2_FACEBOOK_LIKES  IMDB_SCORE  TITLE_YEAR.1  \n",
       "0    False       False                   False       False         False  \n",
       "1    False       False                   False       False          True  \n",
       "2    False       False                   False       False         False  \n",
       "3    False       False                   False       False          True  \n",
       "4    False       False                   False       False          True  \n",
       "5    False       False                   False       False         False  \n",
       "6    False       False                   False       False          True  \n",
       "7    False       False                   False       False          True  \n",
       "8    False       False                   False       False         False  \n",
       "9    False       False                   False       False          True  \n",
       "10   False       False                    True       False         False  \n",
       "11   False       False                   False       False          True  \n",
       "12   False       False                   False       False         False  \n",
       "13   False       False                   False       False         False  "
      ]
     },
     "execution_count": 115,
     "metadata": {},
     "output_type": "execute_result"
    }
   ],
   "source": [
    "df.isnull()"
   ]
  },
  {
   "cell_type": "code",
   "execution_count": 116,
   "id": "cbfd29d4-82a0-403e-a708-1758da762b0c",
   "metadata": {},
   "outputs": [
    {
     "data": {
      "text/plain": [
       "MOVIE_TITLE                  False\n",
       "NUM_CRITIC_FOR_REVIEWS       False\n",
       "DURATION                      True\n",
       "DIRECTOR_FACEBOOK_LIKES       True\n",
       "ACTOR_3_FACEBOOK_LIKES       False\n",
       "ACTOR_1_FACEBOOK_LIKES       False\n",
       "GROSS                        False\n",
       "NUM_VOTED_USERS               True\n",
       "CAST_TOTAL_FACEBOOK_LIKES     True\n",
       "FACENUMBER_IN_POSTER          True\n",
       "NUM_USER_FOR_REVIEWS         False\n",
       "BUDGET                       False\n",
       "TITLE_YEAR                   False\n",
       "ACTOR_2_FACEBOOK_LIKES        True\n",
       "IMDB_SCORE                   False\n",
       "TITLE_YEAR.1                  True\n",
       "dtype: bool"
      ]
     },
     "execution_count": 116,
     "metadata": {},
     "output_type": "execute_result"
    }
   ],
   "source": [
    "df.isnull().any()"
   ]
  },
  {
   "cell_type": "code",
   "execution_count": 117,
   "id": "1d8af1e9-df6e-479c-ab95-e5b36f8264ea",
   "metadata": {},
   "outputs": [
    {
     "data": {
      "text/plain": [
       "True"
      ]
     },
     "execution_count": 117,
     "metadata": {},
     "output_type": "execute_result"
    }
   ],
   "source": [
    "df.isnull().any().any() # for missing value in the entire Dataframe"
   ]
  },
  {
   "cell_type": "code",
   "execution_count": 118,
   "id": "a55b9959-dec1-43b2-9f78-3911bb62f7e9",
   "metadata": {},
   "outputs": [
    {
     "data": {
      "text/plain": [
       "MOVIE_TITLE                  0\n",
       "NUM_CRITIC_FOR_REVIEWS       0\n",
       "DURATION                     3\n",
       "DIRECTOR_FACEBOOK_LIKES      2\n",
       "ACTOR_3_FACEBOOK_LIKES       0\n",
       "ACTOR_1_FACEBOOK_LIKES       0\n",
       "GROSS                        0\n",
       "NUM_VOTED_USERS              1\n",
       "CAST_TOTAL_FACEBOOK_LIKES    2\n",
       "FACENUMBER_IN_POSTER         5\n",
       "NUM_USER_FOR_REVIEWS         0\n",
       "BUDGET                       0\n",
       "TITLE_YEAR                   0\n",
       "ACTOR_2_FACEBOOK_LIKES       1\n",
       "IMDB_SCORE                   0\n",
       "TITLE_YEAR.1                 7\n",
       "dtype: int64"
      ]
     },
     "execution_count": 118,
     "metadata": {},
     "output_type": "execute_result"
    }
   ],
   "source": [
    "df.isnull().sum() # for columns with any missing value"
   ]
  },
  {
   "cell_type": "code",
   "execution_count": 119,
   "id": "f1e128f5-1fd1-42d2-9256-0d050e7946a1",
   "metadata": {},
   "outputs": [
    {
     "data": {
      "text/plain": [
       "21"
      ]
     },
     "execution_count": 119,
     "metadata": {},
     "output_type": "execute_result"
    }
   ],
   "source": [
    "df.isnull().sum().sum() # for total number of missing values"
   ]
  },
  {
   "cell_type": "markdown",
   "id": "986add6b-7d7b-49df-9fbd-0b3b2e2df00d",
   "metadata": {},
   "source": [
    "Adding a Default Value or Filling the Missing Data"
   ]
  },
  {
   "cell_type": "code",
   "execution_count": 120,
   "id": "f6715665-1e05-437d-9f7a-9d2a0f792e03",
   "metadata": {},
   "outputs": [
    {
     "data": {
      "text/html": [
       "<div>\n",
       "<style scoped>\n",
       "    .dataframe tbody tr th:only-of-type {\n",
       "        vertical-align: middle;\n",
       "    }\n",
       "\n",
       "    .dataframe tbody tr th {\n",
       "        vertical-align: top;\n",
       "    }\n",
       "\n",
       "    .dataframe thead th {\n",
       "        text-align: right;\n",
       "    }\n",
       "</style>\n",
       "<table border=\"1\" class=\"dataframe\">\n",
       "  <thead>\n",
       "    <tr style=\"text-align: right;\">\n",
       "      <th></th>\n",
       "      <th>MOVIE_TITLE</th>\n",
       "      <th>NUM_CRITIC_FOR_REVIEWS</th>\n",
       "      <th>DURATION</th>\n",
       "      <th>DIRECTOR_FACEBOOK_LIKES</th>\n",
       "      <th>ACTOR_3_FACEBOOK_LIKES</th>\n",
       "      <th>ACTOR_1_FACEBOOK_LIKES</th>\n",
       "      <th>GROSS</th>\n",
       "      <th>NUM_VOTED_USERS</th>\n",
       "      <th>CAST_TOTAL_FACEBOOK_LIKES</th>\n",
       "      <th>FACENUMBER_IN_POSTER</th>\n",
       "      <th>NUM_USER_FOR_REVIEWS</th>\n",
       "      <th>BUDGET</th>\n",
       "      <th>TITLE_YEAR</th>\n",
       "      <th>ACTOR_2_FACEBOOK_LIKES</th>\n",
       "      <th>IMDB_SCORE</th>\n",
       "      <th>TITLE_YEAR.1</th>\n",
       "    </tr>\n",
       "  </thead>\n",
       "  <tbody>\n",
       "    <tr>\n",
       "      <th>0</th>\n",
       "      <td>Avatar?ï¿½</td>\n",
       "      <td>723</td>\n",
       "      <td>178.0</td>\n",
       "      <td>10</td>\n",
       "      <td>855</td>\n",
       "      <td>1000</td>\n",
       "      <td>760505847</td>\n",
       "      <td>886204.0</td>\n",
       "      <td>4834.0</td>\n",
       "      <td>NaN</td>\n",
       "      <td>3054</td>\n",
       "      <td>237000000</td>\n",
       "      <td>2009</td>\n",
       "      <td>936.0</td>\n",
       "      <td>7.9</td>\n",
       "      <td>2009.0</td>\n",
       "    </tr>\n",
       "    <tr>\n",
       "      <th>1</th>\n",
       "      <td>Pirates of the Caribbean: At World's End?ï¿½</td>\n",
       "      <td>302</td>\n",
       "      <td>NaN</td>\n",
       "      <td>563</td>\n",
       "      <td>1000</td>\n",
       "      <td>40000</td>\n",
       "      <td>309404152</td>\n",
       "      <td>471220.0</td>\n",
       "      <td>48350.0</td>\n",
       "      <td>NaN</td>\n",
       "      <td>1238</td>\n",
       "      <td>300000000</td>\n",
       "      <td>2007</td>\n",
       "      <td>5000.0</td>\n",
       "      <td>7.1</td>\n",
       "      <td>NaN</td>\n",
       "    </tr>\n",
       "    <tr>\n",
       "      <th>2</th>\n",
       "      <td>Spectre?ï¿½</td>\n",
       "      <td>602</td>\n",
       "      <td>148.0</td>\n",
       "      <td>20</td>\n",
       "      <td>161</td>\n",
       "      <td>11000</td>\n",
       "      <td>200074175</td>\n",
       "      <td>275868.0</td>\n",
       "      <td>11700.0</td>\n",
       "      <td>1.0</td>\n",
       "      <td>994</td>\n",
       "      <td>245000000</td>\n",
       "      <td>2015</td>\n",
       "      <td>393.0</td>\n",
       "      <td>6.8</td>\n",
       "      <td>2015.0</td>\n",
       "    </tr>\n",
       "    <tr>\n",
       "      <th>3</th>\n",
       "      <td>The Dark Knight Rises?ï¿½</td>\n",
       "      <td>813</td>\n",
       "      <td>NaN</td>\n",
       "      <td>22000</td>\n",
       "      <td>23000</td>\n",
       "      <td>27000</td>\n",
       "      <td>448130642</td>\n",
       "      <td>1144337.0</td>\n",
       "      <td>106759.0</td>\n",
       "      <td>NaN</td>\n",
       "      <td>2701</td>\n",
       "      <td>250000000</td>\n",
       "      <td>2012</td>\n",
       "      <td>23000.0</td>\n",
       "      <td>8.5</td>\n",
       "      <td>NaN</td>\n",
       "    </tr>\n",
       "    <tr>\n",
       "      <th>4</th>\n",
       "      <td>John Carter?ï¿½</td>\n",
       "      <td>462</td>\n",
       "      <td>132.0</td>\n",
       "      <td>\"475\"</td>\n",
       "      <td>530</td>\n",
       "      <td>640</td>\n",
       "      <td>73058679</td>\n",
       "      <td>212204.0</td>\n",
       "      <td>1873.0</td>\n",
       "      <td>1.0</td>\n",
       "      <td>738</td>\n",
       "      <td>263700000</td>\n",
       "      <td>2012</td>\n",
       "      <td>632.0</td>\n",
       "      <td>6.6</td>\n",
       "      <td>NaN</td>\n",
       "    </tr>\n",
       "  </tbody>\n",
       "</table>\n",
       "</div>"
      ],
      "text/plain": [
       "                                    MOVIE_TITLE  NUM_CRITIC_FOR_REVIEWS  \\\n",
       "0                                    Avatar?ï¿½                     723   \n",
       "1  Pirates of the Caribbean: At World's End?ï¿½                     302   \n",
       "2                                   Spectre?ï¿½                     602   \n",
       "3                     The Dark Knight Rises?ï¿½                     813   \n",
       "4                               John Carter?ï¿½                     462   \n",
       "\n",
       "   DURATION DIRECTOR_FACEBOOK_LIKES  ACTOR_3_FACEBOOK_LIKES  \\\n",
       "0     178.0                      10                     855   \n",
       "1       NaN                     563                    1000   \n",
       "2     148.0                      20                     161   \n",
       "3       NaN                   22000                   23000   \n",
       "4     132.0                   \"475\"                     530   \n",
       "\n",
       "   ACTOR_1_FACEBOOK_LIKES      GROSS  NUM_VOTED_USERS  \\\n",
       "0                    1000  760505847         886204.0   \n",
       "1                   40000  309404152         471220.0   \n",
       "2                   11000  200074175         275868.0   \n",
       "3                   27000  448130642        1144337.0   \n",
       "4                     640   73058679         212204.0   \n",
       "\n",
       "   CAST_TOTAL_FACEBOOK_LIKES  FACENUMBER_IN_POSTER  NUM_USER_FOR_REVIEWS  \\\n",
       "0                     4834.0                   NaN                  3054   \n",
       "1                    48350.0                   NaN                  1238   \n",
       "2                    11700.0                   1.0                   994   \n",
       "3                   106759.0                   NaN                  2701   \n",
       "4                     1873.0                   1.0                   738   \n",
       "\n",
       "      BUDGET  TITLE_YEAR  ACTOR_2_FACEBOOK_LIKES  IMDB_SCORE  TITLE_YEAR.1  \n",
       "0  237000000        2009                   936.0         7.9        2009.0  \n",
       "1  300000000        2007                  5000.0         7.1           NaN  \n",
       "2  245000000        2015                   393.0         6.8        2015.0  \n",
       "3  250000000        2012                 23000.0         8.5           NaN  \n",
       "4  263700000        2012                   632.0         6.6           NaN  "
      ]
     },
     "execution_count": 120,
     "metadata": {},
     "output_type": "execute_result"
    }
   ],
   "source": [
    "df.head()"
   ]
  },
  {
   "cell_type": "code",
   "execution_count": 121,
   "id": "e7851ec6-f8fd-4405-bbfa-8152559915c1",
   "metadata": {},
   "outputs": [],
   "source": [
    "df_with_0 = df.fillna(0) # Fills missing data with zeros"
   ]
  },
  {
   "cell_type": "code",
   "execution_count": 122,
   "id": "f284b616-f73e-4da8-8351-93f5c2ab90fc",
   "metadata": {},
   "outputs": [
    {
     "data": {
      "text/html": [
       "<div>\n",
       "<style scoped>\n",
       "    .dataframe tbody tr th:only-of-type {\n",
       "        vertical-align: middle;\n",
       "    }\n",
       "\n",
       "    .dataframe tbody tr th {\n",
       "        vertical-align: top;\n",
       "    }\n",
       "\n",
       "    .dataframe thead th {\n",
       "        text-align: right;\n",
       "    }\n",
       "</style>\n",
       "<table border=\"1\" class=\"dataframe\">\n",
       "  <thead>\n",
       "    <tr style=\"text-align: right;\">\n",
       "      <th></th>\n",
       "      <th>MOVIE_TITLE</th>\n",
       "      <th>NUM_CRITIC_FOR_REVIEWS</th>\n",
       "      <th>DURATION</th>\n",
       "      <th>DIRECTOR_FACEBOOK_LIKES</th>\n",
       "      <th>ACTOR_3_FACEBOOK_LIKES</th>\n",
       "      <th>ACTOR_1_FACEBOOK_LIKES</th>\n",
       "      <th>GROSS</th>\n",
       "      <th>NUM_VOTED_USERS</th>\n",
       "      <th>CAST_TOTAL_FACEBOOK_LIKES</th>\n",
       "      <th>FACENUMBER_IN_POSTER</th>\n",
       "      <th>NUM_USER_FOR_REVIEWS</th>\n",
       "      <th>BUDGET</th>\n",
       "      <th>TITLE_YEAR</th>\n",
       "      <th>ACTOR_2_FACEBOOK_LIKES</th>\n",
       "      <th>IMDB_SCORE</th>\n",
       "      <th>TITLE_YEAR.1</th>\n",
       "    </tr>\n",
       "  </thead>\n",
       "  <tbody>\n",
       "    <tr>\n",
       "      <th>0</th>\n",
       "      <td>Avatar?ï¿½</td>\n",
       "      <td>723</td>\n",
       "      <td>178.0</td>\n",
       "      <td>10</td>\n",
       "      <td>855</td>\n",
       "      <td>1000</td>\n",
       "      <td>760505847</td>\n",
       "      <td>886204.0</td>\n",
       "      <td>4834.0</td>\n",
       "      <td>0.0</td>\n",
       "      <td>3054</td>\n",
       "      <td>237000000</td>\n",
       "      <td>2009</td>\n",
       "      <td>936.0</td>\n",
       "      <td>7.9</td>\n",
       "      <td>2009.0</td>\n",
       "    </tr>\n",
       "    <tr>\n",
       "      <th>1</th>\n",
       "      <td>Pirates of the Caribbean: At World's End?ï¿½</td>\n",
       "      <td>302</td>\n",
       "      <td>0.0</td>\n",
       "      <td>563</td>\n",
       "      <td>1000</td>\n",
       "      <td>40000</td>\n",
       "      <td>309404152</td>\n",
       "      <td>471220.0</td>\n",
       "      <td>48350.0</td>\n",
       "      <td>0.0</td>\n",
       "      <td>1238</td>\n",
       "      <td>300000000</td>\n",
       "      <td>2007</td>\n",
       "      <td>5000.0</td>\n",
       "      <td>7.1</td>\n",
       "      <td>0.0</td>\n",
       "    </tr>\n",
       "    <tr>\n",
       "      <th>2</th>\n",
       "      <td>Spectre?ï¿½</td>\n",
       "      <td>602</td>\n",
       "      <td>148.0</td>\n",
       "      <td>20</td>\n",
       "      <td>161</td>\n",
       "      <td>11000</td>\n",
       "      <td>200074175</td>\n",
       "      <td>275868.0</td>\n",
       "      <td>11700.0</td>\n",
       "      <td>1.0</td>\n",
       "      <td>994</td>\n",
       "      <td>245000000</td>\n",
       "      <td>2015</td>\n",
       "      <td>393.0</td>\n",
       "      <td>6.8</td>\n",
       "      <td>2015.0</td>\n",
       "    </tr>\n",
       "    <tr>\n",
       "      <th>3</th>\n",
       "      <td>The Dark Knight Rises?ï¿½</td>\n",
       "      <td>813</td>\n",
       "      <td>0.0</td>\n",
       "      <td>22000</td>\n",
       "      <td>23000</td>\n",
       "      <td>27000</td>\n",
       "      <td>448130642</td>\n",
       "      <td>1144337.0</td>\n",
       "      <td>106759.0</td>\n",
       "      <td>0.0</td>\n",
       "      <td>2701</td>\n",
       "      <td>250000000</td>\n",
       "      <td>2012</td>\n",
       "      <td>23000.0</td>\n",
       "      <td>8.5</td>\n",
       "      <td>0.0</td>\n",
       "    </tr>\n",
       "    <tr>\n",
       "      <th>4</th>\n",
       "      <td>John Carter?ï¿½</td>\n",
       "      <td>462</td>\n",
       "      <td>132.0</td>\n",
       "      <td>\"475\"</td>\n",
       "      <td>530</td>\n",
       "      <td>640</td>\n",
       "      <td>73058679</td>\n",
       "      <td>212204.0</td>\n",
       "      <td>1873.0</td>\n",
       "      <td>1.0</td>\n",
       "      <td>738</td>\n",
       "      <td>263700000</td>\n",
       "      <td>2012</td>\n",
       "      <td>632.0</td>\n",
       "      <td>6.6</td>\n",
       "      <td>0.0</td>\n",
       "    </tr>\n",
       "  </tbody>\n",
       "</table>\n",
       "</div>"
      ],
      "text/plain": [
       "                                    MOVIE_TITLE  NUM_CRITIC_FOR_REVIEWS  \\\n",
       "0                                    Avatar?ï¿½                     723   \n",
       "1  Pirates of the Caribbean: At World's End?ï¿½                     302   \n",
       "2                                   Spectre?ï¿½                     602   \n",
       "3                     The Dark Knight Rises?ï¿½                     813   \n",
       "4                               John Carter?ï¿½                     462   \n",
       "\n",
       "   DURATION DIRECTOR_FACEBOOK_LIKES  ACTOR_3_FACEBOOK_LIKES  \\\n",
       "0     178.0                      10                     855   \n",
       "1       0.0                     563                    1000   \n",
       "2     148.0                      20                     161   \n",
       "3       0.0                   22000                   23000   \n",
       "4     132.0                   \"475\"                     530   \n",
       "\n",
       "   ACTOR_1_FACEBOOK_LIKES      GROSS  NUM_VOTED_USERS  \\\n",
       "0                    1000  760505847         886204.0   \n",
       "1                   40000  309404152         471220.0   \n",
       "2                   11000  200074175         275868.0   \n",
       "3                   27000  448130642        1144337.0   \n",
       "4                     640   73058679         212204.0   \n",
       "\n",
       "   CAST_TOTAL_FACEBOOK_LIKES  FACENUMBER_IN_POSTER  NUM_USER_FOR_REVIEWS  \\\n",
       "0                     4834.0                   0.0                  3054   \n",
       "1                    48350.0                   0.0                  1238   \n",
       "2                    11700.0                   1.0                   994   \n",
       "3                   106759.0                   0.0                  2701   \n",
       "4                     1873.0                   1.0                   738   \n",
       "\n",
       "      BUDGET  TITLE_YEAR  ACTOR_2_FACEBOOK_LIKES  IMDB_SCORE  TITLE_YEAR.1  \n",
       "0  237000000        2009                   936.0         7.9        2009.0  \n",
       "1  300000000        2007                  5000.0         7.1           0.0  \n",
       "2  245000000        2015                   393.0         6.8        2015.0  \n",
       "3  250000000        2012                 23000.0         8.5           0.0  \n",
       "4  263700000        2012                   632.0         6.6           0.0  "
      ]
     },
     "execution_count": 122,
     "metadata": {},
     "output_type": "execute_result"
    }
   ],
   "source": [
    "df_with_0.head()"
   ]
  },
  {
   "cell_type": "code",
   "execution_count": 123,
   "id": "11616a69-0cea-416c-9fc1-85b465950056",
   "metadata": {},
   "outputs": [
    {
     "data": {
      "text/plain": [
       "0     178.0\n",
       "1       NaN\n",
       "2     148.0\n",
       "3       NaN\n",
       "4     132.0\n",
       "5     156.0\n",
       "6       NaN\n",
       "7     141.0\n",
       "8     141.0\n",
       "9     153.0\n",
       "10    183.0\n",
       "11    169.0\n",
       "12    106.0\n",
       "13    151.0\n",
       "Name: DURATION, dtype: float64"
      ]
     },
     "execution_count": 123,
     "metadata": {},
     "output_type": "execute_result"
    }
   ],
   "source": [
    "df['DURATION']"
   ]
  },
  {
   "cell_type": "code",
   "execution_count": 124,
   "id": "0914b273-cda4-421e-9d2c-f9c08bc82ae8",
   "metadata": {},
   "outputs": [
    {
     "data": {
      "text/plain": [
       "150.72727272727272"
      ]
     },
     "execution_count": 124,
     "metadata": {},
     "output_type": "execute_result"
    }
   ],
   "source": [
    "df['DURATION'].mean() # calculates the mean of the duration column"
   ]
  },
  {
   "cell_type": "code",
   "execution_count": 125,
   "id": "b38269b7-e407-4244-a7e2-7d6640fe51d6",
   "metadata": {},
   "outputs": [],
   "source": [
    "df_with_mean = df.DURATION.fillna(df['DURATION'].mean()) # Fills the duration column with the mean value"
   ]
  },
  {
   "cell_type": "code",
   "execution_count": 126,
   "id": "8d8e997d-bc06-4a02-b19a-13ea1bc62045",
   "metadata": {},
   "outputs": [
    {
     "data": {
      "text/plain": [
       "0     178.000000\n",
       "1     150.727273\n",
       "2     148.000000\n",
       "3     150.727273\n",
       "4     132.000000\n",
       "5     156.000000\n",
       "6     150.727273\n",
       "7     141.000000\n",
       "8     141.000000\n",
       "9     153.000000\n",
       "10    183.000000\n",
       "11    169.000000\n",
       "12    106.000000\n",
       "13    151.000000\n",
       "Name: DURATION, dtype: float64"
      ]
     },
     "execution_count": 126,
     "metadata": {},
     "output_type": "execute_result"
    }
   ],
   "source": [
    "df_with_mean"
   ]
  },
  {
   "cell_type": "markdown",
   "id": "3b3a2013-0a30-4565-9e1a-489cf0bb17b5",
   "metadata": {},
   "source": [
    "Dropping NAs "
   ]
  },
  {
   "cell_type": "code",
   "execution_count": 127,
   "id": "5fcec2fb-6dff-4f05-976b-04d2e5142a6b",
   "metadata": {},
   "outputs": [
    {
     "data": {
      "text/html": [
       "<div>\n",
       "<style scoped>\n",
       "    .dataframe tbody tr th:only-of-type {\n",
       "        vertical-align: middle;\n",
       "    }\n",
       "\n",
       "    .dataframe tbody tr th {\n",
       "        vertical-align: top;\n",
       "    }\n",
       "\n",
       "    .dataframe thead th {\n",
       "        text-align: right;\n",
       "    }\n",
       "</style>\n",
       "<table border=\"1\" class=\"dataframe\">\n",
       "  <thead>\n",
       "    <tr style=\"text-align: right;\">\n",
       "      <th></th>\n",
       "      <th>MOVIE_TITLE</th>\n",
       "      <th>NUM_CRITIC_FOR_REVIEWS</th>\n",
       "      <th>DURATION</th>\n",
       "      <th>DIRECTOR_FACEBOOK_LIKES</th>\n",
       "      <th>ACTOR_3_FACEBOOK_LIKES</th>\n",
       "      <th>ACTOR_1_FACEBOOK_LIKES</th>\n",
       "      <th>GROSS</th>\n",
       "      <th>NUM_VOTED_USERS</th>\n",
       "      <th>CAST_TOTAL_FACEBOOK_LIKES</th>\n",
       "      <th>FACENUMBER_IN_POSTER</th>\n",
       "      <th>NUM_USER_FOR_REVIEWS</th>\n",
       "      <th>BUDGET</th>\n",
       "      <th>TITLE_YEAR</th>\n",
       "      <th>ACTOR_2_FACEBOOK_LIKES</th>\n",
       "      <th>IMDB_SCORE</th>\n",
       "      <th>TITLE_YEAR.1</th>\n",
       "    </tr>\n",
       "  </thead>\n",
       "  <tbody>\n",
       "    <tr>\n",
       "      <th>0</th>\n",
       "      <td>Avatar?ï¿½</td>\n",
       "      <td>723</td>\n",
       "      <td>178.0</td>\n",
       "      <td>10</td>\n",
       "      <td>855</td>\n",
       "      <td>1000</td>\n",
       "      <td>760505847</td>\n",
       "      <td>886204.0</td>\n",
       "      <td>4834.0</td>\n",
       "      <td>NaN</td>\n",
       "      <td>3054</td>\n",
       "      <td>237000000</td>\n",
       "      <td>2009</td>\n",
       "      <td>936.0</td>\n",
       "      <td>7.9</td>\n",
       "      <td>2009.0</td>\n",
       "    </tr>\n",
       "    <tr>\n",
       "      <th>1</th>\n",
       "      <td>Pirates of the Caribbean: At World's End?ï¿½</td>\n",
       "      <td>302</td>\n",
       "      <td>NaN</td>\n",
       "      <td>563</td>\n",
       "      <td>1000</td>\n",
       "      <td>40000</td>\n",
       "      <td>309404152</td>\n",
       "      <td>471220.0</td>\n",
       "      <td>48350.0</td>\n",
       "      <td>NaN</td>\n",
       "      <td>1238</td>\n",
       "      <td>300000000</td>\n",
       "      <td>2007</td>\n",
       "      <td>5000.0</td>\n",
       "      <td>7.1</td>\n",
       "      <td>NaN</td>\n",
       "    </tr>\n",
       "    <tr>\n",
       "      <th>2</th>\n",
       "      <td>Spectre?ï¿½</td>\n",
       "      <td>602</td>\n",
       "      <td>148.0</td>\n",
       "      <td>20</td>\n",
       "      <td>161</td>\n",
       "      <td>11000</td>\n",
       "      <td>200074175</td>\n",
       "      <td>275868.0</td>\n",
       "      <td>11700.0</td>\n",
       "      <td>1.0</td>\n",
       "      <td>994</td>\n",
       "      <td>245000000</td>\n",
       "      <td>2015</td>\n",
       "      <td>393.0</td>\n",
       "      <td>6.8</td>\n",
       "      <td>2015.0</td>\n",
       "    </tr>\n",
       "    <tr>\n",
       "      <th>3</th>\n",
       "      <td>The Dark Knight Rises?ï¿½</td>\n",
       "      <td>813</td>\n",
       "      <td>NaN</td>\n",
       "      <td>22000</td>\n",
       "      <td>23000</td>\n",
       "      <td>27000</td>\n",
       "      <td>448130642</td>\n",
       "      <td>1144337.0</td>\n",
       "      <td>106759.0</td>\n",
       "      <td>NaN</td>\n",
       "      <td>2701</td>\n",
       "      <td>250000000</td>\n",
       "      <td>2012</td>\n",
       "      <td>23000.0</td>\n",
       "      <td>8.5</td>\n",
       "      <td>NaN</td>\n",
       "    </tr>\n",
       "    <tr>\n",
       "      <th>4</th>\n",
       "      <td>John Carter?ï¿½</td>\n",
       "      <td>462</td>\n",
       "      <td>132.0</td>\n",
       "      <td>\"475\"</td>\n",
       "      <td>530</td>\n",
       "      <td>640</td>\n",
       "      <td>73058679</td>\n",
       "      <td>212204.0</td>\n",
       "      <td>1873.0</td>\n",
       "      <td>1.0</td>\n",
       "      <td>738</td>\n",
       "      <td>263700000</td>\n",
       "      <td>2012</td>\n",
       "      <td>632.0</td>\n",
       "      <td>6.6</td>\n",
       "      <td>NaN</td>\n",
       "    </tr>\n",
       "  </tbody>\n",
       "</table>\n",
       "</div>"
      ],
      "text/plain": [
       "                                    MOVIE_TITLE  NUM_CRITIC_FOR_REVIEWS  \\\n",
       "0                                    Avatar?ï¿½                     723   \n",
       "1  Pirates of the Caribbean: At World's End?ï¿½                     302   \n",
       "2                                   Spectre?ï¿½                     602   \n",
       "3                     The Dark Knight Rises?ï¿½                     813   \n",
       "4                               John Carter?ï¿½                     462   \n",
       "\n",
       "   DURATION DIRECTOR_FACEBOOK_LIKES  ACTOR_3_FACEBOOK_LIKES  \\\n",
       "0     178.0                      10                     855   \n",
       "1       NaN                     563                    1000   \n",
       "2     148.0                      20                     161   \n",
       "3       NaN                   22000                   23000   \n",
       "4     132.0                   \"475\"                     530   \n",
       "\n",
       "   ACTOR_1_FACEBOOK_LIKES      GROSS  NUM_VOTED_USERS  \\\n",
       "0                    1000  760505847         886204.0   \n",
       "1                   40000  309404152         471220.0   \n",
       "2                   11000  200074175         275868.0   \n",
       "3                   27000  448130642        1144337.0   \n",
       "4                     640   73058679         212204.0   \n",
       "\n",
       "   CAST_TOTAL_FACEBOOK_LIKES  FACENUMBER_IN_POSTER  NUM_USER_FOR_REVIEWS  \\\n",
       "0                     4834.0                   NaN                  3054   \n",
       "1                    48350.0                   NaN                  1238   \n",
       "2                    11700.0                   1.0                   994   \n",
       "3                   106759.0                   NaN                  2701   \n",
       "4                     1873.0                   1.0                   738   \n",
       "\n",
       "      BUDGET  TITLE_YEAR  ACTOR_2_FACEBOOK_LIKES  IMDB_SCORE  TITLE_YEAR.1  \n",
       "0  237000000        2009                   936.0         7.9        2009.0  \n",
       "1  300000000        2007                  5000.0         7.1           NaN  \n",
       "2  245000000        2015                   393.0         6.8        2015.0  \n",
       "3  250000000        2012                 23000.0         8.5           NaN  \n",
       "4  263700000        2012                   632.0         6.6           NaN  "
      ]
     },
     "execution_count": 127,
     "metadata": {},
     "output_type": "execute_result"
    }
   ],
   "source": [
    "df.head()"
   ]
  },
  {
   "cell_type": "code",
   "execution_count": 128,
   "id": "daa31761-1c4a-4cda-8433-e8da6919bc19",
   "metadata": {},
   "outputs": [
    {
     "data": {
      "text/plain": [
       "21"
      ]
     },
     "execution_count": 128,
     "metadata": {},
     "output_type": "execute_result"
    }
   ],
   "source": [
    "df.isnull().sum().sum()"
   ]
  },
  {
   "cell_type": "code",
   "execution_count": 129,
   "id": "c99131be-6683-45cb-a966-45e37b036910",
   "metadata": {},
   "outputs": [
    {
     "data": {
      "text/plain": [
       "(14, 16)"
      ]
     },
     "execution_count": 129,
     "metadata": {},
     "output_type": "execute_result"
    }
   ],
   "source": [
    "df.shape"
   ]
  },
  {
   "cell_type": "code",
   "execution_count": 130,
   "id": "2337e280-c97f-45c0-be28-5bc1433bce66",
   "metadata": {},
   "outputs": [],
   "source": [
    "df_drop = df.dropna()"
   ]
  },
  {
   "cell_type": "code",
   "execution_count": 131,
   "id": "2f3df4a5-4784-4661-880b-e5c02dd5e2e2",
   "metadata": {},
   "outputs": [
    {
     "data": {
      "text/plain": [
       "(4, 16)"
      ]
     },
     "execution_count": 131,
     "metadata": {},
     "output_type": "execute_result"
    }
   ],
   "source": [
    "df_drop.shape"
   ]
  },
  {
   "cell_type": "code",
   "execution_count": 132,
   "id": "54bcbf06-0f49-4738-86d5-12f59a81444d",
   "metadata": {},
   "outputs": [
    {
     "data": {
      "text/html": [
       "<div>\n",
       "<style scoped>\n",
       "    .dataframe tbody tr th:only-of-type {\n",
       "        vertical-align: middle;\n",
       "    }\n",
       "\n",
       "    .dataframe tbody tr th {\n",
       "        vertical-align: top;\n",
       "    }\n",
       "\n",
       "    .dataframe thead th {\n",
       "        text-align: right;\n",
       "    }\n",
       "</style>\n",
       "<table border=\"1\" class=\"dataframe\">\n",
       "  <thead>\n",
       "    <tr style=\"text-align: right;\">\n",
       "      <th></th>\n",
       "      <th>MOVIE_TITLE</th>\n",
       "      <th>NUM_CRITIC_FOR_REVIEWS</th>\n",
       "      <th>DURATION</th>\n",
       "      <th>DIRECTOR_FACEBOOK_LIKES</th>\n",
       "      <th>ACTOR_3_FACEBOOK_LIKES</th>\n",
       "      <th>ACTOR_1_FACEBOOK_LIKES</th>\n",
       "      <th>GROSS</th>\n",
       "      <th>NUM_VOTED_USERS</th>\n",
       "      <th>CAST_TOTAL_FACEBOOK_LIKES</th>\n",
       "      <th>FACENUMBER_IN_POSTER</th>\n",
       "      <th>NUM_USER_FOR_REVIEWS</th>\n",
       "      <th>BUDGET</th>\n",
       "      <th>TITLE_YEAR</th>\n",
       "      <th>ACTOR_2_FACEBOOK_LIKES</th>\n",
       "      <th>IMDB_SCORE</th>\n",
       "      <th>TITLE_YEAR.1</th>\n",
       "    </tr>\n",
       "  </thead>\n",
       "  <tbody>\n",
       "    <tr>\n",
       "      <th>2</th>\n",
       "      <td>Spectre?ï¿½</td>\n",
       "      <td>602</td>\n",
       "      <td>148.0</td>\n",
       "      <td>20</td>\n",
       "      <td>161</td>\n",
       "      <td>11000</td>\n",
       "      <td>200074175</td>\n",
       "      <td>275868.0</td>\n",
       "      <td>11700.0</td>\n",
       "      <td>1.0</td>\n",
       "      <td>994</td>\n",
       "      <td>245000000</td>\n",
       "      <td>2015</td>\n",
       "      <td>393.0</td>\n",
       "      <td>6.8</td>\n",
       "      <td>2015.0</td>\n",
       "    </tr>\n",
       "    <tr>\n",
       "      <th>8</th>\n",
       "      <td>Avengers: Age of Ultron?ï¿½</td>\n",
       "      <td>635</td>\n",
       "      <td>141.0</td>\n",
       "      <td>10</td>\n",
       "      <td>19000</td>\n",
       "      <td>26000</td>\n",
       "      <td>458991599</td>\n",
       "      <td>462669.0</td>\n",
       "      <td>92000.0</td>\n",
       "      <td>4.0</td>\n",
       "      <td>1117</td>\n",
       "      <td>250000000</td>\n",
       "      <td>2015</td>\n",
       "      <td>21000.0</td>\n",
       "      <td>7.5</td>\n",
       "      <td>2015.0</td>\n",
       "    </tr>\n",
       "    <tr>\n",
       "      <th>12</th>\n",
       "      <td>Quantum of Solace?ï¿½</td>\n",
       "      <td>403</td>\n",
       "      <td>106.0</td>\n",
       "      <td>395</td>\n",
       "      <td>393</td>\n",
       "      <td>451</td>\n",
       "      <td>168368427</td>\n",
       "      <td>330784.0</td>\n",
       "      <td>2023.0</td>\n",
       "      <td>1.0</td>\n",
       "      <td>1243</td>\n",
       "      <td>200000000</td>\n",
       "      <td>2008</td>\n",
       "      <td>412.0</td>\n",
       "      <td>6.7</td>\n",
       "      <td>2008.0</td>\n",
       "    </tr>\n",
       "    <tr>\n",
       "      <th>13</th>\n",
       "      <td>Pirates of the Caribbean: Dead Man's Chest?ï¿½</td>\n",
       "      <td>313</td>\n",
       "      <td>151.0</td>\n",
       "      <td>563</td>\n",
       "      <td>1000</td>\n",
       "      <td>40000</td>\n",
       "      <td>423032628</td>\n",
       "      <td>522040.0</td>\n",
       "      <td>48486.0</td>\n",
       "      <td>2.0</td>\n",
       "      <td>1832</td>\n",
       "      <td>225000000</td>\n",
       "      <td>2006</td>\n",
       "      <td>5000.0</td>\n",
       "      <td>7.3</td>\n",
       "      <td>2008.0</td>\n",
       "    </tr>\n",
       "  </tbody>\n",
       "</table>\n",
       "</div>"
      ],
      "text/plain": [
       "                                       MOVIE_TITLE  NUM_CRITIC_FOR_REVIEWS  \\\n",
       "2                                      Spectre?ï¿½                     602   \n",
       "8                      Avengers: Age of Ultron?ï¿½                     635   \n",
       "12                           Quantum of Solace?ï¿½                     403   \n",
       "13  Pirates of the Caribbean: Dead Man's Chest?ï¿½                     313   \n",
       "\n",
       "    DURATION DIRECTOR_FACEBOOK_LIKES  ACTOR_3_FACEBOOK_LIKES  \\\n",
       "2      148.0                      20                     161   \n",
       "8      141.0                      10                   19000   \n",
       "12     106.0                     395                     393   \n",
       "13     151.0                     563                    1000   \n",
       "\n",
       "    ACTOR_1_FACEBOOK_LIKES      GROSS  NUM_VOTED_USERS  \\\n",
       "2                    11000  200074175         275868.0   \n",
       "8                    26000  458991599         462669.0   \n",
       "12                     451  168368427         330784.0   \n",
       "13                   40000  423032628         522040.0   \n",
       "\n",
       "    CAST_TOTAL_FACEBOOK_LIKES  FACENUMBER_IN_POSTER  NUM_USER_FOR_REVIEWS  \\\n",
       "2                     11700.0                   1.0                   994   \n",
       "8                     92000.0                   4.0                  1117   \n",
       "12                     2023.0                   1.0                  1243   \n",
       "13                    48486.0                   2.0                  1832   \n",
       "\n",
       "       BUDGET  TITLE_YEAR  ACTOR_2_FACEBOOK_LIKES  IMDB_SCORE  TITLE_YEAR.1  \n",
       "2   245000000        2015                   393.0         6.8        2015.0  \n",
       "8   250000000        2015                 21000.0         7.5        2015.0  \n",
       "12  200000000        2008                   412.0         6.7        2008.0  \n",
       "13  225000000        2006                  5000.0         7.3        2008.0  "
      ]
     },
     "execution_count": 132,
     "metadata": {},
     "output_type": "execute_result"
    }
   ],
   "source": [
    "df_drop"
   ]
  },
  {
   "cell_type": "code",
   "execution_count": 133,
   "id": "9ff2d516-f31f-421a-a2a9-0e0c83a02379",
   "metadata": {},
   "outputs": [],
   "source": [
    "df_with_condition = df.dropna(how = 'any') # a condition that specifies how you want to drop a data."
   ]
  },
  {
   "cell_type": "code",
   "execution_count": 134,
   "id": "997a1550-be67-4ce2-98ec-9235fcb204d3",
   "metadata": {},
   "outputs": [],
   "source": [
    "df_with_condition = df.dropna(thresh = 2) # a condition that allows for dropping missing values incase it has more "
   ]
  },
  {
   "cell_type": "code",
   "execution_count": 135,
   "id": "84987c49-2f50-478e-a729-3dfa039eb211",
   "metadata": {},
   "outputs": [
    {
     "data": {
      "text/plain": [
       "\u001b[1;31mSignature:\u001b[0m\n",
       "\u001b[0mdf\u001b[0m\u001b[1;33m.\u001b[0m\u001b[0mdropna\u001b[0m\u001b[1;33m(\u001b[0m\u001b[1;33m\n",
       "\u001b[0m    \u001b[0maxis\u001b[0m\u001b[1;33m:\u001b[0m \u001b[1;34m'Axis'\u001b[0m \u001b[1;33m=\u001b[0m \u001b[1;36m0\u001b[0m\u001b[1;33m,\u001b[0m\u001b[1;33m\n",
       "\u001b[0m    \u001b[0mhow\u001b[0m\u001b[1;33m:\u001b[0m \u001b[1;34m'str'\u001b[0m \u001b[1;33m=\u001b[0m \u001b[1;34m'any'\u001b[0m\u001b[1;33m,\u001b[0m\u001b[1;33m\n",
       "\u001b[0m    \u001b[0mthresh\u001b[0m\u001b[1;33m=\u001b[0m\u001b[1;32mNone\u001b[0m\u001b[1;33m,\u001b[0m\u001b[1;33m\n",
       "\u001b[0m    \u001b[0msubset\u001b[0m\u001b[1;33m=\u001b[0m\u001b[1;32mNone\u001b[0m\u001b[1;33m,\u001b[0m\u001b[1;33m\n",
       "\u001b[0m    \u001b[0minplace\u001b[0m\u001b[1;33m:\u001b[0m \u001b[1;34m'bool'\u001b[0m \u001b[1;33m=\u001b[0m \u001b[1;32mFalse\u001b[0m\u001b[1;33m,\u001b[0m\u001b[1;33m\n",
       "\u001b[0m\u001b[1;33m)\u001b[0m\u001b[1;33m\u001b[0m\u001b[1;33m\u001b[0m\u001b[0m\n",
       "\u001b[1;31mDocstring:\u001b[0m\n",
       "Remove missing values.\n",
       "\n",
       "See the :ref:`User Guide <missing_data>` for more on which values are\n",
       "considered missing, and how to work with missing data.\n",
       "\n",
       "Parameters\n",
       "----------\n",
       "axis : {0 or 'index', 1 or 'columns'}, default 0\n",
       "    Determine if rows or columns which contain missing values are\n",
       "    removed.\n",
       "\n",
       "    * 0, or 'index' : Drop rows which contain missing values.\n",
       "    * 1, or 'columns' : Drop columns which contain missing value.\n",
       "\n",
       "    .. versionchanged:: 1.0.0\n",
       "\n",
       "       Pass tuple or list to drop on multiple axes.\n",
       "       Only a single axis is allowed.\n",
       "\n",
       "how : {'any', 'all'}, default 'any'\n",
       "    Determine if row or column is removed from DataFrame, when we have\n",
       "    at least one NA or all NA.\n",
       "\n",
       "    * 'any' : If any NA values are present, drop that row or column.\n",
       "    * 'all' : If all values are NA, drop that row or column.\n",
       "\n",
       "thresh : int, optional\n",
       "    Require that many non-NA values.\n",
       "subset : array-like, optional\n",
       "    Labels along other axis to consider, e.g. if you are dropping rows\n",
       "    these would be a list of columns to include.\n",
       "inplace : bool, default False\n",
       "    If True, do operation inplace and return None.\n",
       "\n",
       "Returns\n",
       "-------\n",
       "DataFrame or None\n",
       "    DataFrame with NA entries dropped from it or None if ``inplace=True``.\n",
       "\n",
       "See Also\n",
       "--------\n",
       "DataFrame.isna: Indicate missing values.\n",
       "DataFrame.notna : Indicate existing (non-missing) values.\n",
       "DataFrame.fillna : Replace missing values.\n",
       "Series.dropna : Drop missing values.\n",
       "Index.dropna : Drop missing indices.\n",
       "\n",
       "Examples\n",
       "--------\n",
       ">>> df = pd.DataFrame({\"name\": ['Alfred', 'Batman', 'Catwoman'],\n",
       "...                    \"toy\": [np.nan, 'Batmobile', 'Bullwhip'],\n",
       "...                    \"born\": [pd.NaT, pd.Timestamp(\"1940-04-25\"),\n",
       "...                             pd.NaT]})\n",
       ">>> df\n",
       "       name        toy       born\n",
       "0    Alfred        NaN        NaT\n",
       "1    Batman  Batmobile 1940-04-25\n",
       "2  Catwoman   Bullwhip        NaT\n",
       "\n",
       "Drop the rows where at least one element is missing.\n",
       "\n",
       ">>> df.dropna()\n",
       "     name        toy       born\n",
       "1  Batman  Batmobile 1940-04-25\n",
       "\n",
       "Drop the columns where at least one element is missing.\n",
       "\n",
       ">>> df.dropna(axis='columns')\n",
       "       name\n",
       "0    Alfred\n",
       "1    Batman\n",
       "2  Catwoman\n",
       "\n",
       "Drop the rows where all elements are missing.\n",
       "\n",
       ">>> df.dropna(how='all')\n",
       "       name        toy       born\n",
       "0    Alfred        NaN        NaT\n",
       "1    Batman  Batmobile 1940-04-25\n",
       "2  Catwoman   Bullwhip        NaT\n",
       "\n",
       "Keep only the rows with at least 2 non-NA values.\n",
       "\n",
       ">>> df.dropna(thresh=2)\n",
       "       name        toy       born\n",
       "1    Batman  Batmobile 1940-04-25\n",
       "2  Catwoman   Bullwhip        NaT\n",
       "\n",
       "Define in which columns to look for missing values.\n",
       "\n",
       ">>> df.dropna(subset=['name', 'toy'])\n",
       "       name        toy       born\n",
       "1    Batman  Batmobile 1940-04-25\n",
       "2  Catwoman   Bullwhip        NaT\n",
       "\n",
       "Keep the DataFrame with valid entries in the same variable.\n",
       "\n",
       ">>> df.dropna(inplace=True)\n",
       ">>> df\n",
       "     name        toy       born\n",
       "1  Batman  Batmobile 1940-04-25\n",
       "\u001b[1;31mFile:\u001b[0m      c:\\users\\user\\anaconda3\\lib\\site-packages\\pandas\\core\\frame.py\n",
       "\u001b[1;31mType:\u001b[0m      method\n"
      ]
     },
     "metadata": {},
     "output_type": "display_data"
    }
   ],
   "source": [
    "?df.dropna"
   ]
  },
  {
   "cell_type": "code",
   "execution_count": 136,
   "id": "1279622c-86c2-4fa4-a693-66ede5707813",
   "metadata": {},
   "outputs": [],
   "source": [
    "df_with_condition = df.dropna(thresh = 1)"
   ]
  },
  {
   "cell_type": "code",
   "execution_count": 137,
   "id": "b78f8c91-357d-4824-b4e3-77c5af9a026c",
   "metadata": {},
   "outputs": [
    {
     "data": {
      "text/plain": [
       "(14, 16)"
      ]
     },
     "execution_count": 137,
     "metadata": {},
     "output_type": "execute_result"
    }
   ],
   "source": [
    "df_with_condition.shape"
   ]
  },
  {
   "cell_type": "code",
   "execution_count": 138,
   "id": "f4a02966-45f2-4a88-942f-1c1ab32a0346",
   "metadata": {},
   "outputs": [],
   "source": [
    "df_drop_column = df.dropna(axis = 1) # drops or deletes useless colums"
   ]
  },
  {
   "cell_type": "code",
   "execution_count": 139,
   "id": "7ca3ea77-3861-41e3-ab4c-0f6eba006d04",
   "metadata": {},
   "outputs": [
    {
     "data": {
      "text/plain": [
       "(14, 9)"
      ]
     },
     "execution_count": 139,
     "metadata": {},
     "output_type": "execute_result"
    }
   ],
   "source": [
    "df_drop_column.shape"
   ]
  },
  {
   "cell_type": "markdown",
   "id": "5ca79e22-7895-4167-aa2e-4e804e8b37a7",
   "metadata": {},
   "source": [
    "## Data Cleaning In Python Practical Examples 3 ##"
   ]
  },
  {
   "cell_type": "code",
   "execution_count": 140,
   "id": "e24d89e4-a43d-4262-b61d-6978f1aa6c66",
   "metadata": {},
   "outputs": [],
   "source": [
    "# Load Packages\n",
    "import pandas as pd"
   ]
  },
  {
   "cell_type": "code",
   "execution_count": 141,
   "id": "bc3f51a8-18af-494f-90d0-b5be75db9749",
   "metadata": {},
   "outputs": [],
   "source": [
    "# Load Dataset\n",
    "df = pd.read_csv('C:\\\\Users\\\\user\\\\Desktop\\\\Jupyter notebooks for Data Science\\\\dataset.csv')"
   ]
  },
  {
   "cell_type": "markdown",
   "id": "f136bf15-12e8-441e-a480-3921b7ee405d",
   "metadata": {},
   "source": [
    "df.head()"
   ]
  },
  {
   "cell_type": "code",
   "execution_count": 142,
   "id": "8134fa3a-bdca-420a-9210-d13b7e1f9401",
   "metadata": {},
   "outputs": [
    {
     "data": {
      "text/plain": [
       "Index(['id', 'Full Name', 'Date of Birth', 'email', 'gender', 'Job', 'Company',\n",
       "       'Country', 'Salary', 'Phone', 'Quote', 'Income', 'Income.1'],\n",
       "      dtype='object')"
      ]
     },
     "execution_count": 142,
     "metadata": {},
     "output_type": "execute_result"
    }
   ],
   "source": [
    "df.columns"
   ]
  },
  {
   "cell_type": "code",
   "execution_count": 143,
   "id": "2286b50c-10b1-41d8-bf49-c278fc44e04c",
   "metadata": {},
   "outputs": [
    {
     "data": {
      "text/plain": [
       "Index(['id', 'full name', 'date of birth', 'email', 'gender', 'job', 'company',\n",
       "       'country', 'salary', 'phone', 'quote', 'income', 'income.1'],\n",
       "      dtype='object')"
      ]
     },
     "execution_count": 143,
     "metadata": {},
     "output_type": "execute_result"
    }
   ],
   "source": [
    "df.columns.str.lower()"
   ]
  },
  {
   "cell_type": "code",
   "execution_count": 144,
   "id": "0a9e0c8e-b0cf-44a6-a60a-a4d31c434d5d",
   "metadata": {},
   "outputs": [],
   "source": [
    "df.columns = df.columns.str.lower()"
   ]
  },
  {
   "cell_type": "code",
   "execution_count": 145,
   "id": "6e23c48a-24fa-4cb3-a313-4a32a7ea625c",
   "metadata": {},
   "outputs": [
    {
     "data": {
      "text/html": [
       "<div>\n",
       "<style scoped>\n",
       "    .dataframe tbody tr th:only-of-type {\n",
       "        vertical-align: middle;\n",
       "    }\n",
       "\n",
       "    .dataframe tbody tr th {\n",
       "        vertical-align: top;\n",
       "    }\n",
       "\n",
       "    .dataframe thead th {\n",
       "        text-align: right;\n",
       "    }\n",
       "</style>\n",
       "<table border=\"1\" class=\"dataframe\">\n",
       "  <thead>\n",
       "    <tr style=\"text-align: right;\">\n",
       "      <th></th>\n",
       "      <th>id</th>\n",
       "      <th>full name</th>\n",
       "      <th>date of birth</th>\n",
       "      <th>email</th>\n",
       "      <th>gender</th>\n",
       "      <th>job</th>\n",
       "      <th>company</th>\n",
       "      <th>country</th>\n",
       "      <th>salary</th>\n",
       "      <th>phone</th>\n",
       "      <th>quote</th>\n",
       "      <th>income</th>\n",
       "      <th>income.1</th>\n",
       "    </tr>\n",
       "  </thead>\n",
       "  <tbody>\n",
       "    <tr>\n",
       "      <th>0</th>\n",
       "      <td>1</td>\n",
       "      <td>Salim Pound</td>\n",
       "      <td>2/12/2018</td>\n",
       "      <td>spound0@spotify.com</td>\n",
       "      <td>Male</td>\n",
       "      <td>Editor</td>\n",
       "      <td>Gigashots</td>\n",
       "      <td>Israel</td>\n",
       "      <td>19QtDp5HkyuZZqwwqzYPSSLuA7MXFCwfKL</td>\n",
       "      <td>610-741-3882</td>\n",
       "      <td>Compatible discrete leverage</td>\n",
       "      <td>46476.638080</td>\n",
       "      <td>$46476.6380809961</td>\n",
       "    </tr>\n",
       "    <tr>\n",
       "      <th>1</th>\n",
       "      <td>2</td>\n",
       "      <td>Madelene Lutas</td>\n",
       "      <td>9/20/2018</td>\n",
       "      <td>mlutas1@si.edu</td>\n",
       "      <td>Female</td>\n",
       "      <td>VP Marketing</td>\n",
       "      <td>Wikivu</td>\n",
       "      <td>Mongolia</td>\n",
       "      <td>17ADLE8HiTj7m1tTbzboLDn7eiZ4TjetzZ</td>\n",
       "      <td>221-725-8860</td>\n",
       "      <td>Grass-roots real-time algorithm</td>\n",
       "      <td>54174.687950</td>\n",
       "      <td>$54174.6879482406</td>\n",
       "    </tr>\n",
       "    <tr>\n",
       "      <th>2</th>\n",
       "      <td>3</td>\n",
       "      <td>Dolli Swanbourne</td>\n",
       "      <td>11/18/2018</td>\n",
       "      <td>dswanbourne2@istockphoto.com</td>\n",
       "      <td>Female</td>\n",
       "      <td>Associate Professor</td>\n",
       "      <td>Dabfeed</td>\n",
       "      <td>Vietnam</td>\n",
       "      <td>16ThVxH72YAXWiEBeBZB1WYtXcfJMwUtoB</td>\n",
       "      <td>303-720-8280</td>\n",
       "      <td>Innovative system-worthy definition</td>\n",
       "      <td>5449.873348</td>\n",
       "      <td>$5449.87334818567</td>\n",
       "    </tr>\n",
       "    <tr>\n",
       "      <th>3</th>\n",
       "      <td>4</td>\n",
       "      <td>Graeme Croisier</td>\n",
       "      <td>9/29/2018</td>\n",
       "      <td>gcroisier3@parallels.com</td>\n",
       "      <td>Male</td>\n",
       "      <td>Mechanical Systems Engineer</td>\n",
       "      <td>Trudoo</td>\n",
       "      <td>Bosnia and Herzegovina</td>\n",
       "      <td>1JLUVwmjHvxgh53C7Afie3pWbjrYxV9Fnx</td>\n",
       "      <td>673-794-9917</td>\n",
       "      <td>Customer-focused didactic extranet</td>\n",
       "      <td>46784.630880</td>\n",
       "      <td>$46784.6308786279</td>\n",
       "    </tr>\n",
       "    <tr>\n",
       "      <th>4</th>\n",
       "      <td>5</td>\n",
       "      <td>Jillana Physic</td>\n",
       "      <td>4/19/2018</td>\n",
       "      <td>jphysic4@yellowbook.com</td>\n",
       "      <td>Female</td>\n",
       "      <td>Account Executive</td>\n",
       "      <td>Buzzshare</td>\n",
       "      <td>China</td>\n",
       "      <td>1DaEUNoAWL68pnvThSM5eBYgQMTv9mKyFG</td>\n",
       "      <td>709-146-6263</td>\n",
       "      <td>Progressive dynamic model</td>\n",
       "      <td>57486.495560</td>\n",
       "      <td>$57486.4955595568</td>\n",
       "    </tr>\n",
       "    <tr>\n",
       "      <th>...</th>\n",
       "      <td>...</td>\n",
       "      <td>...</td>\n",
       "      <td>...</td>\n",
       "      <td>...</td>\n",
       "      <td>...</td>\n",
       "      <td>...</td>\n",
       "      <td>...</td>\n",
       "      <td>...</td>\n",
       "      <td>...</td>\n",
       "      <td>...</td>\n",
       "      <td>...</td>\n",
       "      <td>...</td>\n",
       "      <td>...</td>\n",
       "    </tr>\n",
       "    <tr>\n",
       "      <th>995</th>\n",
       "      <td>996</td>\n",
       "      <td>Willie Gravestone</td>\n",
       "      <td>1/17/2018</td>\n",
       "      <td>wgravestonern@typepad.com</td>\n",
       "      <td>Female</td>\n",
       "      <td>Junior Executive</td>\n",
       "      <td>Cogilith</td>\n",
       "      <td>China</td>\n",
       "      <td>1NhweMA6xVPvFfYyQfRvusazTkMvuP8kap</td>\n",
       "      <td>717-137-5667</td>\n",
       "      <td>Automated content-based superstructure</td>\n",
       "      <td>33868.404190</td>\n",
       "      <td>$33868.4041871395</td>\n",
       "    </tr>\n",
       "    <tr>\n",
       "      <th>996</th>\n",
       "      <td>997</td>\n",
       "      <td>Samara McRitchie</td>\n",
       "      <td>12/10/2018</td>\n",
       "      <td>smcritchiero@wikispaces.com</td>\n",
       "      <td>Female</td>\n",
       "      <td>Media Manager II</td>\n",
       "      <td>Edgewire</td>\n",
       "      <td>Philippines</td>\n",
       "      <td>1t9C9e457Z6efZCZ46Ywm84Xgw79WEBW9</td>\n",
       "      <td>583-849-4461</td>\n",
       "      <td>Proactive content-based throughput</td>\n",
       "      <td>46290.780360</td>\n",
       "      <td>$46290.7803582873</td>\n",
       "    </tr>\n",
       "    <tr>\n",
       "      <th>997</th>\n",
       "      <td>998</td>\n",
       "      <td>Joceline Josefowicz</td>\n",
       "      <td>10/18/2018</td>\n",
       "      <td>jjosefowiczrp@statcounter.com</td>\n",
       "      <td>Female</td>\n",
       "      <td>Design Engineer</td>\n",
       "      <td>Mynte</td>\n",
       "      <td>Puerto Rico</td>\n",
       "      <td>13pFvvCyTz5AFNhk7ugp9G6aYA89wVJFns</td>\n",
       "      <td>934-388-0702</td>\n",
       "      <td>Phased transitional monitoring</td>\n",
       "      <td>24202.032530</td>\n",
       "      <td>$24202.0325327311</td>\n",
       "    </tr>\n",
       "    <tr>\n",
       "      <th>998</th>\n",
       "      <td>999</td>\n",
       "      <td>Andrei Lestor</td>\n",
       "      <td>1/16/2018</td>\n",
       "      <td>alestorrq@storify.com</td>\n",
       "      <td>Female</td>\n",
       "      <td>Senior Editor</td>\n",
       "      <td>Reallinks</td>\n",
       "      <td>China</td>\n",
       "      <td>1CTz1ejJhKvKUvV7tMgQ97wCguJpRAVZan</td>\n",
       "      <td>706-201-1239</td>\n",
       "      <td>Organic dynamic strategy</td>\n",
       "      <td>54316.293830</td>\n",
       "      <td>$54316.2938322092</td>\n",
       "    </tr>\n",
       "    <tr>\n",
       "      <th>999</th>\n",
       "      <td>1000</td>\n",
       "      <td>Nikkie Langtry</td>\n",
       "      <td>10/30/2018</td>\n",
       "      <td>nlangtryrr@sciencedaily.com</td>\n",
       "      <td>Female</td>\n",
       "      <td>Financial Advisor</td>\n",
       "      <td>Linklinks</td>\n",
       "      <td>Armenia</td>\n",
       "      <td>1JFRCVhkbkR9TFrS2RKezc7HKoteeUHzR</td>\n",
       "      <td>612-915-7537</td>\n",
       "      <td>Managed solution-oriented implementation</td>\n",
       "      <td>56477.000000</td>\n",
       "      <td>$56477</td>\n",
       "    </tr>\n",
       "  </tbody>\n",
       "</table>\n",
       "<p>1000 rows × 13 columns</p>\n",
       "</div>"
      ],
      "text/plain": [
       "       id            full name date of birth                          email  \\\n",
       "0       1          Salim Pound     2/12/2018            spound0@spotify.com   \n",
       "1       2       Madelene Lutas     9/20/2018                 mlutas1@si.edu   \n",
       "2       3     Dolli Swanbourne    11/18/2018   dswanbourne2@istockphoto.com   \n",
       "3       4      Graeme Croisier     9/29/2018       gcroisier3@parallels.com   \n",
       "4       5       Jillana Physic     4/19/2018        jphysic4@yellowbook.com   \n",
       "..    ...                  ...           ...                            ...   \n",
       "995   996    Willie Gravestone     1/17/2018      wgravestonern@typepad.com   \n",
       "996   997     Samara McRitchie    12/10/2018    smcritchiero@wikispaces.com   \n",
       "997   998  Joceline Josefowicz    10/18/2018  jjosefowiczrp@statcounter.com   \n",
       "998   999        Andrei Lestor     1/16/2018          alestorrq@storify.com   \n",
       "999  1000       Nikkie Langtry    10/30/2018    nlangtryrr@sciencedaily.com   \n",
       "\n",
       "     gender                          job    company                 country  \\\n",
       "0      Male                       Editor  Gigashots                  Israel   \n",
       "1    Female                 VP Marketing     Wikivu                Mongolia   \n",
       "2    Female          Associate Professor    Dabfeed                 Vietnam   \n",
       "3      Male  Mechanical Systems Engineer     Trudoo  Bosnia and Herzegovina   \n",
       "4    Female            Account Executive  Buzzshare                   China   \n",
       "..      ...                          ...        ...                     ...   \n",
       "995  Female             Junior Executive   Cogilith                   China   \n",
       "996  Female             Media Manager II   Edgewire             Philippines   \n",
       "997  Female              Design Engineer      Mynte             Puerto Rico   \n",
       "998  Female                Senior Editor  Reallinks                   China   \n",
       "999  Female            Financial Advisor  Linklinks                 Armenia   \n",
       "\n",
       "                                 salary         phone  \\\n",
       "0    19QtDp5HkyuZZqwwqzYPSSLuA7MXFCwfKL  610-741-3882   \n",
       "1    17ADLE8HiTj7m1tTbzboLDn7eiZ4TjetzZ  221-725-8860   \n",
       "2    16ThVxH72YAXWiEBeBZB1WYtXcfJMwUtoB  303-720-8280   \n",
       "3    1JLUVwmjHvxgh53C7Afie3pWbjrYxV9Fnx  673-794-9917   \n",
       "4    1DaEUNoAWL68pnvThSM5eBYgQMTv9mKyFG  709-146-6263   \n",
       "..                                  ...           ...   \n",
       "995  1NhweMA6xVPvFfYyQfRvusazTkMvuP8kap  717-137-5667   \n",
       "996   1t9C9e457Z6efZCZ46Ywm84Xgw79WEBW9  583-849-4461   \n",
       "997  13pFvvCyTz5AFNhk7ugp9G6aYA89wVJFns  934-388-0702   \n",
       "998  1CTz1ejJhKvKUvV7tMgQ97wCguJpRAVZan  706-201-1239   \n",
       "999   1JFRCVhkbkR9TFrS2RKezc7HKoteeUHzR  612-915-7537   \n",
       "\n",
       "                                        quote        income           income.1  \n",
       "0                Compatible discrete leverage  46476.638080  $46476.6380809961  \n",
       "1             Grass-roots real-time algorithm  54174.687950  $54174.6879482406  \n",
       "2         Innovative system-worthy definition   5449.873348  $5449.87334818567  \n",
       "3          Customer-focused didactic extranet  46784.630880  $46784.6308786279  \n",
       "4                   Progressive dynamic model  57486.495560  $57486.4955595568  \n",
       "..                                        ...           ...                ...  \n",
       "995    Automated content-based superstructure  33868.404190  $33868.4041871395  \n",
       "996        Proactive content-based throughput  46290.780360  $46290.7803582873  \n",
       "997            Phased transitional monitoring  24202.032530  $24202.0325327311  \n",
       "998                  Organic dynamic strategy  54316.293830  $54316.2938322092  \n",
       "999  Managed solution-oriented implementation  56477.000000             $56477  \n",
       "\n",
       "[1000 rows x 13 columns]"
      ]
     },
     "execution_count": 145,
     "metadata": {},
     "output_type": "execute_result"
    }
   ],
   "source": [
    "# Renaming\n",
    "df.rename(columns = {'full name': 'full name', 'date of birth': 'date of birth'})"
   ]
  },
  {
   "cell_type": "code",
   "execution_count": 146,
   "id": "d7b81616-213f-415c-8590-a308f97e7150",
   "metadata": {},
   "outputs": [
    {
     "data": {
      "text/plain": [
       "Index(['id', 'full name', 'date of birth', 'email', 'gender', 'job', 'company',\n",
       "       'country', 'salary', 'phone', 'quote', 'income', 'income.1'],\n",
       "      dtype='object')"
      ]
     },
     "execution_count": 146,
     "metadata": {},
     "output_type": "execute_result"
    }
   ],
   "source": [
    "df.columns"
   ]
  },
  {
   "cell_type": "code",
   "execution_count": 147,
   "id": "b9575a11-7ff7-463f-bdb4-c37c952f5c12",
   "metadata": {},
   "outputs": [],
   "source": [
    "df.rename(columns = {'full name': 'full_name', 'date of birth': 'date_of_birth'}, inplace = True)"
   ]
  },
  {
   "cell_type": "code",
   "execution_count": 148,
   "id": "1983353b-b92e-4a0b-a70b-9793f0dc1478",
   "metadata": {},
   "outputs": [
    {
     "data": {
      "text/plain": [
       "Index(['id', 'full_name', 'date_of_birth', 'email', 'gender', 'job', 'company',\n",
       "       'country', 'salary', 'phone', 'quote', 'income', 'income.1'],\n",
       "      dtype='object')"
      ]
     },
     "execution_count": 148,
     "metadata": {},
     "output_type": "execute_result"
    }
   ],
   "source": [
    "df.columns"
   ]
  },
  {
   "cell_type": "markdown",
   "id": "5339e7bf-b538-4c6e-adb4-a9c123c239dc",
   "metadata": {},
   "source": [
    "Splitting columns into multiple"
   ]
  },
  {
   "cell_type": "code",
   "execution_count": 149,
   "id": "b318db42-af3c-4d64-b9c7-4f280ce98266",
   "metadata": {},
   "outputs": [
    {
     "data": {
      "text/plain": [
       "0              Salim Pound\n",
       "1           Madelene Lutas\n",
       "2         Dolli Swanbourne\n",
       "3          Graeme Croisier\n",
       "4           Jillana Physic\n",
       "              ...         \n",
       "995      Willie Gravestone\n",
       "996       Samara McRitchie\n",
       "997    Joceline Josefowicz\n",
       "998          Andrei Lestor\n",
       "999         Nikkie Langtry\n",
       "Name: full_name, Length: 1000, dtype: object"
      ]
     },
     "execution_count": 149,
     "metadata": {},
     "output_type": "execute_result"
    }
   ],
   "source": [
    "# Method 1\n",
    "df.full_name"
   ]
  },
  {
   "cell_type": "code",
   "execution_count": 150,
   "id": "581271af-96dc-4a24-847b-5986c72022ff",
   "metadata": {},
   "outputs": [
    {
     "data": {
      "text/plain": [
       "0                  [, S, a, l, i, m,  , P, o, u, n, d, ]\n",
       "1         [, M, a, d, e, l, e, n, e,  , L, u, t, a, s, ]\n",
       "2      [, D, o, l, l, i,  , S, w, a, n, b, o, u, r, n...\n",
       "3      [, G, r, a, e, m, e,  , C, r, o, i, s, i, e, r, ]\n",
       "4         [, J, i, l, l, a, n, a,  , P, h, y, s, i, c, ]\n",
       "                             ...                        \n",
       "995    [, W, i, l, l, i, e,  , G, r, a, v, e, s, t, o...\n",
       "996    [, S, a, m, a, r, a,  , M, c, R, i, t, c, h, i...\n",
       "997    [, J, o, c, e, l, i, n, e,  , J, o, s, e, f, o...\n",
       "998          [, A, n, d, r, e, i,  , L, e, s, t, o, r, ]\n",
       "999       [, N, i, k, k, i, e,  , L, a, n, g, t, r, y, ]\n",
       "Name: full_name, Length: 1000, dtype: object"
      ]
     },
     "execution_count": 150,
     "metadata": {},
     "output_type": "execute_result"
    }
   ],
   "source": [
    "df.full_name.str.split(\"\")"
   ]
  },
  {
   "cell_type": "code",
   "execution_count": 151,
   "id": "097d43ce-91bc-47c2-857b-eb87a56125be",
   "metadata": {},
   "outputs": [
    {
     "data": {
      "text/plain": [
       "['', 'S', 'a', 'l', 'i', 'm', ' ', 'P', 'o', 'u', 'n', 'd', '']"
      ]
     },
     "execution_count": 151,
     "metadata": {},
     "output_type": "execute_result"
    }
   ],
   "source": [
    "df.full_name.str.split(\"\")[0]"
   ]
  },
  {
   "cell_type": "code",
   "execution_count": 152,
   "id": "7ef83102-df7f-40b9-80b6-58d2baa37980",
   "metadata": {},
   "outputs": [
    {
     "data": {
      "text/plain": [
       "0       \n",
       "1       \n",
       "2       \n",
       "3       \n",
       "4       \n",
       "      ..\n",
       "995     \n",
       "996     \n",
       "997     \n",
       "998     \n",
       "999     \n",
       "Name: full_name, Length: 1000, dtype: object"
      ]
     },
     "execution_count": 152,
     "metadata": {},
     "output_type": "execute_result"
    }
   ],
   "source": [
    "df.full_name.str.split(\"\").str.get(0)"
   ]
  },
  {
   "cell_type": "code",
   "execution_count": 153,
   "id": "dcc84772-ba24-4534-a46d-11c50752a78b",
   "metadata": {},
   "outputs": [],
   "source": [
    "df['firstname'] = df.full_name.str.split(\"\").str.get(0)"
   ]
  },
  {
   "cell_type": "code",
   "execution_count": 154,
   "id": "98a87455-ca9b-4055-bdd9-fcb4dd65526a",
   "metadata": {},
   "outputs": [
    {
     "data": {
      "text/plain": [
       "0       \n",
       "1       \n",
       "2       \n",
       "3       \n",
       "4       \n",
       "      ..\n",
       "995     \n",
       "996     \n",
       "997     \n",
       "998     \n",
       "999     \n",
       "Name: firstname, Length: 1000, dtype: object"
      ]
     },
     "execution_count": 154,
     "metadata": {},
     "output_type": "execute_result"
    }
   ],
   "source": [
    "df.firstname"
   ]
  },
  {
   "cell_type": "code",
   "execution_count": 155,
   "id": "fe3d4a33-1ae6-4c51-a181-9b89176dbcf3",
   "metadata": {},
   "outputs": [],
   "source": [
    "df['lastname'] = df.full_name.str.split(\"\").str.get(1)"
   ]
  },
  {
   "cell_type": "code",
   "execution_count": 156,
   "id": "0bdbf82e-0ebc-4a8b-80fe-fccfe19fc17e",
   "metadata": {},
   "outputs": [
    {
     "data": {
      "text/plain": [
       "0      S\n",
       "1      M\n",
       "2      D\n",
       "3      G\n",
       "4      J\n",
       "      ..\n",
       "995    W\n",
       "996    S\n",
       "997    J\n",
       "998    A\n",
       "999    N\n",
       "Name: lastname, Length: 1000, dtype: object"
      ]
     },
     "execution_count": 156,
     "metadata": {},
     "output_type": "execute_result"
    }
   ],
   "source": [
    "df.lastname"
   ]
  },
  {
   "cell_type": "code",
   "execution_count": 157,
   "id": "07cb3022-0ccf-4536-a443-9b4ef4a20363",
   "metadata": {},
   "outputs": [
    {
     "data": {
      "text/plain": [
       "0              Salim Pound\n",
       "1           Madelene Lutas\n",
       "2         Dolli Swanbourne\n",
       "3          Graeme Croisier\n",
       "4           Jillana Physic\n",
       "              ...         \n",
       "995      Willie Gravestone\n",
       "996       Samara McRitchie\n",
       "997    Joceline Josefowicz\n",
       "998          Andrei Lestor\n",
       "999         Nikkie Langtry\n",
       "Name: full_name, Length: 1000, dtype: object"
      ]
     },
     "execution_count": 157,
     "metadata": {},
     "output_type": "execute_result"
    }
   ],
   "source": [
    "# Method 2\n",
    "df.full_name"
   ]
  },
  {
   "cell_type": "code",
   "execution_count": 159,
   "id": "4787d94b-dac9-4834-8e98-2945e96bcdad",
   "metadata": {},
   "outputs": [
    {
     "data": {
      "text/html": [
       "<div>\n",
       "<style scoped>\n",
       "    .dataframe tbody tr th:only-of-type {\n",
       "        vertical-align: middle;\n",
       "    }\n",
       "\n",
       "    .dataframe tbody tr th {\n",
       "        vertical-align: top;\n",
       "    }\n",
       "\n",
       "    .dataframe thead th {\n",
       "        text-align: right;\n",
       "    }\n",
       "</style>\n",
       "<table border=\"1\" class=\"dataframe\">\n",
       "  <thead>\n",
       "    <tr style=\"text-align: right;\">\n",
       "      <th></th>\n",
       "      <th>0</th>\n",
       "      <th>1</th>\n",
       "      <th>2</th>\n",
       "      <th>3</th>\n",
       "      <th>4</th>\n",
       "      <th>5</th>\n",
       "      <th>6</th>\n",
       "      <th>7</th>\n",
       "      <th>8</th>\n",
       "      <th>9</th>\n",
       "      <th>...</th>\n",
       "      <th>15</th>\n",
       "      <th>16</th>\n",
       "      <th>17</th>\n",
       "      <th>18</th>\n",
       "      <th>19</th>\n",
       "      <th>20</th>\n",
       "      <th>21</th>\n",
       "      <th>22</th>\n",
       "      <th>23</th>\n",
       "      <th>24</th>\n",
       "    </tr>\n",
       "  </thead>\n",
       "  <tbody>\n",
       "    <tr>\n",
       "      <th>0</th>\n",
       "      <td></td>\n",
       "      <td>S</td>\n",
       "      <td>a</td>\n",
       "      <td>l</td>\n",
       "      <td>i</td>\n",
       "      <td>m</td>\n",
       "      <td></td>\n",
       "      <td>P</td>\n",
       "      <td>o</td>\n",
       "      <td>u</td>\n",
       "      <td>...</td>\n",
       "      <td>None</td>\n",
       "      <td>None</td>\n",
       "      <td>None</td>\n",
       "      <td>None</td>\n",
       "      <td>None</td>\n",
       "      <td>None</td>\n",
       "      <td>None</td>\n",
       "      <td>None</td>\n",
       "      <td>None</td>\n",
       "      <td>None</td>\n",
       "    </tr>\n",
       "    <tr>\n",
       "      <th>1</th>\n",
       "      <td></td>\n",
       "      <td>M</td>\n",
       "      <td>a</td>\n",
       "      <td>d</td>\n",
       "      <td>e</td>\n",
       "      <td>l</td>\n",
       "      <td>e</td>\n",
       "      <td>n</td>\n",
       "      <td>e</td>\n",
       "      <td></td>\n",
       "      <td>...</td>\n",
       "      <td></td>\n",
       "      <td>None</td>\n",
       "      <td>None</td>\n",
       "      <td>None</td>\n",
       "      <td>None</td>\n",
       "      <td>None</td>\n",
       "      <td>None</td>\n",
       "      <td>None</td>\n",
       "      <td>None</td>\n",
       "      <td>None</td>\n",
       "    </tr>\n",
       "    <tr>\n",
       "      <th>2</th>\n",
       "      <td></td>\n",
       "      <td>D</td>\n",
       "      <td>o</td>\n",
       "      <td>l</td>\n",
       "      <td>l</td>\n",
       "      <td>i</td>\n",
       "      <td></td>\n",
       "      <td>S</td>\n",
       "      <td>w</td>\n",
       "      <td>a</td>\n",
       "      <td>...</td>\n",
       "      <td>n</td>\n",
       "      <td>e</td>\n",
       "      <td></td>\n",
       "      <td>None</td>\n",
       "      <td>None</td>\n",
       "      <td>None</td>\n",
       "      <td>None</td>\n",
       "      <td>None</td>\n",
       "      <td>None</td>\n",
       "      <td>None</td>\n",
       "    </tr>\n",
       "    <tr>\n",
       "      <th>3</th>\n",
       "      <td></td>\n",
       "      <td>G</td>\n",
       "      <td>r</td>\n",
       "      <td>a</td>\n",
       "      <td>e</td>\n",
       "      <td>m</td>\n",
       "      <td>e</td>\n",
       "      <td></td>\n",
       "      <td>C</td>\n",
       "      <td>r</td>\n",
       "      <td>...</td>\n",
       "      <td>r</td>\n",
       "      <td></td>\n",
       "      <td>None</td>\n",
       "      <td>None</td>\n",
       "      <td>None</td>\n",
       "      <td>None</td>\n",
       "      <td>None</td>\n",
       "      <td>None</td>\n",
       "      <td>None</td>\n",
       "      <td>None</td>\n",
       "    </tr>\n",
       "    <tr>\n",
       "      <th>4</th>\n",
       "      <td></td>\n",
       "      <td>J</td>\n",
       "      <td>i</td>\n",
       "      <td>l</td>\n",
       "      <td>l</td>\n",
       "      <td>a</td>\n",
       "      <td>n</td>\n",
       "      <td>a</td>\n",
       "      <td></td>\n",
       "      <td>P</td>\n",
       "      <td>...</td>\n",
       "      <td></td>\n",
       "      <td>None</td>\n",
       "      <td>None</td>\n",
       "      <td>None</td>\n",
       "      <td>None</td>\n",
       "      <td>None</td>\n",
       "      <td>None</td>\n",
       "      <td>None</td>\n",
       "      <td>None</td>\n",
       "      <td>None</td>\n",
       "    </tr>\n",
       "    <tr>\n",
       "      <th>...</th>\n",
       "      <td>...</td>\n",
       "      <td>...</td>\n",
       "      <td>...</td>\n",
       "      <td>...</td>\n",
       "      <td>...</td>\n",
       "      <td>...</td>\n",
       "      <td>...</td>\n",
       "      <td>...</td>\n",
       "      <td>...</td>\n",
       "      <td>...</td>\n",
       "      <td>...</td>\n",
       "      <td>...</td>\n",
       "      <td>...</td>\n",
       "      <td>...</td>\n",
       "      <td>...</td>\n",
       "      <td>...</td>\n",
       "      <td>...</td>\n",
       "      <td>...</td>\n",
       "      <td>...</td>\n",
       "      <td>...</td>\n",
       "      <td>...</td>\n",
       "    </tr>\n",
       "    <tr>\n",
       "      <th>995</th>\n",
       "      <td></td>\n",
       "      <td>W</td>\n",
       "      <td>i</td>\n",
       "      <td>l</td>\n",
       "      <td>l</td>\n",
       "      <td>i</td>\n",
       "      <td>e</td>\n",
       "      <td></td>\n",
       "      <td>G</td>\n",
       "      <td>r</td>\n",
       "      <td>...</td>\n",
       "      <td>o</td>\n",
       "      <td>n</td>\n",
       "      <td>e</td>\n",
       "      <td></td>\n",
       "      <td>None</td>\n",
       "      <td>None</td>\n",
       "      <td>None</td>\n",
       "      <td>None</td>\n",
       "      <td>None</td>\n",
       "      <td>None</td>\n",
       "    </tr>\n",
       "    <tr>\n",
       "      <th>996</th>\n",
       "      <td></td>\n",
       "      <td>S</td>\n",
       "      <td>a</td>\n",
       "      <td>m</td>\n",
       "      <td>a</td>\n",
       "      <td>r</td>\n",
       "      <td>a</td>\n",
       "      <td></td>\n",
       "      <td>M</td>\n",
       "      <td>c</td>\n",
       "      <td>...</td>\n",
       "      <td>i</td>\n",
       "      <td>e</td>\n",
       "      <td></td>\n",
       "      <td>None</td>\n",
       "      <td>None</td>\n",
       "      <td>None</td>\n",
       "      <td>None</td>\n",
       "      <td>None</td>\n",
       "      <td>None</td>\n",
       "      <td>None</td>\n",
       "    </tr>\n",
       "    <tr>\n",
       "      <th>997</th>\n",
       "      <td></td>\n",
       "      <td>J</td>\n",
       "      <td>o</td>\n",
       "      <td>c</td>\n",
       "      <td>e</td>\n",
       "      <td>l</td>\n",
       "      <td>i</td>\n",
       "      <td>n</td>\n",
       "      <td>e</td>\n",
       "      <td></td>\n",
       "      <td>...</td>\n",
       "      <td>o</td>\n",
       "      <td>w</td>\n",
       "      <td>i</td>\n",
       "      <td>c</td>\n",
       "      <td>z</td>\n",
       "      <td></td>\n",
       "      <td>None</td>\n",
       "      <td>None</td>\n",
       "      <td>None</td>\n",
       "      <td>None</td>\n",
       "    </tr>\n",
       "    <tr>\n",
       "      <th>998</th>\n",
       "      <td></td>\n",
       "      <td>A</td>\n",
       "      <td>n</td>\n",
       "      <td>d</td>\n",
       "      <td>r</td>\n",
       "      <td>e</td>\n",
       "      <td>i</td>\n",
       "      <td></td>\n",
       "      <td>L</td>\n",
       "      <td>e</td>\n",
       "      <td>...</td>\n",
       "      <td>None</td>\n",
       "      <td>None</td>\n",
       "      <td>None</td>\n",
       "      <td>None</td>\n",
       "      <td>None</td>\n",
       "      <td>None</td>\n",
       "      <td>None</td>\n",
       "      <td>None</td>\n",
       "      <td>None</td>\n",
       "      <td>None</td>\n",
       "    </tr>\n",
       "    <tr>\n",
       "      <th>999</th>\n",
       "      <td></td>\n",
       "      <td>N</td>\n",
       "      <td>i</td>\n",
       "      <td>k</td>\n",
       "      <td>k</td>\n",
       "      <td>i</td>\n",
       "      <td>e</td>\n",
       "      <td></td>\n",
       "      <td>L</td>\n",
       "      <td>a</td>\n",
       "      <td>...</td>\n",
       "      <td></td>\n",
       "      <td>None</td>\n",
       "      <td>None</td>\n",
       "      <td>None</td>\n",
       "      <td>None</td>\n",
       "      <td>None</td>\n",
       "      <td>None</td>\n",
       "      <td>None</td>\n",
       "      <td>None</td>\n",
       "      <td>None</td>\n",
       "    </tr>\n",
       "  </tbody>\n",
       "</table>\n",
       "<p>1000 rows × 25 columns</p>\n",
       "</div>"
      ],
      "text/plain": [
       "    0  1  2  3  4  5  6  7  8  9   ...    15    16    17    18    19    20  \\\n",
       "0       S  a  l  i  m     P  o  u  ...  None  None  None  None  None  None   \n",
       "1       M  a  d  e  l  e  n  e     ...        None  None  None  None  None   \n",
       "2       D  o  l  l  i     S  w  a  ...     n     e        None  None  None   \n",
       "3       G  r  a  e  m  e     C  r  ...     r        None  None  None  None   \n",
       "4       J  i  l  l  a  n  a     P  ...        None  None  None  None  None   \n",
       "..  .. .. .. .. .. .. .. .. .. ..  ...   ...   ...   ...   ...   ...   ...   \n",
       "995     W  i  l  l  i  e     G  r  ...     o     n     e        None  None   \n",
       "996     S  a  m  a  r  a     M  c  ...     i     e        None  None  None   \n",
       "997     J  o  c  e  l  i  n  e     ...     o     w     i     c     z         \n",
       "998     A  n  d  r  e  i     L  e  ...  None  None  None  None  None  None   \n",
       "999     N  i  k  k  i  e     L  a  ...        None  None  None  None  None   \n",
       "\n",
       "       21    22    23    24  \n",
       "0    None  None  None  None  \n",
       "1    None  None  None  None  \n",
       "2    None  None  None  None  \n",
       "3    None  None  None  None  \n",
       "4    None  None  None  None  \n",
       "..    ...   ...   ...   ...  \n",
       "995  None  None  None  None  \n",
       "996  None  None  None  None  \n",
       "997  None  None  None  None  \n",
       "998  None  None  None  None  \n",
       "999  None  None  None  None  \n",
       "\n",
       "[1000 rows x 25 columns]"
      ]
     },
     "execution_count": 159,
     "metadata": {},
     "output_type": "execute_result"
    }
   ],
   "source": [
    "df.full_name.str.split(\"\", expand = True)"
   ]
  },
  {
   "cell_type": "code",
   "execution_count": 160,
   "id": "b09aac7e-fe07-41fb-8feb-757a5e883d11",
   "metadata": {},
   "outputs": [
    {
     "data": {
      "text/html": [
       "<div>\n",
       "<style scoped>\n",
       "    .dataframe tbody tr th:only-of-type {\n",
       "        vertical-align: middle;\n",
       "    }\n",
       "\n",
       "    .dataframe tbody tr th {\n",
       "        vertical-align: top;\n",
       "    }\n",
       "\n",
       "    .dataframe thead th {\n",
       "        text-align: right;\n",
       "    }\n",
       "</style>\n",
       "<table border=\"1\" class=\"dataframe\">\n",
       "  <thead>\n",
       "    <tr style=\"text-align: right;\">\n",
       "      <th></th>\n",
       "      <th>0</th>\n",
       "      <th>1</th>\n",
       "    </tr>\n",
       "  </thead>\n",
       "  <tbody>\n",
       "    <tr>\n",
       "      <th>0</th>\n",
       "      <td></td>\n",
       "      <td>Salim Pound</td>\n",
       "    </tr>\n",
       "    <tr>\n",
       "      <th>1</th>\n",
       "      <td></td>\n",
       "      <td>Madelene Lutas</td>\n",
       "    </tr>\n",
       "    <tr>\n",
       "      <th>2</th>\n",
       "      <td></td>\n",
       "      <td>Dolli Swanbourne</td>\n",
       "    </tr>\n",
       "    <tr>\n",
       "      <th>3</th>\n",
       "      <td></td>\n",
       "      <td>Graeme Croisier</td>\n",
       "    </tr>\n",
       "    <tr>\n",
       "      <th>4</th>\n",
       "      <td></td>\n",
       "      <td>Jillana Physic</td>\n",
       "    </tr>\n",
       "    <tr>\n",
       "      <th>...</th>\n",
       "      <td>...</td>\n",
       "      <td>...</td>\n",
       "    </tr>\n",
       "    <tr>\n",
       "      <th>995</th>\n",
       "      <td></td>\n",
       "      <td>Willie Gravestone</td>\n",
       "    </tr>\n",
       "    <tr>\n",
       "      <th>996</th>\n",
       "      <td></td>\n",
       "      <td>Samara McRitchie</td>\n",
       "    </tr>\n",
       "    <tr>\n",
       "      <th>997</th>\n",
       "      <td></td>\n",
       "      <td>Joceline Josefowicz</td>\n",
       "    </tr>\n",
       "    <tr>\n",
       "      <th>998</th>\n",
       "      <td></td>\n",
       "      <td>Andrei Lestor</td>\n",
       "    </tr>\n",
       "    <tr>\n",
       "      <th>999</th>\n",
       "      <td></td>\n",
       "      <td>Nikkie Langtry</td>\n",
       "    </tr>\n",
       "  </tbody>\n",
       "</table>\n",
       "<p>1000 rows × 2 columns</p>\n",
       "</div>"
      ],
      "text/plain": [
       "    0                     1\n",
       "0               Salim Pound\n",
       "1            Madelene Lutas\n",
       "2          Dolli Swanbourne\n",
       "3           Graeme Croisier\n",
       "4            Jillana Physic\n",
       "..  ..                  ...\n",
       "995       Willie Gravestone\n",
       "996        Samara McRitchie\n",
       "997     Joceline Josefowicz\n",
       "998           Andrei Lestor\n",
       "999          Nikkie Langtry\n",
       "\n",
       "[1000 rows x 2 columns]"
      ]
     },
     "execution_count": 160,
     "metadata": {},
     "output_type": "execute_result"
    }
   ],
   "source": [
    "df.full_name.str.split(\"\", n=1, expand = True)"
   ]
  },
  {
   "cell_type": "code",
   "execution_count": null,
   "id": "243cdf7c-59ea-43ef-ba3f-63cc2325a984",
   "metadata": {},
   "outputs": [],
   "source": [
    "df.head(3)"
   ]
  },
  {
   "cell_type": "code",
   "execution_count": null,
   "id": "1cbd536a-defb-4d93-969c-bd336976b5d3",
   "metadata": {},
   "outputs": [],
   "source": [
    "# Finding A string/Exp N Replace"
   ]
  },
  {
   "cell_type": "code",
   "execution_count": null,
   "id": "b6dab118-c1b0-426a-8415-54837dcb4ae8",
   "metadata": {},
   "outputs": [],
   "source": [
    "df['income.1']"
   ]
  },
  {
   "cell_type": "code",
   "execution_count": null,
   "id": "01e29e5b-12dc-45b0-a96c-ed9057f7638f",
   "metadata": {},
   "outputs": [],
   "source": [
    "df['income.1'].dtype"
   ]
  },
  {
   "cell_type": "code",
   "execution_count": null,
   "id": "94291571-b545-4da5-afac-503638f393a4",
   "metadata": {},
   "outputs": [],
   "source": [
    "df['income.1'].str.replace('$', '')"
   ]
  },
  {
   "cell_type": "code",
   "execution_count": null,
   "id": "638e626c-f5fc-4145-b9d9-54d26fd91752",
   "metadata": {},
   "outputs": [],
   "source": [
    "df['income.1'].str.replace('$', 'Euro')"
   ]
  },
  {
   "cell_type": "code",
   "execution_count": null,
   "id": "c6bab21e-1c9f-413a-b1b6-d92e62ee82d6",
   "metadata": {},
   "outputs": [],
   "source": [
    "df.head()"
   ]
  },
  {
   "cell_type": "code",
   "execution_count": null,
   "id": "ffe73b2f-fbf3-4b7e-97aa-616bf717ded9",
   "metadata": {},
   "outputs": [],
   "source": [
    "# Finding A string/Expression\n",
    "+ str.contain\n",
    "+ str.filter\n",
    "+ str.match"
   ]
  },
  {
   "cell_type": "code",
   "execution_count": null,
   "id": "cca33e81-0ea7-4428-a82a-4550ac7611c2",
   "metadata": {},
   "outputs": [],
   "source": [
    "df.salary"
   ]
  },
  {
   "cell_type": "code",
   "execution_count": null,
   "id": "64ea79c1-5ddc-4a0f-93ca-20b1040359df",
   "metadata": {},
   "outputs": [],
   "source": [
    "# As Boolean\n",
    "df.salary.str.contains('19')"
   ]
  },
  {
   "cell_type": "code",
   "execution_count": null,
   "id": "8cc8a129-7fe6-411f-b7d0-b48186e17759",
   "metadata": {},
   "outputs": [],
   "source": [
    "# get the actual value\n",
    "df[df.salary.str.contains('19')]"
   ]
  },
  {
   "cell_type": "code",
   "execution_count": null,
   "id": "c3eac6f8-a2ff-4c72-9d77-abe8ccf45c68",
   "metadata": {},
   "outputs": [],
   "source": [
    "df.salary.str.contains('19|17')"
   ]
  },
  {
   "cell_type": "code",
   "execution_count": null,
   "id": "95bb1ad5-72ab-4ba1-b827-f756ccd1ebcc",
   "metadata": {},
   "outputs": [],
   "source": [
    "df.salary.str.contains('19|17', regex = True)"
   ]
  },
  {
   "cell_type": "code",
   "execution_count": null,
   "id": "984b1306-ce9b-4754-a742-da840c8074af",
   "metadata": {},
   "outputs": [],
   "source": [
    "df.salary.str.match('19')"
   ]
  },
  {
   "cell_type": "code",
   "execution_count": null,
   "id": "23ba097c-6ec4-4613-82ee-ad9b94c7e276",
   "metadata": {},
   "outputs": [],
   "source": [
    "df.quote"
   ]
  },
  {
   "cell_type": "code",
   "execution_count": null,
   "id": "b6bfef60-52c4-4d5a-8d36-b88df61fcef9",
   "metadata": {},
   "outputs": [],
   "source": [
    "df[df.quote.str.match('operative')]"
   ]
  },
  {
   "cell_type": "code",
   "execution_count": null,
   "id": "9719d47f-f064-474f-a529-c8740b0966b7",
   "metadata": {},
   "outputs": [],
   "source": [
    "# Finding An Index\n",
    "df.salary.filter(regex = '18', axis = 0)"
   ]
  },
  {
   "cell_type": "code",
   "execution_count": null,
   "id": "4cd02f7d-636f-464e-a784-1e049761b042",
   "metadata": {},
   "outputs": [],
   "source": [
    "# Joining Colunms\n",
    "df.head()"
   ]
  },
  {
   "cell_type": "code",
   "execution_count": null,
   "id": "3b699f9c-ca45-471b-aba4-14e17f7a6d44",
   "metadata": {},
   "outputs": [],
   "source": [
    "# Method 1\n",
    "df.'firstname' + df.'email'"
   ]
  },
  {
   "cell_type": "code",
   "execution_count": null,
   "id": "797944f6-57d9-46f8-8d07-b0d635a36b07",
   "metadata": {},
   "outputs": [],
   "source": [
    "# Method 1\n",
    "df.firstname + '_' + df.email"
   ]
  },
  {
   "cell_type": "code",
   "execution_count": null,
   "id": "d2011540-af3b-4493-92d1-0bd3a6337a50",
   "metadata": {},
   "outputs": [],
   "source": [
    "# Method 2\n",
    "dfall = df[['firstname', 'email']].apply ('_ '.join, axis = 1)"
   ]
  },
  {
   "cell_type": "code",
   "execution_count": null,
   "id": "04e2bc25-4cc6-4458-b601-675a9f9cf97a",
   "metadata": {},
   "outputs": [],
   "source": [
    "dfall"
   ]
  },
  {
   "cell_type": "code",
   "execution_count": null,
   "id": "32f21822-da30-41ed-835c-adeceaa603ad",
   "metadata": {},
   "outputs": [],
   "source": [
    "# Counting Strings in a Column\n",
    "df.quote"
   ]
  },
  {
   "cell_type": "code",
   "execution_count": null,
   "id": "42c31385-149c-4ea8-b664-56dad37527fb",
   "metadata": {},
   "outputs": [],
   "source": [
    "df.quote.str.count('') + 1"
   ]
  },
  {
   "cell_type": "code",
   "execution_count": null,
   "id": "3b61c391-9066-43db-9e97-d2d67698103c",
   "metadata": {},
   "outputs": [],
   "source": [
    "df.quote.str.split().str.len()"
   ]
  },
  {
   "cell_type": "code",
   "execution_count": null,
   "id": "ce2bb537-5b71-44a5-8b33-8a6f09e2f6ed",
   "metadata": {},
   "outputs": [],
   "source": [
    "df.quote.str.split().map(len)"
   ]
  },
  {
   "cell_type": "code",
   "execution_count": null,
   "id": "d2708219-6c1a-4307-8e09-e23e5edc3189",
   "metadata": {},
   "outputs": [],
   "source": [
    "df.quote.str.split().apply(len)"
   ]
  },
  {
   "cell_type": "code",
   "execution_count": null,
   "id": "39479aa4-bf21-470b-8e2c-4194b90c72c4",
   "metadata": {},
   "outputs": [],
   "source": [
    "df.quote.str.split().apply(len).value_counts()"
   ]
  },
  {
   "cell_type": "code",
   "execution_count": null,
   "id": "c2884684-8b41-43d1-9295-f4f0458f90d6",
   "metadata": {},
   "outputs": [],
   "source": []
  }
 ],
 "metadata": {
  "kernelspec": {
   "display_name": "Python 3 (ipykernel)",
   "language": "python",
   "name": "python3"
  },
  "language_info": {
   "codemirror_mode": {
    "name": "ipython",
    "version": 3
   },
   "file_extension": ".py",
   "mimetype": "text/x-python",
   "name": "python",
   "nbconvert_exporter": "python",
   "pygments_lexer": "ipython3",
   "version": "3.9.7"
  }
 },
 "nbformat": 4,
 "nbformat_minor": 5
}
